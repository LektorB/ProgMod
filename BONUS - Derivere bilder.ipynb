{
 "cells": [
  {
   "cell_type": "markdown",
   "metadata": {},
   "source": [
    "# Derivasjon av bilder\n",
    "\n",
    "Når du har lært å derivere numerisk ved hjelp av programmering er det bare fantasien som setter grenser for hva som kan deriveres. I denne notebooken skal vi prøve å derivere bilder og undersøke hva det betyr. Det første vi trenger er å importere `numpy` og `matplotlib.pyplot`. For denne notebooken trenger vi også en til funksjon, nemlig `imread` fra `imageio` pakken."
   ]
  },
  {
   "cell_type": "code",
   "execution_count": 2,
   "metadata": {},
   "outputs": [],
   "source": [
    "import numpy as np\n",
    "import matplotlib.pyplot as plt\n",
    "from imageio import imread"
   ]
  },
  {
   "cell_type": "markdown",
   "metadata": {},
   "source": [
    "For å laste inn et bilde kaller vi på imread og sender inn filnavnet. I vårt tilfelle ønsker vi også at bilde skal bli lastet inn som et gråtonebilde så vi sender inn nøkkelordargumentet `as_gray=True`. "
   ]
  },
  {
   "cell_type": "code",
   "execution_count": 9,
   "metadata": {},
   "outputs": [],
   "source": [
    "img = imread('https://raw.githubusercontent.com/LektorB/ProgMod/main/bilder/dame_stripe_genser.png', as_gray=True)\n",
    "#img = imread('https://raw.githubusercontent.com/LektorB/ProgMod/main/bilder/arkitektur.png', as_gray=True)\n",
    "#img = imread('https://raw.githubusercontent.com/LektorB/ProgMod/main/bilder/zebra1.jpeg', as_gray=True)\n",
    "#img = imread('https://raw.githubusercontent.com/LektorB/ProgMod/main/bilder/zebra2.jpeg', as_gray=True)\n",
    "#img = imread('https://raw.githubusercontent.com/LektorB/ProgMod/main/bilder/dog.png', as_gray=True)"
   ]
  },
  {
   "cell_type": "markdown",
   "metadata": {},
   "source": [
    "Når vi har lest in bildet kan vi printe det ut for å se på verdiene"
   ]
  },
  {
   "cell_type": "code",
   "execution_count": 10,
   "metadata": {},
   "outputs": [
    {
     "name": "stdout",
     "output_type": "stream",
     "text": [
      "[[ 14.  13.  15. ... 153. 151. 148.]\n",
      " [ 14.  16.  19. ... 151. 154. 152.]\n",
      " [ 19.  22.  35. ... 153. 150. 155.]\n",
      " ...\n",
      " [213. 214. 214. ... 206. 206. 206.]\n",
      " [213. 213. 213. ... 206. 206. 206.]\n",
      " [211. 213. 213. ... 206. 206. 206.]]\n"
     ]
    }
   ],
   "source": [
    "print(img)"
   ]
  },
  {
   "cell_type": "markdown",
   "metadata": {},
   "source": [
    "Vi ser at bildet er et rutenett av tall. Dette er en 2D array og hvert element representerer en *piksel* i bildet. Tallene går fra 0 til 255 og et tall nærme 255 representerer en lys farge, mens et tall nærme 0 er sort. Slik er det datamaskinen ser alle bildene dine, som et rutenett av tall!"
   ]
  },
  {
   "cell_type": "markdown",
   "metadata": {},
   "source": [
    "For å vise frem bildet kan vi kalle på funksjonen `imshow` og sende inn bildet som input"
   ]
  },
  {
   "cell_type": "code",
   "execution_count": null,
   "metadata": {},
   "outputs": [],
   "source": [
    "plt.imshow(img)\n",
    "plt.show()"
   ]
  },
  {
   "cell_type": "markdown",
   "metadata": {},
   "source": [
    "Vi ser at bildet har noen rare farger. Dette skjer automatisk med gråtonebilder med mindre vi spesifiserer at bildet er et gråtonebilde. For å gjøre det bruker vi følgende kode:"
   ]
  },
  {
   "cell_type": "code",
   "execution_count": null,
   "metadata": {},
   "outputs": [],
   "source": [
    "plt.imshow(img, 'gray')\n",
    "plt.show()"
   ]
  },
  {
   "cell_type": "markdown",
   "metadata": {},
   "source": [
    "Men hvordan deriverer vi bildet? Dette er ganske enkelt. Alt vi trenger å gjøre er å bruke den numeriske derivasjonsfunksjonen vi allerede har definert i derivasjonsnotebooken:"
   ]
  },
  {
   "cell_type": "code",
   "execution_count": null,
   "metadata": {},
   "outputs": [],
   "source": [
    "def deriver(avstandsmålinger, dt):\n",
    "    antall_målinger = len(avstandsmålinger)\n",
    "    fart = np.zeros(antall_målinger-1)\n",
    "    \n",
    "    for t in range(antall_målinger-1):\n",
    "        fart[t] = (avstandsmålinger[t+1] - avstandsmålinger[t])/dt\n",
    "        \n",
    "    return fart"
   ]
  },
  {
   "cell_type": "markdown",
   "metadata": {},
   "source": [
    "For å derivere bildet kan vi brøke en løkke for å løkke oss igjennom hver kolonne i bildet og bruke derivasjonsfunkjsonen\\:"
   ]
  },
  {
   "cell_type": "code",
   "execution_count": null,
   "metadata": {},
   "outputs": [],
   "source": [
    "høyde, bredde = img.shape # hente ut høyde og bredde til bildet\n",
    "derivert_bilde = np.zeros([høyde-1, bredde]) # lage en tom array for å lagre den deriverte\n",
    "\n",
    "# løkke igjennom kolonnene i bildet, deriver dem og lagre resultatet i array\n",
    "for kolonne in range(bredde):\n",
    "    # her brukes 2d indeksering noe vi ikke har sett før\n",
    "    # for nå trenger du bare å vite at du sender inn en koordinat for rader først og så kolonner\n",
    "    # : betyr at man vil ha hele raden eller kolonnen (istedet for bare en verdi)\n",
    "    # [:, kolonne] betyr altså at man vil ha hele kolonne nummer `kolonne`\n",
    "    derivert_bilde[:,kolonne] = deriver(img[:,kolonne], 1)"
   ]
  },
  {
   "cell_type": "markdown",
   "metadata": {},
   "source": [
    "La oss nå se på resultatet. Dette kan vi gjøre ved å igjen bruke `imshow`"
   ]
  },
  {
   "cell_type": "code",
   "execution_count": null,
   "metadata": {},
   "outputs": [],
   "source": [
    "plt.imshow(derivert_bilde, 'gray')\n",
    "plt.show()"
   ]
  },
  {
   "cell_type": "markdown",
   "metadata": {},
   "source": [
    "Her ser vi at mesteparten av bildet er grått, med noen hvite og sorte streker. Dette bildet representerer \"farten\" til originalbildet. Og siden vi ikke er interessert i fortegnet til farten, bare størrelsen kan vi ta absoluttverdien"
   ]
  },
  {
   "cell_type": "code",
   "execution_count": null,
   "metadata": {},
   "outputs": [],
   "source": [
    "plt.imshow(abs(derivert_bilde), 'gray')\n",
    "plt.show()"
   ]
  },
  {
   "cell_type": "markdown",
   "metadata": {},
   "source": [
    "Nå har vi et bilde av \"Farten\" til originalbildet? Men hva betyr det? Hvor er det bildet har høy fart? Vi ser at stripene i genseren er tydelig tegnet inn. Hvorfor det? For å forstå dette må vi ta et skritt tilbake og tenke over hva et bilde inneholder. Som nevnt er et bilde en 2d array, et rutenett av tall. Hver kollonne i bildet er altså en 1d array, en stripe med tall akkurat som tallrekkene vi har behandlet før. For å illustrere dette kan vi hente ut rad nr. 200 og plotte den. "
   ]
  },
  {
   "cell_type": "markdown",
   "metadata": {},
   "source": [
    "Siden bildet er en 2d array må det indekseres over to akser. Det er litt som et koordinatsystem av indekser. Vi ønsker alle verdiene nedover, men kun en verdi bortover. Dette får vi med følgende kode:"
   ]
  },
  {
   "cell_type": "code",
   "execution_count": null,
   "metadata": {},
   "outputs": [],
   "source": [
    "kolonne = img[:, 200]"
   ]
  },
  {
   "cell_type": "markdown",
   "metadata": {},
   "source": [
    "Et kolon uten tall forran og bak betyr at vi vil ha en slice som går over hele bildet, langs den aksen. Altså alle radene. Så har vi et komma for å indeksere i 2 dimensjoner og vi velger ut kolonne nr 200. Vi kan nå plotte raden som et linjeplot"
   ]
  },
  {
   "cell_type": "code",
   "execution_count": null,
   "metadata": {},
   "outputs": [],
   "source": [
    "plt.plot(kolonne)\n",
    "plt.show()"
   ]
  },
  {
   "cell_type": "markdown",
   "metadata": {},
   "source": [
    "Hvis vi sammenligner dette med bildet ser vi at linja går opp der bildet er lyst og ned der bildet er mørkt. Vi ser også et tydelig sikk-sakk mønster på slutten. Dette stemmer overens med stripene i genseren nederst på bildet. Så hva vil det si å derivere en slik kurve? Vi vet at den deriverte er høy der det er rask endring. Altså der forskjellen på verdien mellom to punkter etter hverandre er høy. Hva vil det si for denne kurven? Endringene er størst der det er en brå overgang mellom farger. I bildet betyr det at vi har en kant. Og det er tydeligst kanter i stripene i genseren. \n",
    "\n",
    "For å se nærmere på dette kan vi også plotte den deriverte av kolonne 200. Vi tar absoluttverdien siden vi kunn er interessert i størrelsen på farten, ikke fortegnet.  "
   ]
  },
  {
   "cell_type": "code",
   "execution_count": null,
   "metadata": {},
   "outputs": [],
   "source": [
    "plt.plot(abs(derivert_bilde[:, 200]))\n",
    "plt.show()"
   ]
  },
  {
   "cell_type": "markdown",
   "metadata": {},
   "source": [
    "Dette stemmer jo godt med intuisjonen. Den deriverte er veldig lav mellom rad 100 og 200. Hvis vi ser på bildet ser vi at det området er stort sett bare svart. Det er nærmest konstant og har ingen tydelige kanter. Derimot er den deriverte høy der hvor stripene i genseren skifter fra hvit til sort og tilbake igjen, der er det tydelige kanter. \n",
    "\n",
    "Nå lurer du kanskje på hvorfor dette er nyttig. Det er jo morsomt å se hva som skjer når man deriverer et bilde og hva det betyr, men kan dette brukes til noe? Svaret er ja. I maskinsyn er kantdeteksjon en viktig problemstilling og derivasjon er den mest populære teknikken. Kanter inneholder ofte den viktigste informasjonen i et bilde og når du har funnet kantene brukes det videre i mer sofistikerte algoritmer i kombinasjon med annen informasjon. I dag er maskinsyn blitt såpass avansert at det er gjerne tusenvis av forskjellige egenskaper som kombineres, men kantene er fortsatt svært viktige. Slik bildederivasjon er altså grunnlaget for dagens teknologi som bruker kantinformasjon for å detektere alt fra ansikter i snapchat-vinduet ditt til kreftceller i medisinske bilder!"
   ]
  },
  {
   "cell_type": "markdown",
   "metadata": {},
   "source": [
    "### Oppgave 1a) \n",
    "Modifiser notebooken til å derivere `\"arkitektur.png\"` fra `\"bilder\"` mappen. Plot resultatet. Hvordan ser den deriverte ut? Hvilke elementer i bildet er det som blir fremhevet av derivasjonen?"
   ]
  },
  {
   "cell_type": "markdown",
   "metadata": {},
   "source": [
    "### Oppgave 2 a)\n",
    "\n",
    "I forrige oppgave deriverte vi kolonnene i arkitekturbildet, og da fant vi vertikale kanter. Hva tror du skjer dersom vi heller deriverer radene i bildet? Hvilke deler av bildet tror du da blir fremhevet av derivasjonen?\n",
    "\n",
    "### Oppgave 2b)\n",
    "Under har vi kode som vi kan bruke for å derivere radene i et bilde. Kjør koden, fikk du det resultatet du forventet?"
   ]
  },
  {
   "cell_type": "code",
   "execution_count": null,
   "metadata": {},
   "outputs": [],
   "source": [
    "høyde, bredde = img.shape \n",
    "rad_derivert_bilde = np.zeros([høyde, bredde-1])\n",
    "\n",
    "# løkke igjennom kolonnene i bildet, deriver dem og lagre resultatet i array\n",
    "for rad in range(høyde):\n",
    "    rad_derivert_bilde[rad, :] = deriver(img[rad, :], 1)"
   ]
  },
  {
   "cell_type": "markdown",
   "metadata": {},
   "source": [
    "Så viser vi frem absoluttverdien til det rad-deriverte bildet"
   ]
  },
  {
   "cell_type": "code",
   "execution_count": null,
   "metadata": {},
   "outputs": [],
   "source": [
    "plt.imshow(abs(rad_derivert_bilde), 'gray')\n",
    "plt.show()"
   ]
  },
  {
   "cell_type": "markdown",
   "metadata": {},
   "source": [
    "### Oppgave 3 a)\n",
    "Nå har vi to sett med kant-bilder, et kant-bilde som viser de vertikale kantene i det originalebildet og et som viser de horisontale kantene. For hver pixel i bildet har vi med andre ord to observasjoner, og dette kan vi tolke som en vektor. Vi har med andre ord en kant-vektor for hver pixel i originalbildet vårt.\n",
    "\n",
    "Hva tror du skjer dersom vi, for hver pixel, regner ut størrelsen på vektoren med Pytagoras' setning?\n",
    "\n",
    "### Oppgave 3b)\n",
    "Under har vi kode som regner ut størrelsen på hver pixel-vektor og viser frem bildet, stemmer det med det du trodde?"
   ]
  },
  {
   "cell_type": "code",
   "execution_count": null,
   "metadata": {},
   "outputs": [],
   "source": [
    "kantbilde = np.sqrt(derivert_bilde[:, 1:]**2  + rad_derivert_bilde[1:, :]**2)\n",
    "\n",
    "plt.imshow(kantbilde, 'gray')\n",
    "plt.show()"
   ]
  },
  {
   "cell_type": "code",
   "execution_count": null,
   "metadata": {},
   "outputs": [],
   "source": []
  },
  {
   "cell_type": "code",
   "execution_count": null,
   "metadata": {},
   "outputs": [],
   "source": []
  }
 ],
 "metadata": {
  "kernelspec": {
   "display_name": "Python 3 (ipykernel)",
   "language": "python",
   "name": "python3"
  },
  "language_info": {
   "codemirror_mode": {
    "name": "ipython",
    "version": 3
   },
   "file_extension": ".py",
   "mimetype": "text/x-python",
   "name": "python",
   "nbconvert_exporter": "python",
   "pygments_lexer": "ipython3",
   "version": "3.9.12"
  }
 },
 "nbformat": 4,
 "nbformat_minor": 4
}
