{
 "cells": [
  {
   "cell_type": "markdown",
   "id": "00932a6f-354b-4e29-8ab9-03c92fa644f8",
   "metadata": {},
   "source": [
    "## Instalasjon\n",
    "Du trenger dash og eventuelt jupyter-dash\n",
    "\n",
    "med pip:\n",
    "https://dash.plotly.com/installation\n",
    "\n",
    "\n",
    "med Conda:\n",
    "https://anaconda.org/conda-forge/dash\n",
    "\n",
    "https://anaconda.org/plotly/jupyter-dash\n",
    "\n",
    "\n",
    "## En enkel app uten callback eller bootstrap\n",
    "\n",
    "Her finner du litt starthjelp på hvordan du lager layout på appen ved help av dash sin html og \"kjerne\"-komponeter \n",
    "https://dash.plotly.com/layout\n"
   ]
  },
  {
   "cell_type": "code",
   "execution_count": 1,
   "id": "2e0de022-3f83-4256-b182-b87b77c0fcf0",
   "metadata": {},
   "outputs": [],
   "source": [
    "import pandas as pd\n",
    "import plotly.express as px\n",
    "\n",
    "from dash import html, dcc #, Dash om du kjører et annet sted enn jupyter\n",
    "from jupyter_dash import JupyterDash\n",
    "\n",
    "\n",
    "# Lager og rydder dataramme\n",
    "filnavn = 'https://raw.githubusercontent.com/irendundas/EkteData/main/data/PrecipVestlandMonthly.txt'\n",
    "titler = ['År','Januar','Februar','Mars','April','Mai','Juni',\n",
    "          'juli','August','September','Oktober','November','Desember']\n",
    "\n",
    "data = pd.read_table(filnavn, header = None, na_values=-999.99, \n",
    "                     names = titler, index_col =0, sep ='\\s+')\n",
    "df = data[1:] #dropper 1899\n",
    "fig = px.scatter(df.sum(axis=1),trendline=\"ols\")\n",
    "\n",
    "\n",
    "app = JupyterDash(__name__) # om du kjører i jupyter\n",
    "# app = Dash(__name__) # om du kjøre koden et annet sted\n",
    "\n",
    "\n",
    "# Designer appen vha html, dcc (og dbc)\n",
    "app.layout=html.Div([\n",
    "    html.H1(\"Her er en overskrift\"),  \n",
    "    dcc.Graph(figure=fig)\n",
    "])\n",
    "\n",
    "\n",
    "# kjører appen\n",
    "#if __name__ ==' __main__': # dersom du kjører fra *.py\n",
    "app.run_server(mode='external') # inline, jupyterlab\n",
    "                                "
   ]
  },
  {
   "cell_type": "markdown",
   "id": "2131392b-4fe2-4f26-b7df-e5404c40fe24",
   "metadata": {},
   "source": [
    "### Oversikt over html componets og dcc:\n",
    "\n",
    "https://dash.plotly.com/dash-html-components\n",
    "\n",
    "\n",
    "https://dash.plotly.com/dash-core-components\n"
   ]
  },
  {
   "cell_type": "code",
   "execution_count": 3,
   "id": "9b745cf6-c4bb-4e22-ab65-210a4639713b",
   "metadata": {
    "tags": []
   },
   "outputs": [
    {
     "data": {
      "text/plain": [
       "(Markdown(children='\\n### Her kan du skriver markdown\\n**feit**\\n\\n*Kursiv*\\n* liste\\n* liste2\\n\\n$H_20$\\n\\n[Dash html componets](https://dash.plotly.com/dash-html-components)\\n', mathjax=True),)"
      ]
     },
     "execution_count": 3,
     "metadata": {},
     "output_type": "execute_result"
    }
   ],
   "source": [
    "    dcc.Markdown('''\n",
    "    ### Her kan du skriver markdown\n",
    "    **feit**\n",
    "\n",
    "    *Kursiv*\n",
    "    * liste\n",
    "    * liste2\n",
    "    \n",
    "    $H_20$\n",
    "    \n",
    "    [Dash html componets](https://dash.plotly.com/dash-html-components)\n",
    "    '''\n",
    "    , mathjax=True), # for å få latex til å fungere."
   ]
  },
  {
   "cell_type": "markdown",
   "id": "5c329038-f0b5-4b73-80fd-154772a683d7",
   "metadata": {},
   "source": [
    "## Ekempel med enkel callback\n"
   ]
  },
  {
   "cell_type": "code",
   "execution_count": 4,
   "id": "ee9ebe49-1ae4-4eea-b06d-f3e674e33d46",
   "metadata": {},
   "outputs": [
    {
     "name": "stdout",
     "output_type": "stream",
     "text": [
      "Dash app running on http://127.0.0.1:90/\n"
     ]
    }
   ],
   "source": [
    "from dash import html, dcc, Output, Input #State\n",
    "app2=JupyterDash(__name__)\n",
    "\n",
    "app2.layout=html.Div([\n",
    "    dcc.Graph(id='min_graf'),             #tom graf som fylles inn under.\n",
    "    dcc.Dropdown(['Januar','Februar','Mars'],'Januar',id='dropdown')   \n",
    "])\n",
    "\n",
    "@app2.callback(\n",
    "    Output('min_graf','figure'),\n",
    "    Input('dropdown','value') # det er mulig med flere inputs\n",
    ")\n",
    "def oppdater_graf(måned):  # input i funksjonen er input fra dekratøren i samme rekkefølge\n",
    "    fig = px.line(df[måned])\n",
    "    # her kan du style grafen\n",
    "    \n",
    "    return fig\n",
    "\n",
    "\n",
    "app2.run_server(mode='external',debug=True, port = 90)    "
   ]
  },
  {
   "cell_type": "markdown",
   "id": "2bbc78e0-bac0-4c11-b00a-3362e0c9d13b",
   "metadata": {},
   "source": [
    "### Style appen m.m.\n",
    "I tillegg til CSS og html (om du kan det fra før) er det mulig å bruke \n",
    "Dash bootstrap componets:\n",
    "\n",
    "https://dash-bootstrap-components.opensource.faculty.ai/\n",
    "\n",
    "Her kan du dele appen inn i \"rows\" og \"columns\" og plassere de ulike grafene m.m. i et rutemønster.\n",
    "Det er også flere muligheter for knapper og temaer.\n",
    "\n",
    "Dersom du vil at plotly-grafene skal matche fargene fra dbc-temaene:\n",
    "https://github.com/AnnMarieW/dash-bootstrap-templates\n",
    "\n",
    "\n",
    "\n",
    "Her er en masiv samling av videotutorials om dash, plotly, bootstrap m.m.\n",
    "https://www.youtube.com/@CharmingData\n",
    "\n",
    "## Oppgave\n",
    "* Lag en app som bruker nedbørsdatasettet vi har jobbet med som innput. Plott årstotalen for perioden. \n",
    "* la brukeren velge et intervall ved hjelp av \"rangeslider\" plottet skal oppdatere seg med en trendlinje for dette intervallet.\n",
    "* Kan du få appen til å se bra ut?\n",
    "\n",
    "\n"
   ]
  },
  {
   "cell_type": "code",
   "execution_count": null,
   "id": "e949944b-d1ec-4601-9ba5-989acd5572aa",
   "metadata": {},
   "outputs": [],
   "source": []
  }
 ],
 "metadata": {
  "kernelspec": {
   "display_name": "Python 3 (ipykernel)",
   "language": "python",
   "name": "python3"
  },
  "language_info": {
   "codemirror_mode": {
    "name": "ipython",
    "version": 3
   },
   "file_extension": ".py",
   "mimetype": "text/x-python",
   "name": "python",
   "nbconvert_exporter": "python",
   "pygments_lexer": "ipython3",
   "version": "3.9.13"
  }
 },
 "nbformat": 4,
 "nbformat_minor": 5
}
