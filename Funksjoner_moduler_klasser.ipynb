{
 "cells": [
  {
   "cell_type": "markdown",
   "id": "0c39d084-68f6-47c5-9faf-3bc478e73252",
   "metadata": {},
   "source": [
    "### Hvorfor bruke funksjoner?\n",
    "* Gjenbruk\n",
    "* Bedre lesbarhet\n",
    "* Lettere feilretting\n",
    "\n",
    "https://progmod.no/docs/tema2_kodestrukturering/funksjoner.html"
   ]
  },
  {
   "cell_type": "code",
   "execution_count": null,
   "id": "a301dd1f-8cae-48d6-874b-bbfedf4fc255",
   "metadata": {},
   "outputs": [],
   "source": []
  },
  {
   "cell_type": "markdown",
   "id": "2b74d32b-7433-427c-9e60-04fe9ecdbbd3",
   "metadata": {},
   "source": [
    "(Mye) mer om navnerom \n",
    "https://realpython.com/python-namespaces-scope/"
   ]
  },
  {
   "cell_type": "code",
   "execution_count": null,
   "id": "0ae1d707-e457-4eaf-b098-62b03310d298",
   "metadata": {},
   "outputs": [],
   "source": []
  },
  {
   "cell_type": "markdown",
   "id": "4d116ad2-dd5d-4413-8327-6ca0324dee8b",
   "metadata": {},
   "source": [
    "### Moduler\n",
    "Dersom du ønsker å bruke samme funksjon i flere ulike programmer, eller om en ønsker færre antall linjer i hovedprogrammet. Kan funksjonene lagres i moduler og importeres inn i hovedprogrammet.. "
   ]
  },
  {
   "cell_type": "code",
   "execution_count": null,
   "id": "248fbddc-d6aa-4382-b452-a9854d1d3186",
   "metadata": {},
   "outputs": [],
   "source": []
  },
  {
   "cell_type": "markdown",
   "id": "b1faf180-8618-4f92-8a80-8116572ec79f",
   "metadata": {},
   "source": [
    "### import \n",
    "https://peps.python.org/pep-0008/#imports\n",
    "\n",
    "### Dokumentasjon - Docstring\n",
    "Rett etter funksjonen er defienert bør du skrive en docstring som forklarer hva funksjonen gjør. Docstringen skrives mellom tripple anførselstegn og kommer fram om man bruker kommandoen _help()_"
   ]
  },
  {
   "cell_type": "code",
   "execution_count": null,
   "id": "10ae73fc-fe1e-421d-952b-7448f00cb8f2",
   "metadata": {},
   "outputs": [],
   "source": []
  },
  {
   "cell_type": "markdown",
   "id": "51afe48e-b6a4-4813-aaf2-ee5be675bbec",
   "metadata": {},
   "source": [
    "**Oppgave 1 - programmer en modul**\n",
    "lag en modul med navn rektangel_modul.py\n",
    "I denne modulen skal du implimentere tre funksjoner: areal_rektangel, omkrets_rektangel og diagonal_rektangel. Alle tre funksjonene skal ha 2 inn-argumenter: bredde og lengde. Alle skal retunere en verdi, henholdsvis areal, omkrets og diagonal. Alle funksjonene skal ha en dokumentasjonstekst aka docstring. Lag et hovedprogram som definere variablene lengde og bredde, kaller de tre funksjonene og skriver resultatet til skjerm.\n",
    "\n",
    "**Oppgave 2 - vektormodul**\n",
    "Sjekk i matematikkboken hvilke vektoroperasjoner som kan være nyttige. Lag en modul med programmer som tar inn vektorkoordinater som lister og retunerer lister om svaret skal være en vektor ellers flyttall (evt boolsk verdi). (Eksempler skalarprodukt, lengde av vektor, vektorprodukt, vinkel mellom, normalvektor, enhetsvektor, er orogonale? osv.)    \n",
    "\n",
    "Undersøk etterpå hvordan du kan beregne tilsvarende med numpy-array\n"
   ]
  },
  {
   "cell_type": "code",
   "execution_count": null,
   "id": "668b7219-ba78-434a-9ce9-c5d730eae9c8",
   "metadata": {},
   "outputs": [],
   "source": []
  }
 ],
 "metadata": {
  "kernelspec": {
   "display_name": "Python 3 (ipykernel)",
   "language": "python",
   "name": "python3"
  },
  "language_info": {
   "codemirror_mode": {
    "name": "ipython",
    "version": 3
   },
   "file_extension": ".py",
   "mimetype": "text/x-python",
   "name": "python",
   "nbconvert_exporter": "python",
   "pygments_lexer": "ipython3",
   "version": "3.9.12"
  }
 },
 "nbformat": 4,
 "nbformat_minor": 5
}
