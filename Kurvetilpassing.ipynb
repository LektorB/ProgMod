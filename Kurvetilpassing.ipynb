{
 "cells": [
  {
   "cell_type": "markdown",
   "id": "6e17e79e-b420-4c87-bd63-2d929f024c51",
   "metadata": {},
   "source": [
    "# Kurvetilpassing\n",
    "Her er to ferdig moduler for kurvetilpassing og et par oppgaver hvor vi tilpasser \"for hånd\"\n",
    "### curve_fit\n",
    "Curve_fit fra scipy modulen er et litt uintuitiv, men kraftig verktøy som fungerer på mange funksjonstyper."
   ]
  },
  {
   "cell_type": "code",
   "execution_count": 13,
   "id": "599829af-0806-4e4d-a087-c7d6fa07bd45",
   "metadata": {},
   "outputs": [
    {
     "data": {
      "image/png": "[encoded data removed]",
      "text/plain": [
       "<Figure size 432x288 with 1 Axes>"
      ]
     },
     "metadata": {
      "needs_background": "light"
     },
     "output_type": "display_data"
    }
   ],
   "source": [
    "import numpy as np\n",
    "import matplotlib.pyplot as plt\n",
    "from scipy.optimize import curve_fit\n",
    "\n",
    "#datasett\n",
    "xdata=[1,2,3,4,5]\n",
    "ydata=[0.8,4.5,9,15,25.8]\n",
    "\n",
    "# funksjonstypen vi vil tilpasse, med rett antall parmetre\n",
    "def funksjon(x,a,b):\n",
    "    return a*x**b\n",
    "\n",
    "# plottet datasettet for å bedre kunne velge funksjon    \n",
    "plt.plot(xdata,ydata,'xb')\n",
    "\n",
    "# popt - parametre, pcov - estimert kovarians\n",
    "popt, pcov=curve_fit(funksjon,xdata,ydata)\n",
    "\n",
    "# pcov kan brukes til å finne standardavviket til parametrene\n",
    "# perr = np.sqrt(np.diag(pcov))\n",
    "\n",
    "# plotter den tilpassende kurven \n",
    "xverdier=np.linspace(0,6,200)\n",
    "yverdier=funksjon(xverdier,*popt) # *\n",
    "plt.plot(xverdier,yverdier)\n",
    "plt.show()"
   ]
  },
  {
   "cell_type": "code",
   "execution_count": 11,
   "id": "ffd37e00-28a8-4d6a-b220-55c372b05f55",
   "metadata": {},
   "outputs": [
    {
     "name": "stdout",
     "output_type": "stream",
     "text": [
      "tilpassede parametere: [0.8923325  2.08021612]\n",
      "Estimert kovarianse: [[ 0.02945852 -0.02170197]\n",
      " [-0.02170197  0.01623553]]\n",
      "Estimert standard avvik: [0.17163485 0.12741873]\n"
     ]
    }
   ],
   "source": [
    "print('tilpassede parametere:',popt)\n",
    "print('Estimert kovarianse:',pcov)\n",
    "print('Estimert standard avvik:',perr)"
   ]
  },
  {
   "cell_type": "markdown",
   "id": "38ec21ab-46d7-4f16-bd71-08f8e4467c10",
   "metadata": {},
   "source": [
    "### polyfit\n",
    "Numpy har innebygget minstekvadraters metode for som er litt mer kompakt enn curve_fit, men som er begrenset til polynomer.\n",
    "\n",
    "\n"
   ]
  },
  {
   "cell_type": "code",
   "execution_count": 15,
   "id": "a6159d96-cff8-4f3e-b013-c3dd3023a785",
   "metadata": {},
   "outputs": [
    {
     "data": {
      "text/plain": [
       "array([ 1.12142857, -0.67857143,  0.72      ])"
      ]
     },
     "execution_count": 15,
     "metadata": {},
     "output_type": "execute_result"
    }
   ],
   "source": [
    "p = np.polyfit(xdata,ydata,2) # input er data og grad, output er koefesienter \n",
    "p "
   ]
  },
  {
   "cell_type": "code",
   "execution_count": 19,
   "id": "a5ef59c5-a931-4cb3-a614-9d2fdc0e1053",
   "metadata": {},
   "outputs": [
    {
     "name": "stdout",
     "output_type": "stream",
     "text": [
      "       2\n",
      "1.121 x - 0.6786 x + 0.72\n"
     ]
    }
   ],
   "source": [
    "# lage et polynom av koeffisientene\n",
    "polynom=np.poly1d(p)\n",
    "print(polynom)"
   ]
  },
  {
   "cell_type": "code",
   "execution_count": 20,
   "id": "bc174f2c-8cd8-4f80-af7e-7fe779bf11c8",
   "metadata": {},
   "outputs": [
    {
     "data": {
      "text/plain": [
       "8.777142857142856"
      ]
     },
     "execution_count": 20,
     "metadata": {},
     "output_type": "execute_result"
    }
   ],
   "source": [
    "# beregne funksjonsverdier til polynomet, her f(3)\n",
    "polynom(3)"
   ]
  },
  {
   "cell_type": "code",
   "execution_count": 27,
   "id": "2b78007e-0d4b-4c3f-bdd9-8087e6b01574",
   "metadata": {},
   "outputs": [
    {
     "data": {
      "text/plain": [
       "array([0.30254777+0.74195894j, 0.30254777-0.74195894j])"
      ]
     },
     "execution_count": 27,
     "metadata": {},
     "output_type": "execute_result"
    }
   ],
   "source": [
    "# finne røtter (nullpunkt)\n",
    "polynom.roots"
   ]
  },
  {
   "cell_type": "markdown",
   "id": "429fad8b-b915-4ece-a0fd-12e3bba1227a",
   "metadata": {
    "tags": []
   },
   "source": [
    "### minste kvadraters metode\n",
    "\n",
    "![Minste kvadraters](Reg1.png)\n",
    "\n",
    "På bilde ser vi et datasett og en linje plottet i samme figur. Avstanden fra linjen til et punkt kalles avvik. Siden noen av avvikene er positive og noen negative, kvadrerer vi avvikene før vi legger dem sammen. Den linjen som best beskriver datasettet er den som gir den minst summen av disse kvadratavvikene. Under kan dere jobbe med tre ulike måter å finne den opptimale linjen på\n",
    "\n",
    "### Prøv og feil - brute force\n",
    "Under er et datasett og en funksjon som regner ut summen av kvadratavviket dersom stigningstall og konstantledd er gitt i tillegg til datasettet.\n",
    "\n",
    "<div class=\"alert alert-block alert-info\">\n",
    "<b>Oppgave: </b>plott datasettet og bestem på øyemål et fornuftig intervall som stigningstallet og konstant leddet bør ligge innenfor. </div>\n",
    "\n",
    "<div class=\"alert alert-block alert-info\">\n",
    "<b>Oppgave: </b>Lag to nøstete løkker og prøv deg gjennom de ulike a og b - verdiene og finn de som gir minst sum. Velg en oppløsning som gir deg a og b med tre desimalers nøyaktighet </div>\n"
   ]
  },
  {
   "cell_type": "code",
   "execution_count": null,
   "id": "23735a6b-c7dd-431e-80cb-a9ae6d19405b",
   "metadata": {},
   "outputs": [],
   "source": [
    "t_data=np.array([0,0.4,0.8,1.3,1.7])\n",
    "y_data=np.array([0.2,0.3,0.5,0.7,0.8])\n",
    "\n",
    "def funksjon(a,b,t,y):\n",
    "    return np.sum((a*t+b-y)**2)"
   ]
  },
  {
   "cell_type": "markdown",
   "id": "3bab2b5d-70f2-4409-b757-174fa39098b4",
   "metadata": {},
   "source": [
    "### Regneregler fra statistikk\n",
    "For rette linjer (og funksjoner som kan plottes som rettelinjer med smarte valg av akser) kan parameterne a og b regnes rett ut fra følgende utrykk:\n",
    "\n",
    "$$a=\\frac{\\Sigma _{i=1} ^i(x_i - \\bar{x})(y_i-\\bar{y})}{\\Sigma _{i=1} ^i(x_i - \\bar{x})^2}$$\n",
    "\n",
    "$$b=\\bar{y}-a\\cdot \\bar{x}$$\n",
    "\n",
    "der $\\bar{x}$ er gjennomsnittet av alle x-målinger og $x_i$ er en og en av målingene. \n",
    "\n",
    "Når målingene er gitt som numpy arrays, kan man regne ut parameterene med få linjer kode\n",
    "\n",
    "<div class=\"alert alert-block alert-info\">\n",
    "<b>Oppgave: </b>Bruk datasettet fra forrige oppgave og bruk blant annet np.sum() og np.mean() til å beregne a og b. Sammenlign med forrige resultat og sjekk om du får tilsvarende resultat om du bruker polyfit eller curve_fit <br>\n",
    "<br>\n",
    "<b>Utfordring: </b> Kan du finne opplysninger om korelasjonskoeffesienten og beregne den?</div>"
   ]
  },
  {
   "cell_type": "code",
   "execution_count": null,
   "id": "44846248-da68-4cc6-b76d-0bacbbfc3dd8",
   "metadata": {},
   "outputs": [],
   "source": []
  },
  {
   "cell_type": "markdown",
   "id": "5572513d-3cde-4cab-b829-eaa0aae7d208",
   "metadata": {},
   "source": [
    "### Optimere parameterene ved hjelp av partiell derivasjon\n",
    "For å vite i hvilken retning det er lurt å leite etter bedre tipp for parameterene kan man bruke partiell derivasjon. I forhold til rette linjer og dette datasettet er det litt overkill, men det er en nyttig optimeringsmetode som kan brukes når antallet parametere og dimensjoner øker.\n",
    "\n",
    "Se filmen og bli inspirert"
   ]
  },
  {
   "cell_type": "code",
   "execution_count": 1,
   "id": "a5fb61a5-de55-4713-be2e-2eaef9ca5e74",
   "metadata": {},
   "outputs": [
    {
     "data": {
      "text/html": [
       "<iframe width=\"560\" height=\"315\" src=\"https://www.youtube.com/embed/VmbA0pi2cRQ\" title=\"YouTube video player\" frameborder=\"0\" allow=\"accelerometer; autoplay; clipboard-write; encrypted-media; gyroscope; picture-in-picture\" allowfullscreen></iframe>\n"
      ],
      "text/plain": [
       "<IPython.core.display.HTML object>"
      ]
     },
     "metadata": {},
     "output_type": "display_data"
    }
   ],
   "source": [
    "%%html\n",
    "<iframe width=\"560\" height=\"315\" src=\"https://www.youtube.com/embed/VmbA0pi2cRQ\" title=\"YouTube video player\" frameborder=\"0\" allow=\"accelerometer; autoplay; clipboard-write; encrypted-media; gyroscope; picture-in-picture\" allowfullscreen></iframe>"
   ]
  },
  {
   "cell_type": "code",
   "execution_count": null,
   "id": "4bfa2b16-615c-449d-9249-fa677593ddf5",
   "metadata": {},
   "outputs": [],
   "source": []
  }
 ],
 "metadata": {
  "kernelspec": {
   "display_name": "Python 3 (ipykernel)",
   "language": "python",
   "name": "python3"
  },
  "language_info": {
   "codemirror_mode": {
    "name": "ipython",
    "version": 3
   },
   "file_extension": ".py",
   "mimetype": "text/x-python",
   "name": "python",
   "nbconvert_exporter": "python",
   "pygments_lexer": "ipython3",
   "version": "3.9.12"
  }
 },
 "nbformat": 4,
 "nbformat_minor": 5
}
