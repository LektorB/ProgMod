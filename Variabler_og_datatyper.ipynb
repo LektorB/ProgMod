{
 "cells": [
  {
   "cell_type": "markdown",
   "id": "3621d1e9-7875-4377-88af-5c03a857b3f1",
   "metadata": {},
   "source": [
    "### Variabler og datatyper"
   ]
  },
  {
   "cell_type": "code",
   "execution_count": 43,
   "id": "3645da26-3f0b-4899-bd6f-5d6bba96fc42",
   "metadata": {},
   "outputs": [],
   "source": [
    "a = 2 # heltall\n",
    "b = 2.0 #flyttall\n",
    "b2 = 1e-3 \n",
    "c = 'en streng' \n",
    "d = False # Boolsk variabel\n",
    "e = 1 + 3j #komplekse tall\n"
   ]
  },
  {
   "cell_type": "code",
   "execution_count": 46,
   "id": "bda794fd-6524-49f8-8a06-28108bded2e0",
   "metadata": {},
   "outputs": [
    {
     "name": "stdout",
     "output_type": "stream",
     "text": [
      "type(a)=<class 'int'>\n"
     ]
    },
    {
     "data": {
      "text/plain": [
       "['__abs__',\n",
       " '__add__',\n",
       " '__and__',\n",
       " '__bool__',\n",
       " '__ceil__',\n",
       " '__class__',\n",
       " '__delattr__',\n",
       " '__dir__',\n",
       " '__divmod__',\n",
       " '__doc__',\n",
       " '__eq__',\n",
       " '__float__',\n",
       " '__floor__',\n",
       " '__floordiv__',\n",
       " '__format__',\n",
       " '__ge__',\n",
       " '__getattribute__',\n",
       " '__getnewargs__',\n",
       " '__gt__',\n",
       " '__hash__',\n",
       " '__index__',\n",
       " '__init__',\n",
       " '__init_subclass__',\n",
       " '__int__',\n",
       " '__invert__',\n",
       " '__le__',\n",
       " '__lshift__',\n",
       " '__lt__',\n",
       " '__mod__',\n",
       " '__mul__',\n",
       " '__ne__',\n",
       " '__neg__',\n",
       " '__new__',\n",
       " '__or__',\n",
       " '__pos__',\n",
       " '__pow__',\n",
       " '__radd__',\n",
       " '__rand__',\n",
       " '__rdivmod__',\n",
       " '__reduce__',\n",
       " '__reduce_ex__',\n",
       " '__repr__',\n",
       " '__rfloordiv__',\n",
       " '__rlshift__',\n",
       " '__rmod__',\n",
       " '__rmul__',\n",
       " '__ror__',\n",
       " '__round__',\n",
       " '__rpow__',\n",
       " '__rrshift__',\n",
       " '__rshift__',\n",
       " '__rsub__',\n",
       " '__rtruediv__',\n",
       " '__rxor__',\n",
       " '__setattr__',\n",
       " '__sizeof__',\n",
       " '__str__',\n",
       " '__sub__',\n",
       " '__subclasshook__',\n",
       " '__truediv__',\n",
       " '__trunc__',\n",
       " '__xor__',\n",
       " 'as_integer_ratio',\n",
       " 'bit_length',\n",
       " 'conjugate',\n",
       " 'denominator',\n",
       " 'from_bytes',\n",
       " 'imag',\n",
       " 'numerator',\n",
       " 'real',\n",
       " 'to_bytes']"
      ]
     },
     "execution_count": 46,
     "metadata": {},
     "output_type": "execute_result"
    }
   ],
   "source": [
    "print(f'type(a)={type(a)}')\n",
    "dir(a)"
   ]
  },
  {
   "cell_type": "code",
   "execution_count": 48,
   "id": "baa395ee-2828-41f4-a8b5-728f79aa0590",
   "metadata": {},
   "outputs": [
    {
     "data": {
      "text/plain": [
       "'e'"
      ]
     },
     "execution_count": 48,
     "metadata": {},
     "output_type": "execute_result"
    }
   ],
   "source": [
    "c[0]"
   ]
  },
  {
   "cell_type": "code",
   "execution_count": 49,
   "id": "869f9725-0f5d-46d0-a4db-9aadc60c8201",
   "metadata": {
    "tags": []
   },
   "outputs": [
    {
     "data": {
      "text/plain": [
       "'treng'"
      ]
     },
     "execution_count": 49,
     "metadata": {},
     "output_type": "execute_result"
    }
   ],
   "source": [
    "c[4:]"
   ]
  },
  {
   "cell_type": "code",
   "execution_count": 51,
   "id": "11b1e924-8d41-477f-8673-ac6f08a4f25e",
   "metadata": {},
   "outputs": [
    {
     "name": "stdout",
     "output_type": "stream",
     "text": [
      "e\n",
      "n\n",
      " \n",
      "s\n",
      "t\n",
      "r\n",
      "e\n",
      "n\n",
      "g\n"
     ]
    }
   ],
   "source": [
    "liste_1=[]\n",
    "for x in c:\n",
    "    print(x)\n",
    "    liste_1.append(x) # lager en liste av elmentene i strengen\n",
    "    \n",
    "    "
   ]
  },
  {
   "cell_type": "code",
   "execution_count": 52,
   "id": "e0177b37-16e0-4ffc-80bb-bc650d6ea057",
   "metadata": {},
   "outputs": [
    {
     "data": {
      "text/plain": [
       "['e', 'n', ' ', 's', 't', 'r', 'e', 'n', 'g']"
      ]
     },
     "execution_count": 52,
     "metadata": {},
     "output_type": "execute_result"
    }
   ],
   "source": [
    "liste_1"
   ]
  },
  {
   "cell_type": "code",
   "execution_count": 53,
   "id": "33c94d3c-5db4-4c73-b0fd-9516055323ea",
   "metadata": {},
   "outputs": [
    {
     "name": "stdout",
     "output_type": "stream",
     "text": [
      "4\n"
     ]
    }
   ],
   "source": [
    "a=4\n",
    "b=a\n",
    "a=3\n",
    "print(b)"
   ]
  },
  {
   "cell_type": "code",
   "execution_count": 55,
   "id": "0bec7a74-0826-4a9e-9deb-097c6144323a",
   "metadata": {},
   "outputs": [
    {
     "name": "stdout",
     "output_type": "stream",
     "text": [
      "2\n",
      "5\n"
     ]
    }
   ],
   "source": [
    "a, b = 2, 5\n",
    "print(a)\n",
    "print(b)"
   ]
  },
  {
   "cell_type": "code",
   "execution_count": 58,
   "id": "a21cda11-f745-445a-ab69-acf3bfbf3389",
   "metadata": {},
   "outputs": [
    {
     "data": {
      "text/plain": [
       "tuple"
      ]
     },
     "execution_count": 58,
     "metadata": {},
     "output_type": "execute_result"
    }
   ],
   "source": [
    "f = 2, 5\n",
    "type(f)"
   ]
  },
  {
   "cell_type": "markdown",
   "id": "8209a77e-38b9-40fe-8de2-cdde6d7b2663",
   "metadata": {},
   "source": [
    "Mer om datatyper:\n",
    "https://realpython.com/python-data-types/"
   ]
  },
  {
   "cell_type": "markdown",
   "id": "230b638e-f1b1-4d82-9697-f9a36fe8d4b2",
   "metadata": {},
   "source": [
    "### Containers - datasamlere\n",
    "List, tuple, set og dict.\n",
    "Lister kan endres på, men ikke tupler. Set var uordnet, kan derfor ikke flere av samme verdi.\n",
    "https://www.w3schools.com/python/python_lists.asp"
   ]
  },
  {
   "cell_type": "code",
   "execution_count": 60,
   "id": "2949baea-d22b-4f89-ba78-a943b3c3b4e8",
   "metadata": {},
   "outputs": [
    {
     "data": {
      "text/plain": [
       "[1, 2, 3, 4]"
      ]
     },
     "execution_count": 60,
     "metadata": {},
     "output_type": "execute_result"
    }
   ],
   "source": [
    "liste_a=[1,2,3,4]\n",
    "liste_b=liste_a\n",
    "liste_b"
   ]
  },
  {
   "cell_type": "code",
   "execution_count": 63,
   "id": "04f03110-7d4c-47b7-b96d-7c564b6ee040",
   "metadata": {},
   "outputs": [
    {
     "data": {
      "text/plain": [
       "[1, 6, 3, 4]"
      ]
     },
     "execution_count": 63,
     "metadata": {},
     "output_type": "execute_result"
    }
   ],
   "source": [
    "liste_a[1] = 6\n",
    "liste_b"
   ]
  },
  {
   "cell_type": "code",
   "execution_count": 66,
   "id": "0abc9279-3b87-44d5-8720-928d31d06502",
   "metadata": {},
   "outputs": [
    {
     "data": {
      "text/plain": [
       "[1, 2, 3, 4]"
      ]
     },
     "execution_count": 66,
     "metadata": {},
     "output_type": "execute_result"
    }
   ],
   "source": [
    "liste_a=[1,2,3,4]\n",
    "liste_b=liste_a.copy() # lager en ny liste ved hjelp av en tidligere\n",
    "liste_b\n",
    "liste_a[1] = 6\n",
    "liste_b"
   ]
  },
  {
   "cell_type": "code",
   "execution_count": 70,
   "id": "97892c91-75d6-4915-b6f8-78f2ab93a148",
   "metadata": {},
   "outputs": [
    {
     "data": {
      "text/plain": [
       "[6, 4]"
      ]
     },
     "execution_count": 70,
     "metadata": {},
     "output_type": "execute_result"
    }
   ],
   "source": [
    "ny_liste = []\n",
    "for i in range(len(liste_a)):\n",
    "    if liste_a[i]%2==0:\n",
    "        ny_liste.append(liste_a[i])\n",
    "ny_liste"
   ]
  },
  {
   "cell_type": "code",
   "execution_count": 72,
   "id": "81e19242-b9be-4939-b064-f2aaa95bab93",
   "metadata": {},
   "outputs": [
    {
     "data": {
      "text/plain": [
       "[36, 16]"
      ]
     },
     "execution_count": 72,
     "metadata": {},
     "output_type": "execute_result"
    }
   ],
   "source": [
    "# enklere med list comprehension\n",
    "enda_en_liste = [x**2 for x in liste_a if x%2==0]\n",
    "enda_en_liste"
   ]
  },
  {
   "cell_type": "code",
   "execution_count": 76,
   "id": "1fd5058c-a296-4a76-b1e9-ec9308145afe",
   "metadata": {},
   "outputs": [
    {
     "data": {
      "text/plain": [
       "[1, 2, 3, 4, 5, 6, 7]"
      ]
     },
     "execution_count": 76,
     "metadata": {},
     "output_type": "execute_result"
    }
   ],
   "source": [
    "# kan brukes på flere datatyper:\n",
    "streng = '1234567'\n",
    "streng_som_liste = [ int(x) for x in streng] \n",
    "streng_som_liste"
   ]
  },
  {
   "cell_type": "markdown",
   "id": "d8ad0f75-6c56-4635-9d6a-e435fb4f9d19",
   "metadata": {},
   "source": [
    "#### oppgave\n",
    "Lag et program som ber om og tar inn personnummer som en streng. \n",
    "* sjekk om personummeret har rett antall siffer\n",
    "* sjekk kjønnet til personen\n",
    "* sjekk om personnumeret er et gyldig personnummer\n",
    "* Sjekke om 230902 er født i 1902 eller 2002\n",
    "* dersom ett siffer er feil, rett feilen\n",
    "* (dersom to siffer er feil fortell hvilke. Det blir vanskelig. Alternativt: du mangler to siffer, men kjenner plassen. Finn hele personnummeret.) \n",
    "\n",
    "\n",
    "**Bonus:**\n",
    "Testen vår sjekker ikke om datoen er reel. Kan du lage en test som ikke lar 52. oktober slippe gjennom?"
   ]
  },
  {
   "cell_type": "markdown",
   "id": "565eea98-99d3-41ce-a129-59c327e280f4",
   "metadata": {},
   "source": [
    "**Løsningsforslag for de fire første kulepunktene.** "
   ]
  },
  {
   "cell_type": "code",
   "execution_count": null,
   "id": "20c71185-57dd-4e68-a1a2-9b03ff182e0d",
   "metadata": {
    "tags": []
   },
   "outputs": [],
   "source": [
    "import numpy as np\n",
    "\n",
    "# vektene finnes i ulike varianter, denne er lettest å bruke for å sjekke kontrollsifferet er korrekt\n",
    "v_1 = np.array([8,4,5,10,3,2,7,6,9,10,0]) \n",
    "v_2 = np.array([6,7,8,9,4,5,6,7,8,9,10])\n",
    "kjønn_liste = ['kvinne','mann']\n",
    "\n",
    "nr = input('Skriv inn personnummer: DDMMÅÅXXXXX \\n')\n",
    "nr_arr = np.array([int(x) for x in nr])\n",
    "\n",
    "if len(nr_arr) != 11:\n",
    "    print('Du må skrive inn personnummer med 11 siffer')\n",
    "    \n",
    "else:\n",
    "    k_1 = sum(v_1*nr_arr)%11\n",
    "    k_2 = sum(v_2*nr_arr)%11\n",
    "    \n",
    "    if k_1 != 0 or k_2 != 0:\n",
    "        print('Dette er ikke et gyldig personnummer')\n",
    "        \n",
    "    else:\n",
    "        kjønn = kjønn_liste[nr_arr[-3]%2] # om tredje siste siffer er partall, hentes 'Kvinne'\n",
    "        \n",
    "        # finner rett århundre\n",
    "        tiår = int(nr[4:6])\n",
    "        individ = int(nr[6:9])\n",
    "        \n",
    "        if (individ>499 and individ < 745) and tiår > 54:\n",
    "            hundreår = 18\n",
    "            \n",
    "        elif (individ>499 and individ < 745) and tiår < 40:\n",
    "            hundreår = 20\n",
    "            \n",
    "        else:\n",
    "            hundreår = 19\n",
    "        \n",
    "        print(f'Personnummeret tilhører en {kjønn} som er født {nr[0:2]}/{nr[2:4]}/{hundreår}{tiår}') "
   ]
  },
  {
   "cell_type": "markdown",
   "id": "4ab79dac-8044-48ba-8e96-7d86a1cd1c27",
   "metadata": {},
   "source": [
    "Med feilretting av 1 feil siffer:"
   ]
  },
  {
   "cell_type": "code",
   "execution_count": null,
   "id": "f4e2976c-140f-4279-8534-1a9306a9e12f",
   "metadata": {},
   "outputs": [],
   "source": [
    "import numpy as np\n",
    "\n",
    "# vektene finnes i ulike varianter, denne er lettest å bruke for å sjekke kontrollsifferet er korrekt\n",
    "v_1 = np.array([8,4,5,10,3,2,7,6,9,10,0]) \n",
    "v_2 = np.array([6,7,8,9,4,5,6,7,8,9,10])\n",
    "kjønn_liste = ['kvinne','mann']\n",
    "\n",
    "# Lager to todimensjonale arrayer og fyller med alle muligheter for feil\n",
    "liste = np.arange(1,11)\n",
    "A = np.array([list((x)*v_1%11) for x in liste])\n",
    "B = np.array([list((x)*v_2%11) for x in liste])\n",
    "\n",
    "\n",
    "nr = input('Skriv inn personnummer: DDMMÅÅXXXXX \\n')\n",
    "nr_arr = np.array([int(x) for x in nr])\n",
    "\n",
    "if len(nr_arr) != 11:\n",
    "    print('Du må skrive inn personnummer med 11 siffer')\n",
    "    \n",
    "else:\n",
    "    k_1 = sum(v_1*nr_arr)%11\n",
    "    k_2 = sum(v_2*nr_arr)%11\n",
    "    \n",
    "    if k_1 != 0 or k_2 != 0:\n",
    "        print('Dette er ikke et gyldig personnummer, prøver å rette feilen ...')\n",
    "        feil = 'fant ikke tallpar'\n",
    "        \n",
    "        index_Ay,index_Ax = np.where(A == k_1)\n",
    "        \n",
    "        for i in range(10):\n",
    "            if B[index_Ay[i],index_Ax[i]] == k_2:\n",
    "                feil , plass = (index_Ay[i]+1,index_Ax[i])\n",
    "        \n",
    "        if feil == 'fant ikke tallpar':\n",
    "                print('Det er for mange feil, skjekk personnummeret og skriv inn igjen')\n",
    "        \n",
    "        if plass == 3 or plass == 8:\n",
    "            plass = 3\n",
    "            test_arr = np.array(nr_arr)\n",
    "            test_arr[plass]=(test_arr[plass]-feil)%11\n",
    "            k_1 = sum(v_1*test_arr)%11\n",
    "            k_2 = sum(v_2*test_arr)%11\n",
    "            \n",
    "            if k_1 != 0 or k_2 != 0:\n",
    "                plass = 8\n",
    "                # test_arr = np.array(nr_arr)\n",
    "                # test_arr[plass]=(test_arr[plass]-feil)%11\n",
    "                # k_1 = sum(v_1*test_arr)%11\n",
    "                # k_2 = sum(v_2*test_arr)%11\n",
    "            \n",
    "        nr_arr[plass]=(nr_arr[plass]-feil)%11\n",
    "        nr = nr[0:plass]+str((int(nr[plass])-feil)%11)+nr[plass+1:]\n",
    "        k_1 = sum(v_1*nr_arr)%11\n",
    "        k_2 = sum(v_2*nr_arr)%11\n",
    "        print(f'Personnummeret er rettet til: {nr}')\n",
    "\n",
    "    if k_1 == 0 or k_2 == 0:\n",
    "        kjønn = kjønn_liste[nr_arr[-3]%2] # om tredje siste siffer er partall, hentes 'Kvinne'\n",
    "        \n",
    "        # finner rett århundre\n",
    "        tiår = int(nr[4:6])\n",
    "        individ = int(nr[6:9])\n",
    "        \n",
    "        if (individ>499 and individ < 745) and tiår > 54:\n",
    "            hundreår = 18\n",
    "            \n",
    "        elif (individ>499 and individ < 745) and tiår < 40:\n",
    "            hundreår = 20\n",
    "            \n",
    "        else:\n",
    "            hundreår = 19\n",
    "        \n",
    "        print(f'Personnummeret tilhører en {kjønn} som er født {nr[0:2]}/{nr[2:4]}/{hundreår}{tiår}') "
   ]
  },
  {
   "cell_type": "markdown",
   "id": "dadcd00a-59a2-4c17-9ede-f8443338476b",
   "metadata": {},
   "source": [
    "### Arrays fra numpy \n",
    "* NumPy (Numerical Python)  open source Python library \n",
    "* ndarray - n- dimensjonal array\n",
    "\n",
    "NumPy arrays are faster and more compact than Python lists. An array consumes less memory and is convenient to use. NumPy uses much less memory to store data and it provides a mechanism of specifying the data types. This allows the code to be optimized even further.\n",
    "\n",
    "#### Lage array\n",
    "np.array(), np.zeros(), np.ones(), np.empty(), np.arange(), np.linspace()"
   ]
  },
  {
   "cell_type": "code",
   "execution_count": 24,
   "id": "c9d56d42-f049-46ba-ab14-a9479d3c606b",
   "metadata": {},
   "outputs": [
    {
     "data": {
      "text/plain": [
       "array([1.00000000e+001, 1.62377674e+006, 2.63665090e+011, 4.28133240e+016,\n",
       "       6.95192796e+021, 1.12883789e+027, 1.83298071e+032, 2.97635144e+037,\n",
       "       4.83293024e+042, 7.84759970e+047, 1.27427499e+053, 2.06913808e+058,\n",
       "       3.35981829e+063, 5.45559478e+068, 8.85866790e+073, 1.43844989e+079,\n",
       "       2.33572147e+084, 3.79269019e+089, 6.15848211e+094, 1.00000000e+100])"
      ]
     },
     "execution_count": 24,
     "metadata": {},
     "output_type": "execute_result"
    }
   ],
   "source": [
    "import numpy as np\n",
    "np.array([1,2,3])\n",
    "np.zeros(3)\n",
    "np.ones(3)\n",
    "np.empty(4)\n",
    "np.arange(1,10,2)\n",
    "np.linspace(1,10,100)\n",
    "np.logspace(1,100,20)"
   ]
  },
  {
   "cell_type": "code",
   "execution_count": 29,
   "id": "7d9e69bb-3709-48d1-b86a-e5dce62b7b01",
   "metadata": {},
   "outputs": [
    {
     "data": {
      "text/plain": [
       "array([2, 8, 9])"
      ]
     },
     "execution_count": 29,
     "metadata": {},
     "output_type": "execute_result"
    }
   ],
   "source": [
    "a = np.array([1,2,3])\n",
    "b = np.array([2,4,3])\n",
    "a*b"
   ]
  },
  {
   "cell_type": "code",
   "execution_count": 31,
   "id": "18790dce-cb14-4d55-b459-b618d82b889e",
   "metadata": {},
   "outputs": [
    {
     "data": {
      "text/plain": [
       "19"
      ]
     },
     "execution_count": 31,
     "metadata": {},
     "output_type": "execute_result"
    }
   ],
   "source": [
    "a@b\n",
    "np.sum(a*b)"
   ]
  },
  {
   "cell_type": "code",
   "execution_count": 35,
   "id": "b8db59b7-0861-4392-859c-30334fb6560a",
   "metadata": {},
   "outputs": [
    {
     "data": {
      "text/plain": [
       "array([1, 4, 9], dtype=int32)"
      ]
     },
     "execution_count": 35,
     "metadata": {},
     "output_type": "execute_result"
    }
   ],
   "source": [
    "def f(x):\n",
    "    return x**2\n",
    "\n",
    "f(a)"
   ]
  },
  {
   "cell_type": "markdown",
   "id": "b395c75d-237b-4dd4-b150-d5e0e9571b57",
   "metadata": {},
   "source": [
    "**Vektoriseringseksempel**\n",
    "Hentet fra https://progmod.no/docs/tema3_datahandtering/datasamlinger.html"
   ]
  },
  {
   "cell_type": "code",
   "execution_count": 36,
   "id": "bbff6784-2e85-42f1-9c3e-4ac07e40addc",
   "metadata": {},
   "outputs": [
    {
     "name": "stdout",
     "output_type": "stream",
     "text": [
      "Ikke-vektorisert: 0.2905569076538086 sekunder.\n",
      "Vektorisert kode: 0.0 sekunder.\n"
     ]
    }
   ],
   "source": [
    "import numpy as np\n",
    "import time\n",
    "\n",
    "N = 1000000\n",
    "a = np.linspace(0, 10, N)\n",
    "b = np.linspace(1, 11, N)\n",
    "c = np.zeros(N)\n",
    "\n",
    "tid_start1 = time.time() # registrerer starttidspunkt\n",
    "\n",
    "for i in range(N):       # løkke der vi legger sammen a og b komponentvis\n",
    "  c[i] = a[i] + b[i]\n",
    "  \n",
    "tid_slutt1 = time.time() # registrerer slutt-tidspunkt\n",
    "\n",
    "tid_start2 = time.time()\n",
    "\n",
    "c = a + b                # vektorisert kode\n",
    "\n",
    "tid_slutt2 = time.time()\n",
    "\n",
    "print(\"Ikke-vektorisert:\", tid_slutt1 - tid_start1, \"sekunder.\")\n",
    "print(\"Vektorisert kode:\", tid_slutt2 - tid_start2, \"sekunder.\")"
   ]
  },
  {
   "cell_type": "markdown",
   "id": "14194c2d-dbb3-45d8-8e43-4f643cb28c6c",
   "metadata": {},
   "source": []
  },
  {
   "cell_type": "markdown",
   "id": "e104dde9-f677-4ac7-a0e6-99d6a7364681",
   "metadata": {},
   "source": [
    "\n",
    "**vektorisering oppgave**\n",
    "Programmet under er fra kraft 1 og regner ut gjennomsnittsfart ved å lage en løkke.\n",
    "Kan du bruke vektorisering i stede for ?"
   ]
  },
  {
   "cell_type": "code",
   "execution_count": 7,
   "id": "6b0ae1a1-03cd-4c59-86c4-50b2bd94c422",
   "metadata": {},
   "outputs": [
    {
     "data": {
      "image/png": "[encoded data removed]",
      "text/plain": [
       "<Figure size 432x288 with 1 Axes>"
      ]
     },
     "metadata": {
      "needs_background": "light"
     },
     "output_type": "display_data"
    }
   ],
   "source": [
    "import numpy as np\n",
    "import matplotlib.pyplot as plt\n",
    "\n",
    "data = np.loadtxt(\"https://raw.githubusercontent.com/LektorB/ProgMod/main/sykkel.txt\")\n",
    "\n",
    "t = data[:,0]\n",
    "s = data[:,1]\n",
    "\n",
    "# n = len(t)          #Bytt de fire neste kodelinjene ut med en enkel\n",
    "# v = np.zeros(n-1)\n",
    "\n",
    "# for i in range(1,n-1):\n",
    "#   v[i] = (s[i]-s[i-1])/(t[i]-t[i-1])\n",
    "v = (s[1:]-s[:-1])/(t[1:]-t[:-1])\n",
    "\n",
    "plt.figure(1)\n",
    "plt.plot(t[:-1],v) # Denne må du nok skrive om også\n",
    "plt.grid()\n",
    "plt.title(\"Fart\")\n",
    "plt.xlabel(\"$t$ / s\")\n",
    "plt.ylabel(\"$v$ / (m/s)\")\n",
    "plt.show()"
   ]
  },
  {
   "cell_type": "code",
   "execution_count": null,
   "id": "e6490852-d9a7-4189-8fb9-190c40ee68b4",
   "metadata": {},
   "outputs": [],
   "source": [
    "import numpy as np\n",
    "import matplotlib.pyplot as plt\n",
    "\n",
    "data = np.loadtxt(\"https://raw.githubusercontent.com/LektorB/ProgMod/main/sykkel.txt\")\n",
    "\n",
    "t = data[:,0]\n",
    "s = data[:,1]\n",
    "\n",
    "n = len(t)          #Bytt de fire neste kodelinjene ut med en enkel\n",
    "v = np.zeros(n-1)\n",
    "\n",
    "for i in range(1,n-1):\n",
    "  v[i] = (s[i]-s[i-1])/(t[i]-t[i-1])\n",
    "\n",
    "plt.figure(1)\n",
    "plt.plot(t[1:n-1],v[1:n-1]) # Denne må du nok skrive om også\n",
    "plt.grid()\n",
    "plt.title(\"Fart\")\n",
    "plt.xlabel(\"$t$ / s\")\n",
    "plt.ylabel(\"$v$ / (m/s)\")\n",
    "plt.show()"
   ]
  },
  {
   "cell_type": "markdown",
   "id": "2dc4e14f-5b86-49c0-9a6b-db22db18d426",
   "metadata": {},
   "source": [
    "Flere oppgaver om"
   ]
  },
  {
   "cell_type": "markdown",
   "id": "ee3ada13-57b2-4ff8-9940-1ad998e54086",
   "metadata": {},
   "source": [
    "### Datarammer fra pandas"
   ]
  },
  {
   "cell_type": "code",
   "execution_count": 10,
   "id": "d3293213-4286-4d89-95a0-6ceffd977628",
   "metadata": {},
   "outputs": [
    {
     "ename": "TypeError",
     "evalue": "can't convert complex to float",
     "output_type": "error",
     "traceback": [
      "\u001b[1;31m---------------------------------------------------------------------------\u001b[0m",
      "\u001b[1;31mTypeError\u001b[0m                                 Traceback (most recent call last)",
      "Input \u001b[1;32mIn [10]\u001b[0m, in \u001b[0;36m<cell line: 4>\u001b[1;34m()\u001b[0m\n\u001b[0;32m      1\u001b[0m \u001b[38;5;28;01mfrom\u001b[39;00m \u001b[38;5;21;01mmath\u001b[39;00m \u001b[38;5;28;01mimport\u001b[39;00m sqrt\n\u001b[0;32m      3\u001b[0m d\u001b[38;5;241m=\u001b[39m\u001b[38;5;241m4\u001b[39m\u001b[38;5;241m+\u001b[39m\u001b[38;5;241m3\u001b[39mj\n\u001b[1;32m----> 4\u001b[0m \u001b[43msqrt\u001b[49m\u001b[43m(\u001b[49m\u001b[43md\u001b[49m\u001b[43m)\u001b[49m\n",
      "\u001b[1;31mTypeError\u001b[0m: can't convert complex to float"
     ]
    }
   ],
   "source": []
  },
  {
   "cell_type": "code",
   "execution_count": null,
   "id": "2bce7343-cd0b-4c74-a1a2-ba0f86953c96",
   "metadata": {},
   "outputs": [],
   "source": []
  }
 ],
 "metadata": {
  "kernelspec": {
   "display_name": "Python 3 (ipykernel)",
   "language": "python",
   "name": "python3"
  },
  "language_info": {
   "codemirror_mode": {
    "name": "ipython",
    "version": 3
   },
   "file_extension": ".py",
   "mimetype": "text/x-python",
   "name": "python",
   "nbconvert_exporter": "python",
   "pygments_lexer": "ipython3",
   "version": "3.9.12"
  }
 },
 "nbformat": 4,
 "nbformat_minor": 5
}
