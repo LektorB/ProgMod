{
 "cells": [
  {
   "cell_type": "markdown",
   "id": "3621d1e9-7875-4377-88af-5c03a857b3f1",
   "metadata": {},
   "source": [
    "### Variabler og datatyper"
   ]
  },
  {
   "cell_type": "code",
   "execution_count": 1,
   "id": "3645da26-3f0b-4899-bd6f-5d6bba96fc42",
   "metadata": {},
   "outputs": [],
   "source": [
    "a = 2 # heltall\n",
    "b = 2.0 #flyttall\n",
    "b2 = 1e-3 \n",
    "c = 'en streng' \n",
    "d = False # Boolsk variabel\n",
    "e = 1 + 3j #komplekse tall\n"
   ]
  },
  {
   "cell_type": "code",
   "execution_count": 2,
   "id": "bda794fd-6524-49f8-8a06-28108bded2e0",
   "metadata": {},
   "outputs": [
    {
     "name": "stdout",
     "output_type": "stream",
     "text": [
      "type(a)=<class 'int'>\n"
     ]
    },
    {
     "data": {
      "text/plain": [
       "['__abs__',\n",
       " '__add__',\n",
       " '__and__',\n",
       " '__bool__',\n",
       " '__ceil__',\n",
       " '__class__',\n",
       " '__delattr__',\n",
       " '__dir__',\n",
       " '__divmod__',\n",
       " '__doc__',\n",
       " '__eq__',\n",
       " '__float__',\n",
       " '__floor__',\n",
       " '__floordiv__',\n",
       " '__format__',\n",
       " '__ge__',\n",
       " '__getattribute__',\n",
       " '__getnewargs__',\n",
       " '__gt__',\n",
       " '__hash__',\n",
       " '__index__',\n",
       " '__init__',\n",
       " '__init_subclass__',\n",
       " '__int__',\n",
       " '__invert__',\n",
       " '__le__',\n",
       " '__lshift__',\n",
       " '__lt__',\n",
       " '__mod__',\n",
       " '__mul__',\n",
       " '__ne__',\n",
       " '__neg__',\n",
       " '__new__',\n",
       " '__or__',\n",
       " '__pos__',\n",
       " '__pow__',\n",
       " '__radd__',\n",
       " '__rand__',\n",
       " '__rdivmod__',\n",
       " '__reduce__',\n",
       " '__reduce_ex__',\n",
       " '__repr__',\n",
       " '__rfloordiv__',\n",
       " '__rlshift__',\n",
       " '__rmod__',\n",
       " '__rmul__',\n",
       " '__ror__',\n",
       " '__round__',\n",
       " '__rpow__',\n",
       " '__rrshift__',\n",
       " '__rshift__',\n",
       " '__rsub__',\n",
       " '__rtruediv__',\n",
       " '__rxor__',\n",
       " '__setattr__',\n",
       " '__sizeof__',\n",
       " '__str__',\n",
       " '__sub__',\n",
       " '__subclasshook__',\n",
       " '__truediv__',\n",
       " '__trunc__',\n",
       " '__xor__',\n",
       " 'as_integer_ratio',\n",
       " 'bit_length',\n",
       " 'conjugate',\n",
       " 'denominator',\n",
       " 'from_bytes',\n",
       " 'imag',\n",
       " 'numerator',\n",
       " 'real',\n",
       " 'to_bytes']"
      ]
     },
     "execution_count": 2,
     "metadata": {},
     "output_type": "execute_result"
    }
   ],
   "source": [
    "print(f'type(a)={type(a)}')\n",
    "dir(a)"
   ]
  },
  {
   "cell_type": "code",
   "execution_count": 3,
   "id": "baa395ee-2828-41f4-a8b5-728f79aa0590",
   "metadata": {},
   "outputs": [
    {
     "data": {
      "text/plain": [
       "'e'"
      ]
     },
     "execution_count": 3,
     "metadata": {},
     "output_type": "execute_result"
    }
   ],
   "source": [
    "c[0]"
   ]
  },
  {
   "cell_type": "code",
   "execution_count": 4,
   "id": "869f9725-0f5d-46d0-a4db-9aadc60c8201",
   "metadata": {
    "tags": []
   },
   "outputs": [
    {
     "data": {
      "text/plain": [
       "'treng'"
      ]
     },
     "execution_count": 4,
     "metadata": {},
     "output_type": "execute_result"
    }
   ],
   "source": [
    "c[4:]"
   ]
  },
  {
   "cell_type": "code",
   "execution_count": 5,
   "id": "11b1e924-8d41-477f-8673-ac6f08a4f25e",
   "metadata": {},
   "outputs": [
    {
     "name": "stdout",
     "output_type": "stream",
     "text": [
      "e\n",
      "n\n",
      " \n",
      "s\n",
      "t\n",
      "r\n",
      "e\n",
      "n\n",
      "g\n"
     ]
    }
   ],
   "source": [
    "liste_1=[]\n",
    "for x in c:\n",
    "    print(x)\n",
    "    liste_1.append(x) # lager en liste av elmentene i strengen\n",
    "    \n",
    "    "
   ]
  },
  {
   "cell_type": "code",
   "execution_count": 6,
   "id": "e0177b37-16e0-4ffc-80bb-bc650d6ea057",
   "metadata": {},
   "outputs": [
    {
     "data": {
      "text/plain": [
       "['e', 'n', ' ', 's', 't', 'r', 'e', 'n', 'g']"
      ]
     },
     "execution_count": 6,
     "metadata": {},
     "output_type": "execute_result"
    }
   ],
   "source": [
    "liste_1"
   ]
  },
  {
   "cell_type": "code",
   "execution_count": 7,
   "id": "33c94d3c-5db4-4c73-b0fd-9516055323ea",
   "metadata": {},
   "outputs": [
    {
     "name": "stdout",
     "output_type": "stream",
     "text": [
      "4\n"
     ]
    }
   ],
   "source": [
    "a=4\n",
    "b=a\n",
    "a=3\n",
    "print(b)"
   ]
  },
  {
   "cell_type": "code",
   "execution_count": 8,
   "id": "0bec7a74-0826-4a9e-9deb-097c6144323a",
   "metadata": {},
   "outputs": [
    {
     "name": "stdout",
     "output_type": "stream",
     "text": [
      "2\n",
      "5\n"
     ]
    }
   ],
   "source": [
    "a, b = 2, 5\n",
    "print(a)\n",
    "print(b)"
   ]
  },
  {
   "cell_type": "code",
   "execution_count": 9,
   "id": "a21cda11-f745-445a-ab69-acf3bfbf3389",
   "metadata": {},
   "outputs": [
    {
     "data": {
      "text/plain": [
       "tuple"
      ]
     },
     "execution_count": 9,
     "metadata": {},
     "output_type": "execute_result"
    }
   ],
   "source": [
    "f = 2, 5\n",
    "type(f)"
   ]
  },
  {
   "cell_type": "markdown",
   "id": "8209a77e-38b9-40fe-8de2-cdde6d7b2663",
   "metadata": {},
   "source": [
    "Mer om datatyper:\n",
    "https://realpython.com/python-data-types/"
   ]
  },
  {
   "cell_type": "markdown",
   "id": "230b638e-f1b1-4d82-9697-f9a36fe8d4b2",
   "metadata": {},
   "source": [
    "### Containers - datasamlere\n",
    "List, tuple, set og dict.\n",
    "Lister kan endres på, men ikke tupler. Set var uordnet, kan derfor ikke flere av samme verdi.\n",
    "https://www.w3schools.com/python/python_lists.asp"
   ]
  },
  {
   "cell_type": "code",
   "execution_count": 10,
   "id": "2949baea-d22b-4f89-ba78-a943b3c3b4e8",
   "metadata": {},
   "outputs": [
    {
     "data": {
      "text/plain": [
       "[1, 2, 3, 4]"
      ]
     },
     "execution_count": 10,
     "metadata": {},
     "output_type": "execute_result"
    }
   ],
   "source": [
    "liste_a=[1,2,3,4]\n",
    "liste_b=liste_a\n",
    "liste_b"
   ]
  },
  {
   "cell_type": "code",
   "execution_count": 11,
   "id": "04f03110-7d4c-47b7-b96d-7c564b6ee040",
   "metadata": {},
   "outputs": [
    {
     "data": {
      "text/plain": [
       "[1, 6, 3, 4]"
      ]
     },
     "execution_count": 11,
     "metadata": {},
     "output_type": "execute_result"
    }
   ],
   "source": [
    "liste_a[1] = 6\n",
    "liste_b"
   ]
  },
  {
   "cell_type": "code",
   "execution_count": 12,
   "id": "0abc9279-3b87-44d5-8720-928d31d06502",
   "metadata": {},
   "outputs": [
    {
     "data": {
      "text/plain": [
       "[1, 2, 3, 4]"
      ]
     },
     "execution_count": 12,
     "metadata": {},
     "output_type": "execute_result"
    }
   ],
   "source": [
    "liste_a=[1,2,3,4]\n",
    "liste_b=liste_a.copy() # lager en ny liste ved hjelp av en tidligere\n",
    "liste_b\n",
    "liste_a[1] = 6\n",
    "liste_b"
   ]
  },
  {
   "cell_type": "code",
   "execution_count": 13,
   "id": "97892c91-75d6-4915-b6f8-78f2ab93a148",
   "metadata": {},
   "outputs": [
    {
     "data": {
      "text/plain": [
       "[6, 4]"
      ]
     },
     "execution_count": 13,
     "metadata": {},
     "output_type": "execute_result"
    }
   ],
   "source": [
    "ny_liste = []\n",
    "for i in range(len(liste_a)):\n",
    "    if liste_a[i]%2==0:\n",
    "        ny_liste.append(liste_a[i])\n",
    "ny_liste"
   ]
  },
  {
   "cell_type": "code",
   "execution_count": 14,
   "id": "81e19242-b9be-4939-b064-f2aaa95bab93",
   "metadata": {},
   "outputs": [
    {
     "data": {
      "text/plain": [
       "[36, 16]"
      ]
     },
     "execution_count": 14,
     "metadata": {},
     "output_type": "execute_result"
    }
   ],
   "source": [
    "# enklere med list comprehension\n",
    "enda_en_liste = [x**2 for x in liste_a if x%2==0]\n",
    "enda_en_liste"
   ]
  },
  {
   "cell_type": "code",
   "execution_count": 15,
   "id": "1fd5058c-a296-4a76-b1e9-ec9308145afe",
   "metadata": {},
   "outputs": [
    {
     "data": {
      "text/plain": [
       "[1, 2, 3, 4, 5, 6, 7]"
      ]
     },
     "execution_count": 15,
     "metadata": {},
     "output_type": "execute_result"
    }
   ],
   "source": [
    "# kan brukes på flere datatyper:\n",
    "streng = '1234567'\n",
    "streng_som_liste = [ int(x) for x in streng] \n",
    "streng_som_liste"
   ]
  },
  {
   "cell_type": "markdown",
   "id": "d8ad0f75-6c56-4635-9d6a-e435fb4f9d19",
   "metadata": {},
   "source": [
    "#### oppgave\n",
    "Lag et program som ber om og tar inn personnummer som en streng. \n",
    "* sjekk om personummeret har rett antall siffer\n",
    "* sjekk kjønnet til personen\n",
    "* sjekk om personnumeret er et gyldig personnummer\n",
    "* Sjekke om 230902 er født i 1902 eller 2002\n",
    "* dersom ett siffer er feil, rett feilen\n",
    "* (dersom to siffer er feil fortell hvilke. Det blir vanskelig. Alternativt: du mangler to siffer, men kjenner plassen. Finn hele personnummeret.) \n",
    "\n",
    "\n",
    "**Bonus:**\n",
    "Testen vår sjekker ikke om datoen er reel. Kan du lage en test som ikke lar 52. oktober slippe gjennom?"
   ]
  },
  {
   "cell_type": "markdown",
   "id": "565eea98-99d3-41ce-a129-59c327e280f4",
   "metadata": {},
   "source": [
    "**Løsningsforslag for de fire første kulepunktene.** "
   ]
  },
  {
   "cell_type": "code",
   "execution_count": 16,
   "id": "20c71185-57dd-4e68-a1a2-9b03ff182e0d",
   "metadata": {
    "tags": []
   },
   "outputs": [
    {
     "name": "stdin",
     "output_type": "stream",
     "text": [
      "Skriv inn personnummer: DDMMÅÅXXXXX \n",
      " 12345678910\n"
     ]
    },
    {
     "name": "stdout",
     "output_type": "stream",
     "text": [
      "Dette er ikke et gyldig personnummer\n"
     ]
    }
   ],
   "source": [
    "import numpy as np\n",
    "\n",
    "# vektene finnes i ulike varianter, denne er lettest å bruke for å sjekke kontrollsifferet er korrekt\n",
    "v_1 = np.array([8,4,5,10,3,2,7,6,9,10,0]) \n",
    "v_2 = np.array([6,7,8,9,4,5,6,7,8,9,10])\n",
    "kjønn_liste = ['kvinne','mann']\n",
    "\n",
    "nr = input('Skriv inn personnummer: DDMMÅÅXXXXX \\n')\n",
    "nr_arr = np.array([int(x) for x in nr])\n",
    "\n",
    "if len(nr_arr) != 11:\n",
    "    print('Du må skrive inn personnummer med 11 siffer')\n",
    "    \n",
    "else:\n",
    "    k_1 = sum(v_1*nr_arr)%11\n",
    "    k_2 = sum(v_2*nr_arr)%11\n",
    "    \n",
    "    if k_1 != 0 or k_2 != 0:\n",
    "        print('Dette er ikke et gyldig personnummer')\n",
    "        \n",
    "    else:\n",
    "        kjønn = kjønn_liste[nr_arr[-3]%2] # om tredje siste siffer er partall, hentes 'Kvinne'\n",
    "        \n",
    "        # finner rett århundre\n",
    "        tiår = int(nr[4:6])\n",
    "        individ = int(nr[6:9])\n",
    "        \n",
    "        if (individ>499 and individ < 745) and tiår > 54:\n",
    "            hundreår = 18\n",
    "            \n",
    "        elif (individ>499 and individ < 745) and tiår < 40:\n",
    "            hundreår = 20\n",
    "            \n",
    "        else:\n",
    "            hundreår = 19\n",
    "        \n",
    "        print(f'Personnummeret tilhører en {kjønn} som er født {nr[0:2]}/{nr[2:4]}/{hundreår}{tiår}') "
   ]
  },
  {
   "cell_type": "markdown",
   "id": "4ab79dac-8044-48ba-8e96-7d86a1cd1c27",
   "metadata": {},
   "source": [
    "Med feilretting av 1 feil siffer:"
   ]
  },
  {
   "cell_type": "code",
   "execution_count": 17,
   "id": "f4e2976c-140f-4279-8534-1a9306a9e12f",
   "metadata": {},
   "outputs": [
    {
     "name": "stdin",
     "output_type": "stream",
     "text": [
      "Skriv inn personnummer: DDMMÅÅXXXXX \n",
      " 230477347632\n"
     ]
    },
    {
     "name": "stdout",
     "output_type": "stream",
     "text": [
      "Du må skrive inn personnummer med 11 siffer\n"
     ]
    }
   ],
   "source": [
    "import numpy as np\n",
    "\n",
    "# vektene finnes i ulike varianter, denne er lettest å bruke for å sjekke kontrollsifferet er korrekt\n",
    "v_1 = np.array([8,4,5,10,3,2,7,6,9,10,0]) \n",
    "v_2 = np.array([6,7,8,9,4,5,6,7,8,9,10])\n",
    "kjønn_liste = ['kvinne','mann']\n",
    "\n",
    "# Lager to todimensjonale arrayer og fyller med alle muligheter for feil\n",
    "liste = np.arange(1,11)\n",
    "A = np.array([list((x)*v_1%11) for x in liste])\n",
    "B = np.array([list((x)*v_2%11) for x in liste])\n",
    "\n",
    "\n",
    "nr = input('Skriv inn personnummer: DDMMÅÅXXXXX \\n')\n",
    "nr_arr = np.array([int(x) for x in nr])\n",
    "\n",
    "if len(nr_arr) != 11:\n",
    "    print('Du må skrive inn personnummer med 11 siffer')\n",
    "    \n",
    "else:\n",
    "    k_1 = sum(v_1*nr_arr)%11\n",
    "    k_2 = sum(v_2*nr_arr)%11\n",
    "    \n",
    "    if k_1 != 0 or k_2 != 0:\n",
    "        print('Dette er ikke et gyldig personnummer, prøver å rette feilen ...')\n",
    "        feil = 'fant ikke tallpar'\n",
    "        \n",
    "        index_Ay,index_Ax = np.where(A == k_1)\n",
    "        \n",
    "        for i in range(10):\n",
    "            if B[index_Ay[i],index_Ax[i]] == k_2:\n",
    "                feil , plass = (index_Ay[i]+1,index_Ax[i])\n",
    "        \n",
    "        if feil == 'fant ikke tallpar':\n",
    "                print('Det er for mange feil, skjekk personnummeret og skriv inn igjen')\n",
    "        \n",
    "        if plass == 3 or plass == 8:\n",
    "            plass = 3\n",
    "            test_arr = np.array(nr_arr)\n",
    "            test_arr[plass]=(test_arr[plass]-feil)%11\n",
    "            k_1 = sum(v_1*test_arr)%11\n",
    "            k_2 = sum(v_2*test_arr)%11\n",
    "            \n",
    "            if k_1 != 0 or k_2 != 0:\n",
    "                plass = 8\n",
    "                # test_arr = np.array(nr_arr)\n",
    "                # test_arr[plass]=(test_arr[plass]-feil)%11\n",
    "                # k_1 = sum(v_1*test_arr)%11\n",
    "                # k_2 = sum(v_2*test_arr)%11\n",
    "            \n",
    "        nr_arr[plass]=(nr_arr[plass]-feil)%11\n",
    "        nr = nr[0:plass]+str((int(nr[plass])-feil)%11)+nr[plass+1:]\n",
    "        k_1 = sum(v_1*nr_arr)%11\n",
    "        k_2 = sum(v_2*nr_arr)%11\n",
    "        print(f'Personnummeret er rettet til: {nr}')\n",
    "\n",
    "    if k_1 == 0 or k_2 == 0:\n",
    "        kjønn = kjønn_liste[nr_arr[-3]%2] # om tredje siste siffer er partall, hentes 'Kvinne'\n",
    "        \n",
    "        # finner rett århundre\n",
    "        tiår = int(nr[4:6])\n",
    "        individ = int(nr[6:9])\n",
    "        \n",
    "        if (individ>499 and individ < 745) and tiår > 54:\n",
    "            hundreår = 18\n",
    "            \n",
    "        elif (individ>499 and individ < 745) and tiår < 40:\n",
    "            hundreår = 20\n",
    "            \n",
    "        else:\n",
    "            hundreår = 19\n",
    "        \n",
    "        print(f'Personnummeret tilhører en {kjønn} som er født {nr[0:2]}/{nr[2:4]}/{hundreår}{tiår}') "
   ]
  },
  {
   "cell_type": "markdown",
   "id": "dadcd00a-59a2-4c17-9ede-f8443338476b",
   "metadata": {},
   "source": [
    "### Arrays fra numpy \n",
    "* NumPy (Numerical Python)  open source Python library \n",
    "* ndarray - n- dimensjonal array\n",
    "\n",
    "NumPy arrays are faster and more compact than Python lists. An array consumes less memory and is convenient to use. NumPy uses much less memory to store data and it provides a mechanism of specifying the data types. This allows the code to be optimized even further.\n",
    "\n",
    "#### Lage array\n",
    "np.array(), np.zeros(), np.ones(), np.empty(), np.arange(), np.linspace()"
   ]
  },
  {
   "cell_type": "code",
   "execution_count": 18,
   "id": "c9d56d42-f049-46ba-ab14-a9479d3c606b",
   "metadata": {},
   "outputs": [
    {
     "data": {
      "text/plain": [
       "array([1.00000000e+001, 1.62377674e+006, 2.63665090e+011, 4.28133240e+016,\n",
       "       6.95192796e+021, 1.12883789e+027, 1.83298071e+032, 2.97635144e+037,\n",
       "       4.83293024e+042, 7.84759970e+047, 1.27427499e+053, 2.06913808e+058,\n",
       "       3.35981829e+063, 5.45559478e+068, 8.85866790e+073, 1.43844989e+079,\n",
       "       2.33572147e+084, 3.79269019e+089, 6.15848211e+094, 1.00000000e+100])"
      ]
     },
     "execution_count": 18,
     "metadata": {},
     "output_type": "execute_result"
    }
   ],
   "source": [
    "import numpy as np\n",
    "np.array([1,2,3])\n",
    "np.zeros(3)\n",
    "np.ones(3)\n",
    "np.empty(4)\n",
    "np.arange(1,10,2)\n",
    "np.linspace(1,10,100)\n",
    "np.logspace(1,100,20)"
   ]
  },
  {
   "cell_type": "code",
   "execution_count": 19,
   "id": "7d9e69bb-3709-48d1-b86a-e5dce62b7b01",
   "metadata": {},
   "outputs": [
    {
     "data": {
      "text/plain": [
       "array([2, 8, 9])"
      ]
     },
     "execution_count": 19,
     "metadata": {},
     "output_type": "execute_result"
    }
   ],
   "source": [
    "a = np.array([1,2,3])\n",
    "b = np.array([2,4,3])\n",
    "a*b"
   ]
  },
  {
   "cell_type": "code",
   "execution_count": 26,
   "id": "18790dce-cb14-4d55-b459-b618d82b889e",
   "metadata": {},
   "outputs": [
    {
     "data": {
      "text/plain": [
       "38333350.00001667"
      ]
     },
     "execution_count": 26,
     "metadata": {},
     "output_type": "execute_result"
    }
   ],
   "source": [
    "a@b\n",
    "np.sum(a*b)"
   ]
  },
  {
   "cell_type": "code",
   "execution_count": 27,
   "id": "b8db59b7-0861-4392-859c-30334fb6560a",
   "metadata": {},
   "outputs": [
    {
     "data": {
      "text/plain": [
       "array([0.000000e+00, 1.000002e-10, 4.000008e-10, ..., 9.999960e+01,\n",
       "       9.999980e+01, 1.000000e+02])"
      ]
     },
     "execution_count": 27,
     "metadata": {},
     "output_type": "execute_result"
    }
   ],
   "source": [
    "def f(x):\n",
    "    return x**2\n",
    "\n",
    "f(a)"
   ]
  },
  {
   "cell_type": "markdown",
   "id": "b395c75d-237b-4dd4-b150-d5e0e9571b57",
   "metadata": {},
   "source": [
    "**Vektoriseringseksempel**\n",
    "Hentet fra https://progmod.no/docs/tema3_datahandtering/datasamlinger.html"
   ]
  },
  {
   "cell_type": "code",
   "execution_count": 28,
   "id": "bbff6784-2e85-42f1-9c3e-4ac07e40addc",
   "metadata": {},
   "outputs": [
    {
     "name": "stdout",
     "output_type": "stream",
     "text": [
      "Ikke-vektorisert: 0.3893911838531494 sekunder.\n",
      "Vektorisert kode: 0.003984212875366211 sekunder.\n"
     ]
    }
   ],
   "source": [
    "import numpy as np\n",
    "import time\n",
    "\n",
    "N = 1000000\n",
    "a = np.linspace(0, 10, N)\n",
    "b = np.linspace(1, 11, N)\n",
    "c = np.zeros(N)\n",
    "\n",
    "tid_start1 = time.time() # registrerer starttidspunkt\n",
    "\n",
    "for i in range(N):       # løkke der vi legger sammen a og b komponentvis\n",
    "  c[i] = a[i] + b[i]\n",
    "  \n",
    "tid_slutt1 = time.time() # registrerer slutt-tidspunkt\n",
    "\n",
    "tid_start2 = time.time()\n",
    "\n",
    "c = a + b                # vektorisert kode\n",
    "\n",
    "tid_slutt2 = time.time()\n",
    "\n",
    "print(\"Ikke-vektorisert:\", tid_slutt1 - tid_start1, \"sekunder.\")\n",
    "print(\"Vektorisert kode:\", tid_slutt2 - tid_start2, \"sekunder.\")"
   ]
  },
  {
   "cell_type": "markdown",
   "id": "14194c2d-dbb3-45d8-8e43-4f643cb28c6c",
   "metadata": {},
   "source": []
  },
  {
   "cell_type": "markdown",
   "id": "e104dde9-f677-4ac7-a0e6-99d6a7364681",
   "metadata": {},
   "source": [
    "\n",
    "**vektorisering oppgave**\n",
    "Programmet under er fra kraft 1 og regner ut gjennomsnittsfart ved å lage en løkke.\n",
    "Kan du bruke vektorisering i stede for ?"
   ]
  },
  {
   "cell_type": "code",
   "execution_count": 29,
   "id": "6b0ae1a1-03cd-4c59-86c4-50b2bd94c422",
   "metadata": {},
   "outputs": [
    {
     "data": {
      "image/png": "[encoded data removed]",
      "text/plain": [
       "<Figure size 640x480 with 1 Axes>"
      ]
     },
     "metadata": {},
     "output_type": "display_data"
    }
   ],
   "source": [
    "import numpy as np\n",
    "import matplotlib.pyplot as plt\n",
    "\n",
    "data = np.loadtxt(\"https://raw.githubusercontent.com/LektorB/ProgMod/main/sykkel.txt\")\n",
    "\n",
    "t = data[:,0]\n",
    "s = data[:,1]\n",
    "\n",
    "# n = len(t)          #Bytt de fire neste kodelinjene ut med en enkel\n",
    "# v = np.zeros(n-1)\n",
    "\n",
    "# for i in range(1,n-1):\n",
    "#   v[i] = (s[i]-s[i-1])/(t[i]-t[i-1])\n",
    "v = (s[1:]-s[:-1])/(t[1:]-t[:-1])\n",
    "\n",
    "plt.figure(1)\n",
    "plt.plot(t[:-1],v) # Denne må du nok skrive om også\n",
    "plt.grid()\n",
    "plt.title(\"Fart\")\n",
    "plt.xlabel(\"$t$ / s\")\n",
    "plt.ylabel(\"$v$ / (m/s)\")\n",
    "plt.show()"
   ]
  },
  {
   "cell_type": "code",
   "execution_count": 30,
   "id": "e6490852-d9a7-4189-8fb9-190c40ee68b4",
   "metadata": {},
   "outputs": [
    {
     "data": {
      "image/png": "[encoded data removed]",
      "text/plain": [
       "<Figure size 640x480 with 1 Axes>"
      ]
     },
     "metadata": {},
     "output_type": "display_data"
    }
   ],
   "source": [
    "import numpy as np\n",
    "import matplotlib.pyplot as plt\n",
    "\n",
    "data = np.loadtxt(\"https://raw.githubusercontent.com/LektorB/ProgMod/main/sykkel.txt\")\n",
    "\n",
    "t = data[:,0]\n",
    "s = data[:,1]\n",
    "\n",
    "n = len(t)          #Bytt de fire neste kodelinjene ut med en enkel\n",
    "v = np.zeros(n-1)\n",
    "\n",
    "for i in range(1,n-1):\n",
    "  v[i] = (s[i]-s[i-1])/(t[i]-t[i-1])\n",
    "\n",
    "plt.figure(1)\n",
    "plt.plot(t[1:n-1],v[1:n-1]) # Denne må du nok skrive om også\n",
    "plt.grid()\n",
    "plt.title(\"Fart\")\n",
    "plt.xlabel(\"$t$ / s\")\n",
    "plt.ylabel(\"$v$ / (m/s)\")\n",
    "plt.show()"
   ]
  },
  {
   "cell_type": "markdown",
   "id": "2dc4e14f-5b86-49c0-9a6b-db22db18d426",
   "metadata": {},
   "source": [
    "Flere oppgaver om"
   ]
  },
  {
   "cell_type": "markdown",
   "id": "ee3ada13-57b2-4ff8-9940-1ad998e54086",
   "metadata": {},
   "source": [
    "### Datarammer fra pandas"
   ]
  },
  {
   "cell_type": "code",
   "execution_count": 105,
   "id": "d3293213-4286-4d89-95a0-6ceffd977628",
   "metadata": {},
   "outputs": [],
   "source": [
    "import pandas as pd\n",
    "\n",
    "filnavn = 'https://raw.githubusercontent.com/irendundas/EkteData/main/data/PrecipVestlandMonthly.txt'\n",
    "titler = ['År','Januar','Februar','Mars','April','Mai','Juni','juli','August','September','Oktober','November','Desember']\n",
    "\n",
    "data = pd.read_table(filnavn, header = None, na_values=-999.99, names = titler, index_col =0, sep ='\\s+') \n"
   ]
  },
  {
   "cell_type": "code",
   "execution_count": 106,
   "id": "ca0d946f-e6e4-4a16-8136-08cbeaf64155",
   "metadata": {},
   "outputs": [
    {
     "data": {
      "text/html": [
       "<div>\n",
       "<style scoped>\n",
       "    .dataframe tbody tr th:only-of-type {\n",
       "        vertical-align: middle;\n",
       "    }\n",
       "\n",
       "    .dataframe tbody tr th {\n",
       "        vertical-align: top;\n",
       "    }\n",
       "\n",
       "    .dataframe thead th {\n",
       "        text-align: right;\n",
       "    }\n",
       "</style>\n",
       "<table border=\"1\" class=\"dataframe\">\n",
       "  <thead>\n",
       "    <tr style=\"text-align: right;\">\n",
       "      <th></th>\n",
       "      <th>Januar</th>\n",
       "      <th>Februar</th>\n",
       "      <th>Mars</th>\n",
       "      <th>April</th>\n",
       "      <th>Mai</th>\n",
       "      <th>Juni</th>\n",
       "      <th>juli</th>\n",
       "      <th>August</th>\n",
       "      <th>September</th>\n",
       "      <th>Oktober</th>\n",
       "      <th>November</th>\n",
       "      <th>Desember</th>\n",
       "    </tr>\n",
       "    <tr>\n",
       "      <th>År</th>\n",
       "      <th></th>\n",
       "      <th></th>\n",
       "      <th></th>\n",
       "      <th></th>\n",
       "      <th></th>\n",
       "      <th></th>\n",
       "      <th></th>\n",
       "      <th></th>\n",
       "      <th></th>\n",
       "      <th></th>\n",
       "      <th></th>\n",
       "      <th></th>\n",
       "    </tr>\n",
       "  </thead>\n",
       "  <tbody>\n",
       "    <tr>\n",
       "      <th>1899</th>\n",
       "      <td>NaN</td>\n",
       "      <td>NaN</td>\n",
       "      <td>NaN</td>\n",
       "      <td>NaN</td>\n",
       "      <td>NaN</td>\n",
       "      <td>NaN</td>\n",
       "      <td>NaN</td>\n",
       "      <td>NaN</td>\n",
       "      <td>NaN</td>\n",
       "      <td>NaN</td>\n",
       "      <td>NaN</td>\n",
       "      <td>65.86</td>\n",
       "    </tr>\n",
       "    <tr>\n",
       "      <th>1900</th>\n",
       "      <td>117.68</td>\n",
       "      <td>21.72</td>\n",
       "      <td>91.30</td>\n",
       "      <td>115.01</td>\n",
       "      <td>78.94</td>\n",
       "      <td>27.91</td>\n",
       "      <td>112.34</td>\n",
       "      <td>103.89</td>\n",
       "      <td>222.62</td>\n",
       "      <td>241.72</td>\n",
       "      <td>81.80</td>\n",
       "      <td>367.28</td>\n",
       "    </tr>\n",
       "    <tr>\n",
       "      <th>1901</th>\n",
       "      <td>108.88</td>\n",
       "      <td>81.12</td>\n",
       "      <td>85.97</td>\n",
       "      <td>88.15</td>\n",
       "      <td>60.69</td>\n",
       "      <td>73.56</td>\n",
       "      <td>23.54</td>\n",
       "      <td>208.09</td>\n",
       "      <td>111.47</td>\n",
       "      <td>184.57</td>\n",
       "      <td>220.87</td>\n",
       "      <td>131.04</td>\n",
       "    </tr>\n",
       "    <tr>\n",
       "      <th>1902</th>\n",
       "      <td>424.73</td>\n",
       "      <td>88.64</td>\n",
       "      <td>111.57</td>\n",
       "      <td>26.42</td>\n",
       "      <td>95.32</td>\n",
       "      <td>16.77</td>\n",
       "      <td>111.28</td>\n",
       "      <td>116.53</td>\n",
       "      <td>112.84</td>\n",
       "      <td>182.13</td>\n",
       "      <td>103.10</td>\n",
       "      <td>177.85</td>\n",
       "    </tr>\n",
       "    <tr>\n",
       "      <th>1903</th>\n",
       "      <td>190.97</td>\n",
       "      <td>336.23</td>\n",
       "      <td>285.26</td>\n",
       "      <td>84.90</td>\n",
       "      <td>105.37</td>\n",
       "      <td>67.37</td>\n",
       "      <td>102.14</td>\n",
       "      <td>212.41</td>\n",
       "      <td>81.49</td>\n",
       "      <td>135.33</td>\n",
       "      <td>265.49</td>\n",
       "      <td>39.50</td>\n",
       "    </tr>\n",
       "    <tr>\n",
       "      <th>...</th>\n",
       "      <td>...</td>\n",
       "      <td>...</td>\n",
       "      <td>...</td>\n",
       "      <td>...</td>\n",
       "      <td>...</td>\n",
       "      <td>...</td>\n",
       "      <td>...</td>\n",
       "      <td>...</td>\n",
       "      <td>...</td>\n",
       "      <td>...</td>\n",
       "      <td>...</td>\n",
       "      <td>...</td>\n",
       "    </tr>\n",
       "    <tr>\n",
       "      <th>2016</th>\n",
       "      <td>166.69</td>\n",
       "      <td>209.38</td>\n",
       "      <td>81.96</td>\n",
       "      <td>85.74</td>\n",
       "      <td>69.47</td>\n",
       "      <td>63.37</td>\n",
       "      <td>160.20</td>\n",
       "      <td>235.65</td>\n",
       "      <td>197.97</td>\n",
       "      <td>111.35</td>\n",
       "      <td>202.00</td>\n",
       "      <td>368.66</td>\n",
       "    </tr>\n",
       "    <tr>\n",
       "      <th>2017</th>\n",
       "      <td>240.44</td>\n",
       "      <td>127.86</td>\n",
       "      <td>181.20</td>\n",
       "      <td>181.48</td>\n",
       "      <td>74.92</td>\n",
       "      <td>160.20</td>\n",
       "      <td>134.19</td>\n",
       "      <td>165.36</td>\n",
       "      <td>115.23</td>\n",
       "      <td>348.76</td>\n",
       "      <td>322.32</td>\n",
       "      <td>354.27</td>\n",
       "    </tr>\n",
       "    <tr>\n",
       "      <th>2018</th>\n",
       "      <td>179.15</td>\n",
       "      <td>66.43</td>\n",
       "      <td>47.04</td>\n",
       "      <td>90.62</td>\n",
       "      <td>43.69</td>\n",
       "      <td>98.14</td>\n",
       "      <td>46.55</td>\n",
       "      <td>257.68</td>\n",
       "      <td>455.11</td>\n",
       "      <td>388.10</td>\n",
       "      <td>65.39</td>\n",
       "      <td>161.33</td>\n",
       "    </tr>\n",
       "    <tr>\n",
       "      <th>2019</th>\n",
       "      <td>205.75</td>\n",
       "      <td>114.09</td>\n",
       "      <td>192.81</td>\n",
       "      <td>15.98</td>\n",
       "      <td>111.40</td>\n",
       "      <td>130.36</td>\n",
       "      <td>129.47</td>\n",
       "      <td>220.69</td>\n",
       "      <td>269.53</td>\n",
       "      <td>176.35</td>\n",
       "      <td>35.85</td>\n",
       "      <td>304.67</td>\n",
       "    </tr>\n",
       "    <tr>\n",
       "      <th>2020</th>\n",
       "      <td>399.10</td>\n",
       "      <td>361.69</td>\n",
       "      <td>223.30</td>\n",
       "      <td>158.60</td>\n",
       "      <td>111.20</td>\n",
       "      <td>45.47</td>\n",
       "      <td>181.40</td>\n",
       "      <td>130.66</td>\n",
       "      <td>258.24</td>\n",
       "      <td>159.11</td>\n",
       "      <td>NaN</td>\n",
       "      <td>NaN</td>\n",
       "    </tr>\n",
       "  </tbody>\n",
       "</table>\n",
       "<p>122 rows × 12 columns</p>\n",
       "</div>"
      ],
      "text/plain": [
       "      Januar  Februar    Mars   April     Mai    Juni    juli  August  \\\n",
       "År                                                                      \n",
       "1899     NaN      NaN     NaN     NaN     NaN     NaN     NaN     NaN   \n",
       "1900  117.68    21.72   91.30  115.01   78.94   27.91  112.34  103.89   \n",
       "1901  108.88    81.12   85.97   88.15   60.69   73.56   23.54  208.09   \n",
       "1902  424.73    88.64  111.57   26.42   95.32   16.77  111.28  116.53   \n",
       "1903  190.97   336.23  285.26   84.90  105.37   67.37  102.14  212.41   \n",
       "...      ...      ...     ...     ...     ...     ...     ...     ...   \n",
       "2016  166.69   209.38   81.96   85.74   69.47   63.37  160.20  235.65   \n",
       "2017  240.44   127.86  181.20  181.48   74.92  160.20  134.19  165.36   \n",
       "2018  179.15    66.43   47.04   90.62   43.69   98.14   46.55  257.68   \n",
       "2019  205.75   114.09  192.81   15.98  111.40  130.36  129.47  220.69   \n",
       "2020  399.10   361.69  223.30  158.60  111.20   45.47  181.40  130.66   \n",
       "\n",
       "      September  Oktober  November  Desember  \n",
       "År                                            \n",
       "1899        NaN      NaN       NaN     65.86  \n",
       "1900     222.62   241.72     81.80    367.28  \n",
       "1901     111.47   184.57    220.87    131.04  \n",
       "1902     112.84   182.13    103.10    177.85  \n",
       "1903      81.49   135.33    265.49     39.50  \n",
       "...         ...      ...       ...       ...  \n",
       "2016     197.97   111.35    202.00    368.66  \n",
       "2017     115.23   348.76    322.32    354.27  \n",
       "2018     455.11   388.10     65.39    161.33  \n",
       "2019     269.53   176.35     35.85    304.67  \n",
       "2020     258.24   159.11       NaN       NaN  \n",
       "\n",
       "[122 rows x 12 columns]"
      ]
     },
     "execution_count": 106,
     "metadata": {},
     "output_type": "execute_result"
    }
   ],
   "source": [
    "data"
   ]
  },
  {
   "cell_type": "code",
   "execution_count": 108,
   "id": "d436cb0d-a919-4e61-9781-f526ce0c23d2",
   "metadata": {},
   "outputs": [
    {
     "data": {
      "text/html": [
       "<div>\n",
       "<style scoped>\n",
       "    .dataframe tbody tr th:only-of-type {\n",
       "        vertical-align: middle;\n",
       "    }\n",
       "\n",
       "    .dataframe tbody tr th {\n",
       "        vertical-align: top;\n",
       "    }\n",
       "\n",
       "    .dataframe thead th {\n",
       "        text-align: right;\n",
       "    }\n",
       "</style>\n",
       "<table border=\"1\" class=\"dataframe\">\n",
       "  <thead>\n",
       "    <tr style=\"text-align: right;\">\n",
       "      <th></th>\n",
       "      <th>Januar</th>\n",
       "      <th>Februar</th>\n",
       "      <th>Mars</th>\n",
       "      <th>April</th>\n",
       "      <th>Mai</th>\n",
       "      <th>Juni</th>\n",
       "      <th>juli</th>\n",
       "      <th>August</th>\n",
       "      <th>September</th>\n",
       "      <th>Oktober</th>\n",
       "      <th>November</th>\n",
       "      <th>Desember</th>\n",
       "    </tr>\n",
       "    <tr>\n",
       "      <th>År</th>\n",
       "      <th></th>\n",
       "      <th></th>\n",
       "      <th></th>\n",
       "      <th></th>\n",
       "      <th></th>\n",
       "      <th></th>\n",
       "      <th></th>\n",
       "      <th></th>\n",
       "      <th></th>\n",
       "      <th></th>\n",
       "      <th></th>\n",
       "      <th></th>\n",
       "    </tr>\n",
       "  </thead>\n",
       "  <tbody>\n",
       "    <tr>\n",
       "      <th>2016</th>\n",
       "      <td>166.69</td>\n",
       "      <td>209.38</td>\n",
       "      <td>81.96</td>\n",
       "      <td>85.74</td>\n",
       "      <td>69.47</td>\n",
       "      <td>63.37</td>\n",
       "      <td>160.20</td>\n",
       "      <td>235.65</td>\n",
       "      <td>197.97</td>\n",
       "      <td>111.35</td>\n",
       "      <td>202.00</td>\n",
       "      <td>368.66</td>\n",
       "    </tr>\n",
       "    <tr>\n",
       "      <th>2017</th>\n",
       "      <td>240.44</td>\n",
       "      <td>127.86</td>\n",
       "      <td>181.20</td>\n",
       "      <td>181.48</td>\n",
       "      <td>74.92</td>\n",
       "      <td>160.20</td>\n",
       "      <td>134.19</td>\n",
       "      <td>165.36</td>\n",
       "      <td>115.23</td>\n",
       "      <td>348.76</td>\n",
       "      <td>322.32</td>\n",
       "      <td>354.27</td>\n",
       "    </tr>\n",
       "    <tr>\n",
       "      <th>2018</th>\n",
       "      <td>179.15</td>\n",
       "      <td>66.43</td>\n",
       "      <td>47.04</td>\n",
       "      <td>90.62</td>\n",
       "      <td>43.69</td>\n",
       "      <td>98.14</td>\n",
       "      <td>46.55</td>\n",
       "      <td>257.68</td>\n",
       "      <td>455.11</td>\n",
       "      <td>388.10</td>\n",
       "      <td>65.39</td>\n",
       "      <td>161.33</td>\n",
       "    </tr>\n",
       "    <tr>\n",
       "      <th>2019</th>\n",
       "      <td>205.75</td>\n",
       "      <td>114.09</td>\n",
       "      <td>192.81</td>\n",
       "      <td>15.98</td>\n",
       "      <td>111.40</td>\n",
       "      <td>130.36</td>\n",
       "      <td>129.47</td>\n",
       "      <td>220.69</td>\n",
       "      <td>269.53</td>\n",
       "      <td>176.35</td>\n",
       "      <td>35.85</td>\n",
       "      <td>304.67</td>\n",
       "    </tr>\n",
       "    <tr>\n",
       "      <th>2020</th>\n",
       "      <td>399.10</td>\n",
       "      <td>361.69</td>\n",
       "      <td>223.30</td>\n",
       "      <td>158.60</td>\n",
       "      <td>111.20</td>\n",
       "      <td>45.47</td>\n",
       "      <td>181.40</td>\n",
       "      <td>130.66</td>\n",
       "      <td>258.24</td>\n",
       "      <td>159.11</td>\n",
       "      <td>NaN</td>\n",
       "      <td>NaN</td>\n",
       "    </tr>\n",
       "  </tbody>\n",
       "</table>\n",
       "</div>"
      ],
      "text/plain": [
       "      Januar  Februar    Mars   April     Mai    Juni    juli  August  \\\n",
       "År                                                                      \n",
       "2016  166.69   209.38   81.96   85.74   69.47   63.37  160.20  235.65   \n",
       "2017  240.44   127.86  181.20  181.48   74.92  160.20  134.19  165.36   \n",
       "2018  179.15    66.43   47.04   90.62   43.69   98.14   46.55  257.68   \n",
       "2019  205.75   114.09  192.81   15.98  111.40  130.36  129.47  220.69   \n",
       "2020  399.10   361.69  223.30  158.60  111.20   45.47  181.40  130.66   \n",
       "\n",
       "      September  Oktober  November  Desember  \n",
       "År                                            \n",
       "2016     197.97   111.35    202.00    368.66  \n",
       "2017     115.23   348.76    322.32    354.27  \n",
       "2018     455.11   388.10     65.39    161.33  \n",
       "2019     269.53   176.35     35.85    304.67  \n",
       "2020     258.24   159.11       NaN       NaN  "
      ]
     },
     "execution_count": 108,
     "metadata": {},
     "output_type": "execute_result"
    }
   ],
   "source": [
    "data.tail()"
   ]
  },
  {
   "cell_type": "code",
   "execution_count": 109,
   "id": "b0bd1736-678b-4141-b673-066d468dc7fd",
   "metadata": {},
   "outputs": [
    {
     "data": {
      "text/html": [
       "<div>\n",
       "<style scoped>\n",
       "    .dataframe tbody tr th:only-of-type {\n",
       "        vertical-align: middle;\n",
       "    }\n",
       "\n",
       "    .dataframe tbody tr th {\n",
       "        vertical-align: top;\n",
       "    }\n",
       "\n",
       "    .dataframe thead th {\n",
       "        text-align: right;\n",
       "    }\n",
       "</style>\n",
       "<table border=\"1\" class=\"dataframe\">\n",
       "  <thead>\n",
       "    <tr style=\"text-align: right;\">\n",
       "      <th></th>\n",
       "      <th>Januar</th>\n",
       "      <th>Februar</th>\n",
       "      <th>Mars</th>\n",
       "      <th>April</th>\n",
       "      <th>Mai</th>\n",
       "      <th>Juni</th>\n",
       "      <th>juli</th>\n",
       "      <th>August</th>\n",
       "      <th>September</th>\n",
       "      <th>Oktober</th>\n",
       "      <th>November</th>\n",
       "      <th>Desember</th>\n",
       "    </tr>\n",
       "  </thead>\n",
       "  <tbody>\n",
       "    <tr>\n",
       "      <th>count</th>\n",
       "      <td>121.000000</td>\n",
       "      <td>121.000000</td>\n",
       "      <td>121.000000</td>\n",
       "      <td>121.000000</td>\n",
       "      <td>121.000000</td>\n",
       "      <td>121.000000</td>\n",
       "      <td>121.000000</td>\n",
       "      <td>121.000000</td>\n",
       "      <td>121.000000</td>\n",
       "      <td>121.000000</td>\n",
       "      <td>120.000000</td>\n",
       "      <td>121.000000</td>\n",
       "    </tr>\n",
       "    <tr>\n",
       "      <th>mean</th>\n",
       "      <td>199.156694</td>\n",
       "      <td>147.391818</td>\n",
       "      <td>135.517769</td>\n",
       "      <td>98.692975</td>\n",
       "      <td>85.470413</td>\n",
       "      <td>102.542231</td>\n",
       "      <td>112.999174</td>\n",
       "      <td>147.028843</td>\n",
       "      <td>192.598595</td>\n",
       "      <td>208.389339</td>\n",
       "      <td>192.551750</td>\n",
       "      <td>201.469917</td>\n",
       "    </tr>\n",
       "    <tr>\n",
       "      <th>std</th>\n",
       "      <td>115.854688</td>\n",
       "      <td>94.913244</td>\n",
       "      <td>90.221267</td>\n",
       "      <td>50.995361</td>\n",
       "      <td>40.950959</td>\n",
       "      <td>43.330562</td>\n",
       "      <td>42.557191</td>\n",
       "      <td>52.056185</td>\n",
       "      <td>83.434803</td>\n",
       "      <td>95.351492</td>\n",
       "      <td>88.813138</td>\n",
       "      <td>108.947052</td>\n",
       "    </tr>\n",
       "    <tr>\n",
       "      <th>min</th>\n",
       "      <td>15.590000</td>\n",
       "      <td>10.490000</td>\n",
       "      <td>15.700000</td>\n",
       "      <td>8.540000</td>\n",
       "      <td>15.930000</td>\n",
       "      <td>14.900000</td>\n",
       "      <td>23.540000</td>\n",
       "      <td>12.830000</td>\n",
       "      <td>50.340000</td>\n",
       "      <td>13.670000</td>\n",
       "      <td>27.610000</td>\n",
       "      <td>24.330000</td>\n",
       "    </tr>\n",
       "    <tr>\n",
       "      <th>25%</th>\n",
       "      <td>109.830000</td>\n",
       "      <td>73.220000</td>\n",
       "      <td>68.590000</td>\n",
       "      <td>63.640000</td>\n",
       "      <td>54.230000</td>\n",
       "      <td>69.600000</td>\n",
       "      <td>83.160000</td>\n",
       "      <td>116.530000</td>\n",
       "      <td>122.490000</td>\n",
       "      <td>132.750000</td>\n",
       "      <td>121.282500</td>\n",
       "      <td>114.180000</td>\n",
       "    </tr>\n",
       "    <tr>\n",
       "      <th>50%</th>\n",
       "      <td>174.340000</td>\n",
       "      <td>129.570000</td>\n",
       "      <td>106.950000</td>\n",
       "      <td>88.940000</td>\n",
       "      <td>81.330000</td>\n",
       "      <td>99.390000</td>\n",
       "      <td>112.060000</td>\n",
       "      <td>147.280000</td>\n",
       "      <td>187.580000</td>\n",
       "      <td>195.660000</td>\n",
       "      <td>193.190000</td>\n",
       "      <td>177.850000</td>\n",
       "    </tr>\n",
       "    <tr>\n",
       "      <th>75%</th>\n",
       "      <td>269.450000</td>\n",
       "      <td>198.180000</td>\n",
       "      <td>192.810000</td>\n",
       "      <td>124.470000</td>\n",
       "      <td>111.400000</td>\n",
       "      <td>130.790000</td>\n",
       "      <td>139.070000</td>\n",
       "      <td>179.180000</td>\n",
       "      <td>258.700000</td>\n",
       "      <td>263.620000</td>\n",
       "      <td>250.917500</td>\n",
       "      <td>289.960000</td>\n",
       "    </tr>\n",
       "    <tr>\n",
       "      <th>max</th>\n",
       "      <td>532.790000</td>\n",
       "      <td>413.480000</td>\n",
       "      <td>514.530000</td>\n",
       "      <td>328.110000</td>\n",
       "      <td>240.310000</td>\n",
       "      <td>224.850000</td>\n",
       "      <td>229.880000</td>\n",
       "      <td>292.030000</td>\n",
       "      <td>455.110000</td>\n",
       "      <td>536.080000</td>\n",
       "      <td>452.940000</td>\n",
       "      <td>527.720000</td>\n",
       "    </tr>\n",
       "  </tbody>\n",
       "</table>\n",
       "</div>"
      ],
      "text/plain": [
       "           Januar     Februar        Mars       April         Mai        Juni  \\\n",
       "count  121.000000  121.000000  121.000000  121.000000  121.000000  121.000000   \n",
       "mean   199.156694  147.391818  135.517769   98.692975   85.470413  102.542231   \n",
       "std    115.854688   94.913244   90.221267   50.995361   40.950959   43.330562   \n",
       "min     15.590000   10.490000   15.700000    8.540000   15.930000   14.900000   \n",
       "25%    109.830000   73.220000   68.590000   63.640000   54.230000   69.600000   \n",
       "50%    174.340000  129.570000  106.950000   88.940000   81.330000   99.390000   \n",
       "75%    269.450000  198.180000  192.810000  124.470000  111.400000  130.790000   \n",
       "max    532.790000  413.480000  514.530000  328.110000  240.310000  224.850000   \n",
       "\n",
       "             juli      August   September     Oktober    November    Desember  \n",
       "count  121.000000  121.000000  121.000000  121.000000  120.000000  121.000000  \n",
       "mean   112.999174  147.028843  192.598595  208.389339  192.551750  201.469917  \n",
       "std     42.557191   52.056185   83.434803   95.351492   88.813138  108.947052  \n",
       "min     23.540000   12.830000   50.340000   13.670000   27.610000   24.330000  \n",
       "25%     83.160000  116.530000  122.490000  132.750000  121.282500  114.180000  \n",
       "50%    112.060000  147.280000  187.580000  195.660000  193.190000  177.850000  \n",
       "75%    139.070000  179.180000  258.700000  263.620000  250.917500  289.960000  \n",
       "max    229.880000  292.030000  455.110000  536.080000  452.940000  527.720000  "
      ]
     },
     "execution_count": 109,
     "metadata": {},
     "output_type": "execute_result"
    }
   ],
   "source": [
    "data.describe()"
   ]
  },
  {
   "cell_type": "code",
   "execution_count": 112,
   "id": "0654bae2-5ae8-44e0-bf99-8e17d9f7b7ae",
   "metadata": {},
   "outputs": [
    {
     "data": {
      "text/plain": [
       "Januar       115.854688\n",
       "Februar       94.913244\n",
       "Mars          90.221267\n",
       "April         50.995361\n",
       "Mai           40.950959\n",
       "Juni          43.330562\n",
       "juli          42.557191\n",
       "August        52.056185\n",
       "September     83.434803\n",
       "Oktober       95.351492\n",
       "November      88.813138\n",
       "Desember     108.947052\n",
       "dtype: float64"
      ]
     },
     "execution_count": 112,
     "metadata": {},
     "output_type": "execute_result"
    }
   ],
   "source": [
    "data.std()"
   ]
  },
  {
   "cell_type": "code",
   "execution_count": null,
   "id": "51f1269f-41b3-4323-b660-cdb1a51462cb",
   "metadata": {},
   "outputs": [],
   "source": []
  },
  {
   "cell_type": "code",
   "execution_count": 113,
   "id": "bbec766e-5439-4761-8eae-1d90ef750646",
   "metadata": {},
   "outputs": [
    {
     "data": {
      "text/plain": [
       "År\n",
       "1899       NaN\n",
       "1900    117.68\n",
       "1901    108.88\n",
       "1902    424.73\n",
       "1903    190.97\n",
       "         ...  \n",
       "2016    166.69\n",
       "2017    240.44\n",
       "2018    179.15\n",
       "2019    205.75\n",
       "2020    399.10\n",
       "Name: Januar, Length: 122, dtype: float64"
      ]
     },
     "execution_count": 113,
     "metadata": {},
     "output_type": "execute_result"
    }
   ],
   "source": [
    "data['Januar']"
   ]
  },
  {
   "cell_type": "code",
   "execution_count": 115,
   "id": "4b2bfa3d-bab1-4b39-8772-bc7d6279ac60",
   "metadata": {},
   "outputs": [
    {
     "data": {
      "text/html": [
       "<div>\n",
       "<style scoped>\n",
       "    .dataframe tbody tr th:only-of-type {\n",
       "        vertical-align: middle;\n",
       "    }\n",
       "\n",
       "    .dataframe tbody tr th {\n",
       "        vertical-align: top;\n",
       "    }\n",
       "\n",
       "    .dataframe thead th {\n",
       "        text-align: right;\n",
       "    }\n",
       "</style>\n",
       "<table border=\"1\" class=\"dataframe\">\n",
       "  <thead>\n",
       "    <tr style=\"text-align: right;\">\n",
       "      <th></th>\n",
       "      <th>Januar</th>\n",
       "      <th>Februar</th>\n",
       "      <th>Mars</th>\n",
       "      <th>April</th>\n",
       "      <th>Mai</th>\n",
       "      <th>Juni</th>\n",
       "      <th>juli</th>\n",
       "      <th>August</th>\n",
       "      <th>September</th>\n",
       "      <th>Oktober</th>\n",
       "      <th>November</th>\n",
       "      <th>Desember</th>\n",
       "    </tr>\n",
       "    <tr>\n",
       "      <th>År</th>\n",
       "      <th></th>\n",
       "      <th></th>\n",
       "      <th></th>\n",
       "      <th></th>\n",
       "      <th></th>\n",
       "      <th></th>\n",
       "      <th></th>\n",
       "      <th></th>\n",
       "      <th></th>\n",
       "      <th></th>\n",
       "      <th></th>\n",
       "      <th></th>\n",
       "    </tr>\n",
       "  </thead>\n",
       "  <tbody>\n",
       "    <tr>\n",
       "      <th>2005</th>\n",
       "      <td>464.54</td>\n",
       "      <td>157.42</td>\n",
       "      <td>91.65</td>\n",
       "      <td>122.32</td>\n",
       "      <td>133.02</td>\n",
       "      <td>87.53</td>\n",
       "      <td>72.64</td>\n",
       "      <td>167.43</td>\n",
       "      <td>266.98</td>\n",
       "      <td>162.94</td>\n",
       "      <td>380.68</td>\n",
       "      <td>187.99</td>\n",
       "    </tr>\n",
       "    <tr>\n",
       "      <th>2006</th>\n",
       "      <td>115.93</td>\n",
       "      <td>112.41</td>\n",
       "      <td>55.50</td>\n",
       "      <td>126.54</td>\n",
       "      <td>66.63</td>\n",
       "      <td>79.69</td>\n",
       "      <td>92.32</td>\n",
       "      <td>102.76</td>\n",
       "      <td>156.55</td>\n",
       "      <td>188.72</td>\n",
       "      <td>353.16</td>\n",
       "      <td>374.40</td>\n",
       "    </tr>\n",
       "    <tr>\n",
       "      <th>2007</th>\n",
       "      <td>408.08</td>\n",
       "      <td>124.99</td>\n",
       "      <td>214.01</td>\n",
       "      <td>136.19</td>\n",
       "      <td>142.14</td>\n",
       "      <td>45.73</td>\n",
       "      <td>171.13</td>\n",
       "      <td>179.18</td>\n",
       "      <td>284.01</td>\n",
       "      <td>195.87</td>\n",
       "      <td>300.82</td>\n",
       "      <td>208.02</td>\n",
       "    </tr>\n",
       "    <tr>\n",
       "      <th>2008</th>\n",
       "      <td>282.82</td>\n",
       "      <td>322.48</td>\n",
       "      <td>170.30</td>\n",
       "      <td>74.86</td>\n",
       "      <td>48.84</td>\n",
       "      <td>136.43</td>\n",
       "      <td>84.95</td>\n",
       "      <td>133.38</td>\n",
       "      <td>105.18</td>\n",
       "      <td>370.41</td>\n",
       "      <td>266.93</td>\n",
       "      <td>151.94</td>\n",
       "    </tr>\n",
       "    <tr>\n",
       "      <th>2009</th>\n",
       "      <td>218.47</td>\n",
       "      <td>120.94</td>\n",
       "      <td>144.74</td>\n",
       "      <td>60.05</td>\n",
       "      <td>144.77</td>\n",
       "      <td>57.12</td>\n",
       "      <td>143.66</td>\n",
       "      <td>221.23</td>\n",
       "      <td>289.29</td>\n",
       "      <td>132.87</td>\n",
       "      <td>196.09</td>\n",
       "      <td>62.88</td>\n",
       "    </tr>\n",
       "    <tr>\n",
       "      <th>2010</th>\n",
       "      <td>51.78</td>\n",
       "      <td>31.19</td>\n",
       "      <td>167.03</td>\n",
       "      <td>119.16</td>\n",
       "      <td>58.66</td>\n",
       "      <td>93.72</td>\n",
       "      <td>155.78</td>\n",
       "      <td>130.77</td>\n",
       "      <td>174.81</td>\n",
       "      <td>181.72</td>\n",
       "      <td>95.77</td>\n",
       "      <td>89.39</td>\n",
       "    </tr>\n",
       "    <tr>\n",
       "      <th>2011</th>\n",
       "      <td>221.41</td>\n",
       "      <td>146.52</td>\n",
       "      <td>227.23</td>\n",
       "      <td>135.83</td>\n",
       "      <td>168.38</td>\n",
       "      <td>195.90</td>\n",
       "      <td>146.07</td>\n",
       "      <td>147.72</td>\n",
       "      <td>244.67</td>\n",
       "      <td>300.77</td>\n",
       "      <td>232.43</td>\n",
       "      <td>378.29</td>\n",
       "    </tr>\n",
       "    <tr>\n",
       "      <th>2012</th>\n",
       "      <td>209.56</td>\n",
       "      <td>256.51</td>\n",
       "      <td>224.88</td>\n",
       "      <td>88.94</td>\n",
       "      <td>89.31</td>\n",
       "      <td>68.33</td>\n",
       "      <td>138.22</td>\n",
       "      <td>132.13</td>\n",
       "      <td>269.78</td>\n",
       "      <td>181.80</td>\n",
       "      <td>231.91</td>\n",
       "      <td>111.18</td>\n",
       "    </tr>\n",
       "  </tbody>\n",
       "</table>\n",
       "</div>"
      ],
      "text/plain": [
       "      Januar  Februar    Mars   April     Mai    Juni    juli  August  \\\n",
       "År                                                                      \n",
       "2005  464.54   157.42   91.65  122.32  133.02   87.53   72.64  167.43   \n",
       "2006  115.93   112.41   55.50  126.54   66.63   79.69   92.32  102.76   \n",
       "2007  408.08   124.99  214.01  136.19  142.14   45.73  171.13  179.18   \n",
       "2008  282.82   322.48  170.30   74.86   48.84  136.43   84.95  133.38   \n",
       "2009  218.47   120.94  144.74   60.05  144.77   57.12  143.66  221.23   \n",
       "2010   51.78    31.19  167.03  119.16   58.66   93.72  155.78  130.77   \n",
       "2011  221.41   146.52  227.23  135.83  168.38  195.90  146.07  147.72   \n",
       "2012  209.56   256.51  224.88   88.94   89.31   68.33  138.22  132.13   \n",
       "\n",
       "      September  Oktober  November  Desember  \n",
       "År                                            \n",
       "2005     266.98   162.94    380.68    187.99  \n",
       "2006     156.55   188.72    353.16    374.40  \n",
       "2007     284.01   195.87    300.82    208.02  \n",
       "2008     105.18   370.41    266.93    151.94  \n",
       "2009     289.29   132.87    196.09     62.88  \n",
       "2010     174.81   181.72     95.77     89.39  \n",
       "2011     244.67   300.77    232.43    378.29  \n",
       "2012     269.78   181.80    231.91    111.18  "
      ]
     },
     "execution_count": 115,
     "metadata": {},
     "output_type": "execute_result"
    }
   ],
   "source": [
    "data.loc[2005:2012]"
   ]
  },
  {
   "cell_type": "code",
   "execution_count": 117,
   "id": "2b07b510-3829-4920-ba4f-ba2d13fd4180",
   "metadata": {},
   "outputs": [
    {
     "data": {
      "text/plain": [
       "År\n",
       "1900    117.68\n",
       "1901    108.88\n",
       "1902    424.73\n",
       "1903    190.97\n",
       "1904    134.69\n",
       "1905    399.32\n",
       "1906    243.50\n",
       "1907    261.81\n",
       "1908    350.12\n",
       "1909    272.69\n",
       "1910    228.33\n",
       "1911    282.18\n",
       "1912    120.28\n",
       "1913     91.71\n",
       "1914    301.03\n",
       "1915    119.61\n",
       "1916    369.31\n",
       "1917     31.98\n",
       "1918    215.04\n",
       "Name: Januar, dtype: float64"
      ]
     },
     "execution_count": 117,
     "metadata": {},
     "output_type": "execute_result"
    }
   ],
   "source": [
    "data['Januar'].iloc[1:20]"
   ]
  },
  {
   "cell_type": "code",
   "execution_count": 123,
   "id": "2150ca5d-2fbd-4ca2-a412-f985dfdebb2a",
   "metadata": {},
   "outputs": [
    {
     "data": {
      "text/plain": [
       "<AxesSubplot:title={'center':'Nedbør på vestlandet'}, xlabel='År'>"
      ]
     },
     "execution_count": 123,
     "metadata": {},
     "output_type": "execute_result"
    },
    {
     "data": {
      "image/png": "[encoded data removed]",
      "text/plain": [
       "<Figure size 640x480 with 1 Axes>"
      ]
     },
     "metadata": {},
     "output_type": "display_data"
    }
   ],
   "source": [
    "data['Januar'].plot(title='Nedbør på vestlandet',legend=True)"
   ]
  },
  {
   "cell_type": "code",
   "execution_count": 126,
   "id": "35fe4ecd-7316-4295-a628-57fbd4724ec7",
   "metadata": {},
   "outputs": [
    {
     "data": {
      "text/plain": [
       "<AxesSubplot:>"
      ]
     },
     "execution_count": 126,
     "metadata": {},
     "output_type": "execute_result"
    },
    {
     "data": {
      "image/png": "[encoded data removed]",
      "text/plain": [
       "<Figure size 640x480 with 1 Axes>"
      ]
     },
     "metadata": {},
     "output_type": "display_data"
    }
   ],
   "source": [
    "data.std().plot()"
   ]
  },
  {
   "cell_type": "code",
   "execution_count": 127,
   "id": "10e7a03d-d5c1-40c4-801d-4063db552c08",
   "metadata": {},
   "outputs": [
    {
     "data": {
      "text/plain": [
       "<AxesSubplot:xlabel='År'>"
      ]
     },
     "execution_count": 127,
     "metadata": {},
     "output_type": "execute_result"
    },
    {
     "data": {
      "image/png": "[encoded data removed]",
      "text/plain": [
       "<Figure size 640x480 with 1 Axes>"
      ]
     },
     "metadata": {},
     "output_type": "display_data"
    }
   ],
   "source": [
    "data.iloc[1:].sum(axis=1).plot(label = 'årsgjennomsnitt',legend=True)"
   ]
  },
  {
   "cell_type": "code",
   "execution_count": 129,
   "id": "2bce7343-cd0b-4c74-a1a2-ba0f86953c96",
   "metadata": {},
   "outputs": [
    {
     "data": {
      "text/plain": [
       "array([   0.1663929 , -126.97339114])"
      ]
     },
     "execution_count": 129,
     "metadata": {},
     "output_type": "execute_result"
    }
   ],
   "source": [
    "np.polyfit(data.iloc[1:].index,data['Januar'].iloc[1:],1)\n"
   ]
  },
  {
   "cell_type": "code",
   "execution_count": null,
   "id": "839fd6f4-23e4-4dae-90b6-d03b3157f381",
   "metadata": {},
   "outputs": [],
   "source": []
  },
  {
   "cell_type": "code",
   "execution_count": 132,
   "id": "f53e54af-fd67-460d-b04f-01b0f0dea8e6",
   "metadata": {},
   "outputs": [
    {
     "data": {
      "application/vnd.plotly.v1+json": {
       "config": {
        "plotlyServerURL": "https://plot.ly"
       },
       "data": [
        {
         "hovertemplate": "variable=Desember<br>År=%{x}<br>value=%{y}<extra></extra>",
         "legendgroup": "Desember",
         "marker": {
          "color": "#636efa",
          "symbol": "circle"
         },
         "mode": "markers",
         "name": "Desember",
         "orientation": "v",
         "showlegend": true,
         "type": "scatter",
         "x": [
          1900,
          1901,
          1902,
          1903,
          1904,
          1905,
          1906,
          1907,
          1908,
          1909,
          1910,
          1911,
          1912,
          1913,
          1914,
          1915,
          1916,
          1917,
          1918,
          1919,
          1920,
          1921,
          1922,
          1923,
          1924,
          1925,
          1926,
          1927,
          1928,
          1929,
          1930,
          1931,
          1932,
          1933,
          1934,
          1935,
          1936,
          1937,
          1938,
          1939,
          1940,
          1941,
          1942,
          1943,
          1944,
          1945,
          1946,
          1947,
          1948,
          1949,
          1950,
          1951,
          1952,
          1953,
          1954,
          1955,
          1956,
          1957,
          1958,
          1959,
          1960,
          1961,
          1962,
          1963,
          1964,
          1965,
          1966,
          1967,
          1968,
          1969,
          1970,
          1971,
          1972,
          1973,
          1974,
          1975,
          1976,
          1977,
          1978,
          1979,
          1980,
          1981,
          1982,
          1983,
          1984,
          1985,
          1986,
          1987,
          1988,
          1989,
          1990,
          1991,
          1992,
          1993,
          1994,
          1995,
          1996,
          1997,
          1998,
          1999,
          2000,
          2001,
          2002,
          2003,
          2004,
          2005,
          2006,
          2007,
          2008,
          2009,
          2010,
          2011,
          2012,
          2013,
          2014,
          2015,
          2016,
          2017,
          2018,
          2019,
          2020
         ],
         "xaxis": "x",
         "y": [
          367.28,
          131.04,
          177.85,
          39.5,
          248.66,
          320.28,
          163.23,
          69.37,
          169.17,
          127.83,
          146.61,
          68.69,
          312.74,
          292.98,
          170.85,
          72.27,
          75.48,
          280.83,
          146.1,
          81.27,
          85,
          283.04,
          190.29,
          131.94,
          294.27,
          150.6,
          281.53,
          24.33,
          170.26,
          171.34,
          114.18,
          254.41,
          178.26,
          130.24,
          44.34,
          62.36,
          421.45,
          54.75,
          106.87,
          144.13,
          167.16,
          326.97,
          181.63,
          158.73,
          158.26,
          115.16,
          89.6,
          123.12,
          178.73,
          287.99,
          107.09,
          339.76,
          92.91,
          221.72,
          277.29,
          324.14,
          252.11,
          346.17,
          136.19,
          75.8,
          148.47,
          140.45,
          106.32,
          130.37,
          228.29,
          89.39,
          207.43,
          313.42,
          52.31,
          94.73,
          197.73,
          383.18,
          183.33,
          313.3,
          361.02,
          527.72,
          79.6,
          165.2,
          29.41,
          180.76,
          403.64,
          76.47,
          233.08,
          257.92,
          182.09,
          229.11,
          289.96,
          238.99,
          333.75,
          174.1,
          266.36,
          317.93,
          330.21,
          228.08,
          300.71,
          106.95,
          123.63,
          104.98,
          246.78,
          284.1,
          130.55,
          140.71,
          40.54,
          328.68,
          386.95,
          187.99,
          374.4,
          208.02,
          151.94,
          62.88,
          89.39,
          378.29,
          111.18,
          373.89,
          349.19,
          431.05,
          368.66,
          354.27,
          161.33,
          304.67,
          null
         ],
         "yaxis": "y"
        },
        {
         "hovertemplate": "<b>OLS trendline</b><br>value = 0.837816 * År + -1439.1<br>R<sup>2</sup>=0.071897<br><br>variable=Desember<br>År=%{x}<br>value=%{y} <b>(trend)</b><extra></extra>",
         "legendgroup": "Desember",
         "marker": {
          "color": "#636efa",
          "symbol": "circle"
         },
         "mode": "lines",
         "name": "Desember",
         "showlegend": false,
         "type": "scatter",
         "x": [
          1900,
          1901,
          1902,
          1903,
          1904,
          1905,
          1906,
          1907,
          1908,
          1909,
          1910,
          1911,
          1912,
          1913,
          1914,
          1915,
          1916,
          1917,
          1918,
          1919,
          1920,
          1921,
          1922,
          1923,
          1924,
          1925,
          1926,
          1927,
          1928,
          1929,
          1930,
          1931,
          1932,
          1933,
          1934,
          1935,
          1936,
          1937,
          1938,
          1939,
          1940,
          1941,
          1942,
          1943,
          1944,
          1945,
          1946,
          1947,
          1948,
          1949,
          1950,
          1951,
          1952,
          1953,
          1954,
          1955,
          1956,
          1957,
          1958,
          1959,
          1960,
          1961,
          1962,
          1963,
          1964,
          1965,
          1966,
          1967,
          1968,
          1969,
          1970,
          1971,
          1972,
          1973,
          1974,
          1975,
          1976,
          1977,
          1978,
          1979,
          1980,
          1981,
          1982,
          1983,
          1984,
          1985,
          1986,
          1987,
          1988,
          1989,
          1990,
          1991,
          1992,
          1993,
          1994,
          1995,
          1996,
          1997,
          1998,
          1999,
          2000,
          2001,
          2002,
          2003,
          2004,
          2005,
          2006,
          2007,
          2008,
          2009,
          2010,
          2011,
          2012,
          2013,
          2014,
          2015,
          2016,
          2017,
          2018,
          2019
         ],
         "xaxis": "x",
         "y": [
          152.74995867768598,
          153.587774498229,
          154.42559031877227,
          155.2634061393153,
          156.10122195985832,
          156.93903778040158,
          157.7768536009446,
          158.61466942148763,
          159.4524852420309,
          160.29030106257392,
          161.12811688311695,
          161.9659327036602,
          162.80374852420323,
          163.64156434474626,
          164.4793801652895,
          165.31719598583254,
          166.15501180637557,
          166.99282762691882,
          167.83064344746185,
          168.66845926800488,
          169.50627508854814,
          170.34409090909116,
          171.1819067296342,
          172.01972255017722,
          172.85753837072048,
          173.6953541912635,
          174.53317001180653,
          175.3709858323498,
          176.20880165289282,
          177.04661747343584,
          177.8844332939791,
          178.72224911452213,
          179.56006493506516,
          180.3978807556084,
          181.23569657615144,
          182.07351239669447,
          182.91132821723772,
          183.74914403778075,
          184.58695985832378,
          185.42477567886704,
          186.26259149941006,
          187.1004073199531,
          187.93822314049612,
          188.77603896103938,
          189.6138547815824,
          190.45167060212543,
          191.2894864226687,
          192.12730224321172,
          192.96511806375474,
          193.802933884298,
          194.64074970484103,
          195.47856552538406,
          196.3163813459273,
          197.15419716647034,
          197.99201298701337,
          198.82982880755662,
          199.66764462809965,
          200.50546044864268,
          201.34327626918594,
          202.18109208972896,
          203.018907910272,
          203.85672373081502,
          204.69453955135828,
          205.5323553719013,
          206.37017119244433,
          207.2079870129876,
          208.04580283353062,
          208.88361865407364,
          209.7214344746169,
          210.55925029515993,
          211.39706611570296,
          212.2348819362462,
          213.07269775678924,
          213.91051357733227,
          214.74832939787552,
          215.58614521841855,
          216.42396103896158,
          217.26177685950483,
          218.09959268004786,
          218.9374085005909,
          219.77522432113392,
          220.61304014167717,
          221.4508559622202,
          222.28867178276323,
          223.1264876033065,
          223.96430342384951,
          224.80211924439254,
          225.6399350649358,
          226.47775088547883,
          227.31556670602185,
          228.1533825265651,
          228.99119834710814,
          229.82901416765117,
          230.66682998819442,
          231.50464580873745,
          232.34246162928048,
          233.18027744982373,
          234.01809327036676,
          234.8559090909098,
          235.69372491145282,
          236.53154073199607,
          237.3693565525391,
          238.20717237308213,
          239.0449881936254,
          239.8828040141684,
          240.72061983471144,
          241.5584356552547,
          242.39625147579773,
          243.23406729634075,
          244.071883116884,
          244.90969893742704,
          245.74751475797007,
          246.58533057851332,
          247.42314639905635,
          248.26096221959938,
          249.09877804014263,
          249.93659386068566,
          250.7744096812287,
          251.61222550177195,
          252.45004132231497
         ],
         "yaxis": "y"
        },
        {
         "hovertemplate": "variable=Januar<br>År=%{x}<br>value=%{y}<extra></extra>",
         "legendgroup": "Januar",
         "marker": {
          "color": "#EF553B",
          "symbol": "circle"
         },
         "mode": "markers",
         "name": "Januar",
         "orientation": "v",
         "showlegend": true,
         "type": "scatter",
         "x": [
          1900,
          1901,
          1902,
          1903,
          1904,
          1905,
          1906,
          1907,
          1908,
          1909,
          1910,
          1911,
          1912,
          1913,
          1914,
          1915,
          1916,
          1917,
          1918,
          1919,
          1920,
          1921,
          1922,
          1923,
          1924,
          1925,
          1926,
          1927,
          1928,
          1929,
          1930,
          1931,
          1932,
          1933,
          1934,
          1935,
          1936,
          1937,
          1938,
          1939,
          1940,
          1941,
          1942,
          1943,
          1944,
          1945,
          1946,
          1947,
          1948,
          1949,
          1950,
          1951,
          1952,
          1953,
          1954,
          1955,
          1956,
          1957,
          1958,
          1959,
          1960,
          1961,
          1962,
          1963,
          1964,
          1965,
          1966,
          1967,
          1968,
          1969,
          1970,
          1971,
          1972,
          1973,
          1974,
          1975,
          1976,
          1977,
          1978,
          1979,
          1980,
          1981,
          1982,
          1983,
          1984,
          1985,
          1986,
          1987,
          1988,
          1989,
          1990,
          1991,
          1992,
          1993,
          1994,
          1995,
          1996,
          1997,
          1998,
          1999,
          2000,
          2001,
          2002,
          2003,
          2004,
          2005,
          2006,
          2007,
          2008,
          2009,
          2010,
          2011,
          2012,
          2013,
          2014,
          2015,
          2016,
          2017,
          2018,
          2019,
          2020
         ],
         "xaxis": "x",
         "y": [
          117.68,
          108.88,
          424.73,
          190.97,
          134.69,
          399.32,
          243.5,
          261.81,
          350.12,
          272.69,
          228.33,
          282.18,
          120.28,
          91.71,
          301.03,
          119.61,
          369.31,
          31.98,
          215.04,
          52.5,
          245.29,
          388.46,
          98.88,
          345.89,
          124.4,
          372.44,
          66.66,
          245.05,
          196.8,
          79.67,
          299.22,
          113.86,
          363.54,
          104.01,
          276.14,
          220.16,
          126.05,
          154.43,
          249.58,
          88.28,
          80.93,
          42.98,
          55.16,
          115.53,
          335.02,
          133.99,
          147.94,
          75.83,
          70.52,
          410.28,
          145.84,
          77.7,
          200.36,
          217.52,
          169.81,
          188.04,
          139.9,
          366.45,
          120.62,
          109.83,
          106.68,
          83.53,
          259.17,
          80.5,
          160.3,
          189.05,
          62.76,
          121.98,
          235.83,
          128.77,
          68.05,
          188.13,
          45.17,
          168.63,
          171.86,
          356.59,
          269.45,
          78.18,
          174.34,
          83.56,
          66.03,
          276.5,
          120.63,
          515.51,
          199.74,
          93.23,
          129.69,
          106.64,
          133.3,
          532.79,
          344.07,
          170.85,
          384.57,
          401.01,
          269.02,
          209.47,
          15.59,
          156.95,
          206.7,
          217.13,
          349.66,
          62.37,
          239.48,
          332.76,
          112.85,
          464.54,
          115.93,
          408.08,
          282.82,
          218.47,
          51.78,
          221.41,
          209.56,
          131.58,
          74.54,
          369.63,
          166.69,
          240.44,
          179.15,
          205.75,
          399.1
         ],
         "yaxis": "y"
        },
        {
         "hovertemplate": "<b>OLS trendline</b><br>value = 0.166393 * År + -126.973<br>R<sup>2</sup>=0.002538<br><br>variable=Januar<br>År=%{x}<br>value=%{y} <b>(trend)</b><extra></extra>",
         "legendgroup": "Januar",
         "marker": {
          "color": "#EF553B",
          "symbol": "circle"
         },
         "mode": "lines",
         "name": "Januar",
         "showlegend": false,
         "type": "scatter",
         "x": [
          1900,
          1901,
          1902,
          1903,
          1904,
          1905,
          1906,
          1907,
          1908,
          1909,
          1910,
          1911,
          1912,
          1913,
          1914,
          1915,
          1916,
          1917,
          1918,
          1919,
          1920,
          1921,
          1922,
          1923,
          1924,
          1925,
          1926,
          1927,
          1928,
          1929,
          1930,
          1931,
          1932,
          1933,
          1934,
          1935,
          1936,
          1937,
          1938,
          1939,
          1940,
          1941,
          1942,
          1943,
          1944,
          1945,
          1946,
          1947,
          1948,
          1949,
          1950,
          1951,
          1952,
          1953,
          1954,
          1955,
          1956,
          1957,
          1958,
          1959,
          1960,
          1961,
          1962,
          1963,
          1964,
          1965,
          1966,
          1967,
          1968,
          1969,
          1970,
          1971,
          1972,
          1973,
          1974,
          1975,
          1976,
          1977,
          1978,
          1979,
          1980,
          1981,
          1982,
          1983,
          1984,
          1985,
          1986,
          1987,
          1988,
          1989,
          1990,
          1991,
          1992,
          1993,
          1994,
          1995,
          1996,
          1997,
          1998,
          1999,
          2000,
          2001,
          2002,
          2003,
          2004,
          2005,
          2006,
          2007,
          2008,
          2009,
          2010,
          2011,
          2012,
          2013,
          2014,
          2015,
          2016,
          2017,
          2018,
          2019,
          2020
         ],
         "xaxis": "x",
         "y": [
          189.1731201734182,
          189.33951307410914,
          189.50590597480013,
          189.67229887549107,
          189.838691776182,
          190.005084676873,
          190.17147757756393,
          190.33787047825493,
          190.50426337894586,
          190.67065627963686,
          190.8370491803278,
          191.0034420810188,
          191.16983498170973,
          191.33622788240072,
          191.50262078309166,
          191.66901368378265,
          191.8354065844736,
          192.00179948516458,
          192.16819238585552,
          192.3345852865465,
          192.50097818723745,
          192.6673710879284,
          192.83376398861938,
          193.00015688931032,
          193.1665497900013,
          193.33294269069225,
          193.49933559138324,
          193.66572849207418,
          193.83212139276517,
          193.9985142934561,
          194.1649071941471,
          194.33130009483804,
          194.49769299552904,
          194.66408589621997,
          194.83047879691097,
          194.9968716976019,
          195.1632645982929,
          195.32965749898383,
          195.49605039967477,
          195.66244330036577,
          195.8288362010567,
          195.9952291017477,
          196.16162200243863,
          196.32801490312963,
          196.49440780382056,
          196.66080070451156,
          196.8271936052025,
          196.9935865058935,
          197.15997940658443,
          197.32637230727542,
          197.49276520796636,
          197.65915810865735,
          197.8255510093483,
          197.99194391003923,
          198.15833681073022,
          198.32472971142116,
          198.49112261211215,
          198.6575155128031,
          198.82390841349408,
          198.99030131418502,
          199.156694214876,
          199.32308711556695,
          199.48948001625794,
          199.65587291694888,
          199.82226581763987,
          199.9886587183308,
          200.1550516190218,
          200.32144451971274,
          200.48783742040368,
          200.65423032109467,
          200.8206232217856,
          200.9870161224766,
          201.15340902316754,
          201.31980192385853,
          201.48619482454947,
          201.65258772524047,
          201.8189806259314,
          201.9853735266224,
          202.15176642731333,
          202.31815932800433,
          202.48455222869526,
          202.65094512938626,
          202.8173380300772,
          202.9837309307682,
          203.15012383145913,
          203.31651673215006,
          203.48290963284106,
          203.649302533532,
          203.815695434223,
          203.98208833491393,
          204.14848123560492,
          204.31487413629586,
          204.48126703698685,
          204.6476599376778,
          204.81405283836878,
          204.98044573905972,
          205.1468386397507,
          205.31323154044165,
          205.47962444113264,
          205.64601734182358,
          205.81241024251457,
          205.9788031432055,
          206.14519604389645,
          206.31158894458744,
          206.47798184527838,
          206.64437474596937,
          206.8107676466603,
          206.9771605473513,
          207.14355344804224,
          207.30994634873323,
          207.47633924942417,
          207.64273215011517,
          207.8091250508061,
          207.9755179514971,
          208.14191085218803,
          208.30830375287903,
          208.47469665356996,
          208.6410895542609,
          208.8074824549519,
          208.97387535564283,
          209.14026825633383
         ],
         "yaxis": "y"
        },
        {
         "hovertemplate": "variable=Februar<br>År=%{x}<br>value=%{y}<extra></extra>",
         "legendgroup": "Februar",
         "marker": {
          "color": "#00cc96",
          "symbol": "circle"
         },
         "mode": "markers",
         "name": "Februar",
         "orientation": "v",
         "showlegend": true,
         "type": "scatter",
         "x": [
          1900,
          1901,
          1902,
          1903,
          1904,
          1905,
          1906,
          1907,
          1908,
          1909,
          1910,
          1911,
          1912,
          1913,
          1914,
          1915,
          1916,
          1917,
          1918,
          1919,
          1920,
          1921,
          1922,
          1923,
          1924,
          1925,
          1926,
          1927,
          1928,
          1929,
          1930,
          1931,
          1932,
          1933,
          1934,
          1935,
          1936,
          1937,
          1938,
          1939,
          1940,
          1941,
          1942,
          1943,
          1944,
          1945,
          1946,
          1947,
          1948,
          1949,
          1950,
          1951,
          1952,
          1953,
          1954,
          1955,
          1956,
          1957,
          1958,
          1959,
          1960,
          1961,
          1962,
          1963,
          1964,
          1965,
          1966,
          1967,
          1968,
          1969,
          1970,
          1971,
          1972,
          1973,
          1974,
          1975,
          1976,
          1977,
          1978,
          1979,
          1980,
          1981,
          1982,
          1983,
          1984,
          1985,
          1986,
          1987,
          1988,
          1989,
          1990,
          1991,
          1992,
          1993,
          1994,
          1995,
          1996,
          1997,
          1998,
          1999,
          2000,
          2001,
          2002,
          2003,
          2004,
          2005,
          2006,
          2007,
          2008,
          2009,
          2010,
          2011,
          2012,
          2013,
          2014,
          2015,
          2016,
          2017,
          2018,
          2019,
          2020
         ],
         "xaxis": "x",
         "y": [
          21.72,
          81.12,
          88.64,
          336.23,
          41.86,
          277.14,
          139.47,
          197.49,
          243.34,
          100.92,
          140.59,
          232.41,
          90.07,
          175.02,
          225.97,
          56.73,
          92.03,
          99.58,
          148.29,
          35.76,
          312.88,
          166.44,
          106.75,
          64.59,
          175.57,
          216.45,
          74.45,
          81.8,
          230.11,
          18.85,
          51.98,
          130.36,
          111.77,
          181.46,
          342.68,
          249.37,
          39.77,
          50.64,
          163.89,
          278.52,
          90.84,
          47.64,
          46.66,
          413.48,
          134.03,
          198.18,
          178.12,
          10.49,
          98.3,
          271.65,
          146.07,
          30.95,
          217.23,
          164.14,
          24.7,
          46.5,
          73.22,
          92.07,
          113.37,
          194.8,
          62.64,
          158.31,
          278.42,
          52.29,
          143.88,
          100.16,
          73.05,
          179.03,
          118.53,
          74.01,
          49.03,
          179.24,
          22.98,
          258.09,
          129.57,
          71.63,
          161.21,
          27.62,
          61.47,
          98.74,
          85.02,
          194.14,
          82.49,
          56.96,
          73.42,
          124.94,
          13.16,
          166.57,
          135.31,
          330.22,
          354.85,
          95.02,
          259.26,
          228.34,
          17.02,
          294.32,
          117.47,
          298.21,
          399.08,
          269.43,
          323.83,
          137.68,
          240.58,
          51.43,
          180.13,
          157.42,
          112.41,
          124.99,
          322.48,
          120.94,
          31.19,
          146.52,
          256.51,
          68.72,
          147.35,
          172.5,
          209.38,
          127.86,
          66.43,
          114.09,
          361.69
         ],
         "yaxis": "y"
        },
        {
         "hovertemplate": "<b>OLS trendline</b><br>value = 0.283083 * År + -407.452<br>R<sup>2</sup>=0.010943<br><br>variable=Februar<br>År=%{x}<br>value=%{y} <b>(trend)</b><extra></extra>",
         "legendgroup": "Februar",
         "marker": {
          "color": "#00cc96",
          "symbol": "circle"
         },
         "mode": "lines",
         "name": "Februar",
         "showlegend": false,
         "type": "scatter",
         "x": [
          1900,
          1901,
          1902,
          1903,
          1904,
          1905,
          1906,
          1907,
          1908,
          1909,
          1910,
          1911,
          1912,
          1913,
          1914,
          1915,
          1916,
          1917,
          1918,
          1919,
          1920,
          1921,
          1922,
          1923,
          1924,
          1925,
          1926,
          1927,
          1928,
          1929,
          1930,
          1931,
          1932,
          1933,
          1934,
          1935,
          1936,
          1937,
          1938,
          1939,
          1940,
          1941,
          1942,
          1943,
          1944,
          1945,
          1946,
          1947,
          1948,
          1949,
          1950,
          1951,
          1952,
          1953,
          1954,
          1955,
          1956,
          1957,
          1958,
          1959,
          1960,
          1961,
          1962,
          1963,
          1964,
          1965,
          1966,
          1967,
          1968,
          1969,
          1970,
          1971,
          1972,
          1973,
          1974,
          1975,
          1976,
          1977,
          1978,
          1979,
          1980,
          1981,
          1982,
          1983,
          1984,
          1985,
          1986,
          1987,
          1988,
          1989,
          1990,
          1991,
          1992,
          1993,
          1994,
          1995,
          1996,
          1997,
          1998,
          1999,
          2000,
          2001,
          2002,
          2003,
          2004,
          2005,
          2006,
          2007,
          2008,
          2009,
          2010,
          2011,
          2012,
          2013,
          2014,
          2015,
          2016,
          2017,
          2018,
          2019,
          2020
         ],
         "xaxis": "x",
         "y": [
          130.40681073025297,
          130.6898941877791,
          130.9729776453051,
          131.2560611028312,
          131.53914456035733,
          131.82222801788333,
          132.10531147540945,
          132.38839493293557,
          132.67147839046157,
          132.9545618479877,
          133.2376453055138,
          133.5207287630398,
          133.80381222056593,
          134.08689567809205,
          134.36997913561805,
          134.65306259314417,
          134.9361460506703,
          135.2192295081963,
          135.5023129657224,
          135.78539642324853,
          136.06847988077453,
          136.35156333830065,
          136.63464679582677,
          136.91773025335277,
          137.2008137108789,
          137.483897168405,
          137.766980625931,
          138.05006408345713,
          138.33314754098325,
          138.61623099850925,
          138.89931445603537,
          139.1823979135615,
          139.4654813710875,
          139.7485648286136,
          140.03164828613973,
          140.31473174366585,
          140.59781520119185,
          140.88089865871797,
          141.16398211624409,
          141.4470655737701,
          141.7301490312962,
          142.01323248882233,
          142.29631594634833,
          142.57939940387445,
          142.86248286140057,
          143.14556631892657,
          143.4286497764527,
          143.7117332339788,
          143.9948166915048,
          144.27790014903093,
          144.56098360655704,
          144.84406706408305,
          145.12715052160917,
          145.41023397913528,
          145.6933174366613,
          145.9764008941874,
          146.25948435171352,
          146.54256780923953,
          146.82565126676565,
          147.10873472429176,
          147.39181818181777,
          147.6749016393439,
          147.95798509687,
          148.241068554396,
          148.52415201192213,
          148.80723546944824,
          149.09031892697436,
          149.37340238450037,
          149.65648584202648,
          149.9395692995526,
          150.2226527570786,
          150.50573621460472,
          150.78881967213084,
          151.07190312965685,
          151.35498658718296,
          151.63807004470908,
          151.9211535022351,
          152.2042369597612,
          152.48732041728732,
          152.77040387481333,
          153.05348733233944,
          153.33657078986556,
          153.61965424739157,
          153.90273770491768,
          154.1858211624438,
          154.4689046199698,
          154.75198807749592,
          155.03507153502204,
          155.31815499254805,
          155.60123845007416,
          155.88432190760028,
          156.16740536512629,
          156.4504888226524,
          156.73357228017852,
          157.01665573770453,
          157.29973919523064,
          157.58282265275676,
          157.86590611028276,
          158.14898956780888,
          158.432073025335,
          158.71515648286112,
          158.99823994038712,
          159.28132339791324,
          159.56440685543936,
          159.84749031296536,
          160.13057377049148,
          160.4136572280176,
          160.6967406855436,
          160.97982414306972,
          161.26290760059584,
          161.54599105812184,
          161.82907451564796,
          162.11215797317408,
          162.39524143070008,
          162.6783248882262,
          162.96140834575232,
          163.24449180327832,
          163.52757526080444,
          163.81065871833056,
          164.09374217585656,
          164.37682563338268
         ],
         "yaxis": "y"
        }
       ],
       "layout": {
        "autosize": true,
        "legend": {
         "title": {
          "text": "variable"
         },
         "tracegroupgap": 0
        },
        "margin": {
         "t": 60
        },
        "template": {
         "data": {
          "bar": [
           {
            "error_x": {
             "color": "#2a3f5f"
            },
            "error_y": {
             "color": "#2a3f5f"
            },
            "marker": {
             "line": {
              "color": "#E5ECF6",
              "width": 0.5
             },
             "pattern": {
              "fillmode": "overlay",
              "size": 10,
              "solidity": 0.2
             }
            },
            "type": "bar"
           }
          ],
          "barpolar": [
           {
            "marker": {
             "line": {
              "color": "#E5ECF6",
              "width": 0.5
             },
             "pattern": {
              "fillmode": "overlay",
              "size": 10,
              "solidity": 0.2
             }
            },
            "type": "barpolar"
           }
          ],
          "carpet": [
           {
            "aaxis": {
             "endlinecolor": "#2a3f5f",
             "gridcolor": "white",
             "linecolor": "white",
             "minorgridcolor": "white",
             "startlinecolor": "#2a3f5f"
            },
            "baxis": {
             "endlinecolor": "#2a3f5f",
             "gridcolor": "white",
             "linecolor": "white",
             "minorgridcolor": "white",
             "startlinecolor": "#2a3f5f"
            },
            "type": "carpet"
           }
          ],
          "choropleth": [
           {
            "colorbar": {
             "outlinewidth": 0,
             "ticks": ""
            },
            "type": "choropleth"
           }
          ],
          "contour": [
           {
            "colorbar": {
             "outlinewidth": 0,
             "ticks": ""
            },
            "colorscale": [
             [
              0,
              "#0d0887"
             ],
             [
              0.1111111111111111,
              "#46039f"
             ],
             [
              0.2222222222222222,
              "#7201a8"
             ],
             [
              0.3333333333333333,
              "#9c179e"
             ],
             [
              0.4444444444444444,
              "#bd3786"
             ],
             [
              0.5555555555555556,
              "#d8576b"
             ],
             [
              0.6666666666666666,
              "#ed7953"
             ],
             [
              0.7777777777777778,
              "#fb9f3a"
             ],
             [
              0.8888888888888888,
              "#fdca26"
             ],
             [
              1,
              "#f0f921"
             ]
            ],
            "type": "contour"
           }
          ],
          "contourcarpet": [
           {
            "colorbar": {
             "outlinewidth": 0,
             "ticks": ""
            },
            "type": "contourcarpet"
           }
          ],
          "heatmap": [
           {
            "colorbar": {
             "outlinewidth": 0,
             "ticks": ""
            },
            "colorscale": [
             [
              0,
              "#0d0887"
             ],
             [
              0.1111111111111111,
              "#46039f"
             ],
             [
              0.2222222222222222,
              "#7201a8"
             ],
             [
              0.3333333333333333,
              "#9c179e"
             ],
             [
              0.4444444444444444,
              "#bd3786"
             ],
             [
              0.5555555555555556,
              "#d8576b"
             ],
             [
              0.6666666666666666,
              "#ed7953"
             ],
             [
              0.7777777777777778,
              "#fb9f3a"
             ],
             [
              0.8888888888888888,
              "#fdca26"
             ],
             [
              1,
              "#f0f921"
             ]
            ],
            "type": "heatmap"
           }
          ],
          "heatmapgl": [
           {
            "colorbar": {
             "outlinewidth": 0,
             "ticks": ""
            },
            "colorscale": [
             [
              0,
              "#0d0887"
             ],
             [
              0.1111111111111111,
              "#46039f"
             ],
             [
              0.2222222222222222,
              "#7201a8"
             ],
             [
              0.3333333333333333,
              "#9c179e"
             ],
             [
              0.4444444444444444,
              "#bd3786"
             ],
             [
              0.5555555555555556,
              "#d8576b"
             ],
             [
              0.6666666666666666,
              "#ed7953"
             ],
             [
              0.7777777777777778,
              "#fb9f3a"
             ],
             [
              0.8888888888888888,
              "#fdca26"
             ],
             [
              1,
              "#f0f921"
             ]
            ],
            "type": "heatmapgl"
           }
          ],
          "histogram": [
           {
            "marker": {
             "pattern": {
              "fillmode": "overlay",
              "size": 10,
              "solidity": 0.2
             }
            },
            "type": "histogram"
           }
          ],
          "histogram2d": [
           {
            "colorbar": {
             "outlinewidth": 0,
             "ticks": ""
            },
            "colorscale": [
             [
              0,
              "#0d0887"
             ],
             [
              0.1111111111111111,
              "#46039f"
             ],
             [
              0.2222222222222222,
              "#7201a8"
             ],
             [
              0.3333333333333333,
              "#9c179e"
             ],
             [
              0.4444444444444444,
              "#bd3786"
             ],
             [
              0.5555555555555556,
              "#d8576b"
             ],
             [
              0.6666666666666666,
              "#ed7953"
             ],
             [
              0.7777777777777778,
              "#fb9f3a"
             ],
             [
              0.8888888888888888,
              "#fdca26"
             ],
             [
              1,
              "#f0f921"
             ]
            ],
            "type": "histogram2d"
           }
          ],
          "histogram2dcontour": [
           {
            "colorbar": {
             "outlinewidth": 0,
             "ticks": ""
            },
            "colorscale": [
             [
              0,
              "#0d0887"
             ],
             [
              0.1111111111111111,
              "#46039f"
             ],
             [
              0.2222222222222222,
              "#7201a8"
             ],
             [
              0.3333333333333333,
              "#9c179e"
             ],
             [
              0.4444444444444444,
              "#bd3786"
             ],
             [
              0.5555555555555556,
              "#d8576b"
             ],
             [
              0.6666666666666666,
              "#ed7953"
             ],
             [
              0.7777777777777778,
              "#fb9f3a"
             ],
             [
              0.8888888888888888,
              "#fdca26"
             ],
             [
              1,
              "#f0f921"
             ]
            ],
            "type": "histogram2dcontour"
           }
          ],
          "mesh3d": [
           {
            "colorbar": {
             "outlinewidth": 0,
             "ticks": ""
            },
            "type": "mesh3d"
           }
          ],
          "parcoords": [
           {
            "line": {
             "colorbar": {
              "outlinewidth": 0,
              "ticks": ""
             }
            },
            "type": "parcoords"
           }
          ],
          "pie": [
           {
            "automargin": true,
            "type": "pie"
           }
          ],
          "scatter": [
           {
            "fillpattern": {
             "fillmode": "overlay",
             "size": 10,
             "solidity": 0.2
            },
            "type": "scatter"
           }
          ],
          "scatter3d": [
           {
            "line": {
             "colorbar": {
              "outlinewidth": 0,
              "ticks": ""
             }
            },
            "marker": {
             "colorbar": {
              "outlinewidth": 0,
              "ticks": ""
             }
            },
            "type": "scatter3d"
           }
          ],
          "scattercarpet": [
           {
            "marker": {
             "colorbar": {
              "outlinewidth": 0,
              "ticks": ""
             }
            },
            "type": "scattercarpet"
           }
          ],
          "scattergeo": [
           {
            "marker": {
             "colorbar": {
              "outlinewidth": 0,
              "ticks": ""
             }
            },
            "type": "scattergeo"
           }
          ],
          "scattergl": [
           {
            "marker": {
             "colorbar": {
              "outlinewidth": 0,
              "ticks": ""
             }
            },
            "type": "scattergl"
           }
          ],
          "scattermapbox": [
           {
            "marker": {
             "colorbar": {
              "outlinewidth": 0,
              "ticks": ""
             }
            },
            "type": "scattermapbox"
           }
          ],
          "scatterpolar": [
           {
            "marker": {
             "colorbar": {
              "outlinewidth": 0,
              "ticks": ""
             }
            },
            "type": "scatterpolar"
           }
          ],
          "scatterpolargl": [
           {
            "marker": {
             "colorbar": {
              "outlinewidth": 0,
              "ticks": ""
             }
            },
            "type": "scatterpolargl"
           }
          ],
          "scatterternary": [
           {
            "marker": {
             "colorbar": {
              "outlinewidth": 0,
              "ticks": ""
             }
            },
            "type": "scatterternary"
           }
          ],
          "surface": [
           {
            "colorbar": {
             "outlinewidth": 0,
             "ticks": ""
            },
            "colorscale": [
             [
              0,
              "#0d0887"
             ],
             [
              0.1111111111111111,
              "#46039f"
             ],
             [
              0.2222222222222222,
              "#7201a8"
             ],
             [
              0.3333333333333333,
              "#9c179e"
             ],
             [
              0.4444444444444444,
              "#bd3786"
             ],
             [
              0.5555555555555556,
              "#d8576b"
             ],
             [
              0.6666666666666666,
              "#ed7953"
             ],
             [
              0.7777777777777778,
              "#fb9f3a"
             ],
             [
              0.8888888888888888,
              "#fdca26"
             ],
             [
              1,
              "#f0f921"
             ]
            ],
            "type": "surface"
           }
          ],
          "table": [
           {
            "cells": {
             "fill": {
              "color": "#EBF0F8"
             },
             "line": {
              "color": "white"
             }
            },
            "header": {
             "fill": {
              "color": "#C8D4E3"
             },
             "line": {
              "color": "white"
             }
            },
            "type": "table"
           }
          ]
         },
         "layout": {
          "annotationdefaults": {
           "arrowcolor": "#2a3f5f",
           "arrowhead": 0,
           "arrowwidth": 1
          },
          "autotypenumbers": "strict",
          "coloraxis": {
           "colorbar": {
            "outlinewidth": 0,
            "ticks": ""
           }
          },
          "colorscale": {
           "diverging": [
            [
             0,
             "#8e0152"
            ],
            [
             0.1,
             "#c51b7d"
            ],
            [
             0.2,
             "#de77ae"
            ],
            [
             0.3,
             "#f1b6da"
            ],
            [
             0.4,
             "#fde0ef"
            ],
            [
             0.5,
             "#f7f7f7"
            ],
            [
             0.6,
             "#e6f5d0"
            ],
            [
             0.7,
             "#b8e186"
            ],
            [
             0.8,
             "#7fbc41"
            ],
            [
             0.9,
             "#4d9221"
            ],
            [
             1,
             "#276419"
            ]
           ],
           "sequential": [
            [
             0,
             "#0d0887"
            ],
            [
             0.1111111111111111,
             "#46039f"
            ],
            [
             0.2222222222222222,
             "#7201a8"
            ],
            [
             0.3333333333333333,
             "#9c179e"
            ],
            [
             0.4444444444444444,
             "#bd3786"
            ],
            [
             0.5555555555555556,
             "#d8576b"
            ],
            [
             0.6666666666666666,
             "#ed7953"
            ],
            [
             0.7777777777777778,
             "#fb9f3a"
            ],
            [
             0.8888888888888888,
             "#fdca26"
            ],
            [
             1,
             "#f0f921"
            ]
           ],
           "sequentialminus": [
            [
             0,
             "#0d0887"
            ],
            [
             0.1111111111111111,
             "#46039f"
            ],
            [
             0.2222222222222222,
             "#7201a8"
            ],
            [
             0.3333333333333333,
             "#9c179e"
            ],
            [
             0.4444444444444444,
             "#bd3786"
            ],
            [
             0.5555555555555556,
             "#d8576b"
            ],
            [
             0.6666666666666666,
             "#ed7953"
            ],
            [
             0.7777777777777778,
             "#fb9f3a"
            ],
            [
             0.8888888888888888,
             "#fdca26"
            ],
            [
             1,
             "#f0f921"
            ]
           ]
          },
          "colorway": [
           "#636efa",
           "#EF553B",
           "#00cc96",
           "#ab63fa",
           "#FFA15A",
           "#19d3f3",
           "#FF6692",
           "#B6E880",
           "#FF97FF",
           "#FECB52"
          ],
          "font": {
           "color": "#2a3f5f"
          },
          "geo": {
           "bgcolor": "white",
           "lakecolor": "white",
           "landcolor": "#E5ECF6",
           "showlakes": true,
           "showland": true,
           "subunitcolor": "white"
          },
          "hoverlabel": {
           "align": "left"
          },
          "hovermode": "closest",
          "mapbox": {
           "style": "light"
          },
          "paper_bgcolor": "white",
          "plot_bgcolor": "#E5ECF6",
          "polar": {
           "angularaxis": {
            "gridcolor": "white",
            "linecolor": "white",
            "ticks": ""
           },
           "bgcolor": "#E5ECF6",
           "radialaxis": {
            "gridcolor": "white",
            "linecolor": "white",
            "ticks": ""
           }
          },
          "scene": {
           "xaxis": {
            "backgroundcolor": "#E5ECF6",
            "gridcolor": "white",
            "gridwidth": 2,
            "linecolor": "white",
            "showbackground": true,
            "ticks": "",
            "zerolinecolor": "white"
           },
           "yaxis": {
            "backgroundcolor": "#E5ECF6",
            "gridcolor": "white",
            "gridwidth": 2,
            "linecolor": "white",
            "showbackground": true,
            "ticks": "",
            "zerolinecolor": "white"
           },
           "zaxis": {
            "backgroundcolor": "#E5ECF6",
            "gridcolor": "white",
            "gridwidth": 2,
            "linecolor": "white",
            "showbackground": true,
            "ticks": "",
            "zerolinecolor": "white"
           }
          },
          "shapedefaults": {
           "line": {
            "color": "#2a3f5f"
           }
          },
          "ternary": {
           "aaxis": {
            "gridcolor": "white",
            "linecolor": "white",
            "ticks": ""
           },
           "baxis": {
            "gridcolor": "white",
            "linecolor": "white",
            "ticks": ""
           },
           "bgcolor": "#E5ECF6",
           "caxis": {
            "gridcolor": "white",
            "linecolor": "white",
            "ticks": ""
           }
          },
          "title": {
           "x": 0.05
          },
          "xaxis": {
           "automargin": true,
           "gridcolor": "white",
           "linecolor": "white",
           "ticks": "",
           "title": {
            "standoff": 15
           },
           "zerolinecolor": "white",
           "zerolinewidth": 2
          },
          "yaxis": {
           "automargin": true,
           "gridcolor": "white",
           "linecolor": "white",
           "ticks": "",
           "title": {
            "standoff": 15
           },
           "zerolinecolor": "white",
           "zerolinewidth": 2
          }
         }
        },
        "xaxis": {
         "anchor": "y",
         "autorange": true,
         "domain": [
          0,
          1
         ],
         "range": [
          1892.2214809873249,
          2027.7785190126751
         ],
         "title": {
          "text": "År"
         },
         "type": "linear"
        },
        "yaxis": {
         "anchor": "x",
         "autorange": true,
         "domain": [
          0,
          1
         ],
         "range": [
          -29.950551181102355,
          573.2305511811023
         ],
         "title": {
          "text": "value"
         },
         "type": "linear"
        }
       }
      },
      "image/png": "[encoded data removed]",
      "text/html": [
       "<div>                            <div id=\"36ec94ca-2fa6-4428-ae36-e252c7b996f9\" class=\"plotly-graph-div\" style=\"height:525px; width:100%;\"></div>            <script type=\"text/javascript\">                require([\"plotly\"], function(Plotly) {                    window.PLOTLYENV=window.PLOTLYENV || {};                                    if (document.getElementById(\"36ec94ca-2fa6-4428-ae36-e252c7b996f9\")) {                    Plotly.newPlot(                        \"36ec94ca-2fa6-4428-ae36-e252c7b996f9\",                        [{\"hovertemplate\":\"variable=Desember<br>\\u00c5r=%{x}<br>value=%{y}<extra></extra>\",\"legendgroup\":\"Desember\",\"marker\":{\"color\":\"#636efa\",\"symbol\":\"circle\"},\"mode\":\"markers\",\"name\":\"Desember\",\"orientation\":\"v\",\"showlegend\":true,\"x\":[1900,1901,1902,1903,1904,1905,1906,1907,1908,1909,1910,1911,1912,1913,1914,1915,1916,1917,1918,1919,1920,1921,1922,1923,1924,1925,1926,1927,1928,1929,1930,1931,1932,1933,1934,1935,1936,1937,1938,1939,1940,1941,1942,1943,1944,1945,1946,1947,1948,1949,1950,1951,1952,1953,1954,1955,1956,1957,1958,1959,1960,1961,1962,1963,1964,1965,1966,1967,1968,1969,1970,1971,1972,1973,1974,1975,1976,1977,1978,1979,1980,1981,1982,1983,1984,1985,1986,1987,1988,1989,1990,1991,1992,1993,1994,1995,1996,1997,1998,1999,2000,2001,2002,2003,2004,2005,2006,2007,2008,2009,2010,2011,2012,2013,2014,2015,2016,2017,2018,2019,2020],\"xaxis\":\"x\",\"y\":[367.28,131.04,177.85,39.5,248.66,320.28,163.23,69.37,169.17,127.83,146.61,68.69,312.74,292.98,170.85,72.27,75.48,280.83,146.1,81.27,85.0,283.04,190.29,131.94,294.27,150.6,281.53,24.33,170.26,171.34,114.18,254.41,178.26,130.24,44.34,62.36,421.45,54.75,106.87,144.13,167.16,326.97,181.63,158.73,158.26,115.16,89.6,123.12,178.73,287.99,107.09,339.76,92.91,221.72,277.29,324.14,252.11,346.17,136.19,75.8,148.47,140.45,106.32,130.37,228.29,89.39,207.43,313.42,52.31,94.73,197.73,383.18,183.33,313.3,361.02,527.72,79.6,165.2,29.41,180.76,403.64,76.47,233.08,257.92,182.09,229.11,289.96,238.99,333.75,174.1,266.36,317.93,330.21,228.08,300.71,106.95,123.63,104.98,246.78,284.1,130.55,140.71,40.54,328.68,386.95,187.99,374.4,208.02,151.94,62.88,89.39,378.29,111.18,373.89,349.19,431.05,368.66,354.27,161.33,304.67,null],\"yaxis\":\"y\",\"type\":\"scatter\"},{\"hovertemplate\":\"<b>OLS trendline</b><br>value = 0.837816 * \\u00c5r + -1439.1<br>R<sup>2</sup>=0.071897<br><br>variable=Desember<br>\\u00c5r=%{x}<br>value=%{y} <b>(trend)</b><extra></extra>\",\"legendgroup\":\"Desember\",\"marker\":{\"color\":\"#636efa\",\"symbol\":\"circle\"},\"mode\":\"lines\",\"name\":\"Desember\",\"showlegend\":false,\"x\":[1900,1901,1902,1903,1904,1905,1906,1907,1908,1909,1910,1911,1912,1913,1914,1915,1916,1917,1918,1919,1920,1921,1922,1923,1924,1925,1926,1927,1928,1929,1930,1931,1932,1933,1934,1935,1936,1937,1938,1939,1940,1941,1942,1943,1944,1945,1946,1947,1948,1949,1950,1951,1952,1953,1954,1955,1956,1957,1958,1959,1960,1961,1962,1963,1964,1965,1966,1967,1968,1969,1970,1971,1972,1973,1974,1975,1976,1977,1978,1979,1980,1981,1982,1983,1984,1985,1986,1987,1988,1989,1990,1991,1992,1993,1994,1995,1996,1997,1998,1999,2000,2001,2002,2003,2004,2005,2006,2007,2008,2009,2010,2011,2012,2013,2014,2015,2016,2017,2018,2019],\"xaxis\":\"x\",\"y\":[152.74995867768598,153.587774498229,154.42559031877227,155.2634061393153,156.10122195985832,156.93903778040158,157.7768536009446,158.61466942148763,159.4524852420309,160.29030106257392,161.12811688311695,161.9659327036602,162.80374852420323,163.64156434474626,164.4793801652895,165.31719598583254,166.15501180637557,166.99282762691882,167.83064344746185,168.66845926800488,169.50627508854814,170.34409090909116,171.1819067296342,172.01972255017722,172.85753837072048,173.6953541912635,174.53317001180653,175.3709858323498,176.20880165289282,177.04661747343584,177.8844332939791,178.72224911452213,179.56006493506516,180.3978807556084,181.23569657615144,182.07351239669447,182.91132821723772,183.74914403778075,184.58695985832378,185.42477567886704,186.26259149941006,187.1004073199531,187.93822314049612,188.77603896103938,189.6138547815824,190.45167060212543,191.2894864226687,192.12730224321172,192.96511806375474,193.802933884298,194.64074970484103,195.47856552538406,196.3163813459273,197.15419716647034,197.99201298701337,198.82982880755662,199.66764462809965,200.50546044864268,201.34327626918594,202.18109208972896,203.018907910272,203.85672373081502,204.69453955135828,205.5323553719013,206.37017119244433,207.2079870129876,208.04580283353062,208.88361865407364,209.7214344746169,210.55925029515993,211.39706611570296,212.2348819362462,213.07269775678924,213.91051357733227,214.74832939787552,215.58614521841855,216.42396103896158,217.26177685950483,218.09959268004786,218.9374085005909,219.77522432113392,220.61304014167717,221.4508559622202,222.28867178276323,223.1264876033065,223.96430342384951,224.80211924439254,225.6399350649358,226.47775088547883,227.31556670602185,228.1533825265651,228.99119834710814,229.82901416765117,230.66682998819442,231.50464580873745,232.34246162928048,233.18027744982373,234.01809327036676,234.8559090909098,235.69372491145282,236.53154073199607,237.3693565525391,238.20717237308213,239.0449881936254,239.8828040141684,240.72061983471144,241.5584356552547,242.39625147579773,243.23406729634075,244.071883116884,244.90969893742704,245.74751475797007,246.58533057851332,247.42314639905635,248.26096221959938,249.09877804014263,249.93659386068566,250.7744096812287,251.61222550177195,252.45004132231497],\"yaxis\":\"y\",\"type\":\"scatter\"},{\"hovertemplate\":\"variable=Januar<br>\\u00c5r=%{x}<br>value=%{y}<extra></extra>\",\"legendgroup\":\"Januar\",\"marker\":{\"color\":\"#EF553B\",\"symbol\":\"circle\"},\"mode\":\"markers\",\"name\":\"Januar\",\"orientation\":\"v\",\"showlegend\":true,\"x\":[1900,1901,1902,1903,1904,1905,1906,1907,1908,1909,1910,1911,1912,1913,1914,1915,1916,1917,1918,1919,1920,1921,1922,1923,1924,1925,1926,1927,1928,1929,1930,1931,1932,1933,1934,1935,1936,1937,1938,1939,1940,1941,1942,1943,1944,1945,1946,1947,1948,1949,1950,1951,1952,1953,1954,1955,1956,1957,1958,1959,1960,1961,1962,1963,1964,1965,1966,1967,1968,1969,1970,1971,1972,1973,1974,1975,1976,1977,1978,1979,1980,1981,1982,1983,1984,1985,1986,1987,1988,1989,1990,1991,1992,1993,1994,1995,1996,1997,1998,1999,2000,2001,2002,2003,2004,2005,2006,2007,2008,2009,2010,2011,2012,2013,2014,2015,2016,2017,2018,2019,2020],\"xaxis\":\"x\",\"y\":[117.68,108.88,424.73,190.97,134.69,399.32,243.5,261.81,350.12,272.69,228.33,282.18,120.28,91.71,301.03,119.61,369.31,31.98,215.04,52.5,245.29,388.46,98.88,345.89,124.4,372.44,66.66,245.05,196.8,79.67,299.22,113.86,363.54,104.01,276.14,220.16,126.05,154.43,249.58,88.28,80.93,42.98,55.16,115.53,335.02,133.99,147.94,75.83,70.52,410.28,145.84,77.7,200.36,217.52,169.81,188.04,139.9,366.45,120.62,109.83,106.68,83.53,259.17,80.5,160.3,189.05,62.76,121.98,235.83,128.77,68.05,188.13,45.17,168.63,171.86,356.59,269.45,78.18,174.34,83.56,66.03,276.5,120.63,515.51,199.74,93.23,129.69,106.64,133.3,532.79,344.07,170.85,384.57,401.01,269.02,209.47,15.59,156.95,206.7,217.13,349.66,62.37,239.48,332.76,112.85,464.54,115.93,408.08,282.82,218.47,51.78,221.41,209.56,131.58,74.54,369.63,166.69,240.44,179.15,205.75,399.1],\"yaxis\":\"y\",\"type\":\"scatter\"},{\"hovertemplate\":\"<b>OLS trendline</b><br>value = 0.166393 * \\u00c5r + -126.973<br>R<sup>2</sup>=0.002538<br><br>variable=Januar<br>\\u00c5r=%{x}<br>value=%{y} <b>(trend)</b><extra></extra>\",\"legendgroup\":\"Januar\",\"marker\":{\"color\":\"#EF553B\",\"symbol\":\"circle\"},\"mode\":\"lines\",\"name\":\"Januar\",\"showlegend\":false,\"x\":[1900,1901,1902,1903,1904,1905,1906,1907,1908,1909,1910,1911,1912,1913,1914,1915,1916,1917,1918,1919,1920,1921,1922,1923,1924,1925,1926,1927,1928,1929,1930,1931,1932,1933,1934,1935,1936,1937,1938,1939,1940,1941,1942,1943,1944,1945,1946,1947,1948,1949,1950,1951,1952,1953,1954,1955,1956,1957,1958,1959,1960,1961,1962,1963,1964,1965,1966,1967,1968,1969,1970,1971,1972,1973,1974,1975,1976,1977,1978,1979,1980,1981,1982,1983,1984,1985,1986,1987,1988,1989,1990,1991,1992,1993,1994,1995,1996,1997,1998,1999,2000,2001,2002,2003,2004,2005,2006,2007,2008,2009,2010,2011,2012,2013,2014,2015,2016,2017,2018,2019,2020],\"xaxis\":\"x\",\"y\":[189.1731201734182,189.33951307410914,189.50590597480013,189.67229887549107,189.838691776182,190.005084676873,190.17147757756393,190.33787047825493,190.50426337894586,190.67065627963686,190.8370491803278,191.0034420810188,191.16983498170973,191.33622788240072,191.50262078309166,191.66901368378265,191.8354065844736,192.00179948516458,192.16819238585552,192.3345852865465,192.50097818723745,192.6673710879284,192.83376398861938,193.00015688931032,193.1665497900013,193.33294269069225,193.49933559138324,193.66572849207418,193.83212139276517,193.9985142934561,194.1649071941471,194.33130009483804,194.49769299552904,194.66408589621997,194.83047879691097,194.9968716976019,195.1632645982929,195.32965749898383,195.49605039967477,195.66244330036577,195.8288362010567,195.9952291017477,196.16162200243863,196.32801490312963,196.49440780382056,196.66080070451156,196.8271936052025,196.9935865058935,197.15997940658443,197.32637230727542,197.49276520796636,197.65915810865735,197.8255510093483,197.99194391003923,198.15833681073022,198.32472971142116,198.49112261211215,198.6575155128031,198.82390841349408,198.99030131418502,199.156694214876,199.32308711556695,199.48948001625794,199.65587291694888,199.82226581763987,199.9886587183308,200.1550516190218,200.32144451971274,200.48783742040368,200.65423032109467,200.8206232217856,200.9870161224766,201.15340902316754,201.31980192385853,201.48619482454947,201.65258772524047,201.8189806259314,201.9853735266224,202.15176642731333,202.31815932800433,202.48455222869526,202.65094512938626,202.8173380300772,202.9837309307682,203.15012383145913,203.31651673215006,203.48290963284106,203.649302533532,203.815695434223,203.98208833491393,204.14848123560492,204.31487413629586,204.48126703698685,204.6476599376778,204.81405283836878,204.98044573905972,205.1468386397507,205.31323154044165,205.47962444113264,205.64601734182358,205.81241024251457,205.9788031432055,206.14519604389645,206.31158894458744,206.47798184527838,206.64437474596937,206.8107676466603,206.9771605473513,207.14355344804224,207.30994634873323,207.47633924942417,207.64273215011517,207.8091250508061,207.9755179514971,208.14191085218803,208.30830375287903,208.47469665356996,208.6410895542609,208.8074824549519,208.97387535564283,209.14026825633383],\"yaxis\":\"y\",\"type\":\"scatter\"},{\"hovertemplate\":\"variable=Februar<br>\\u00c5r=%{x}<br>value=%{y}<extra></extra>\",\"legendgroup\":\"Februar\",\"marker\":{\"color\":\"#00cc96\",\"symbol\":\"circle\"},\"mode\":\"markers\",\"name\":\"Februar\",\"orientation\":\"v\",\"showlegend\":true,\"x\":[1900,1901,1902,1903,1904,1905,1906,1907,1908,1909,1910,1911,1912,1913,1914,1915,1916,1917,1918,1919,1920,1921,1922,1923,1924,1925,1926,1927,1928,1929,1930,1931,1932,1933,1934,1935,1936,1937,1938,1939,1940,1941,1942,1943,1944,1945,1946,1947,1948,1949,1950,1951,1952,1953,1954,1955,1956,1957,1958,1959,1960,1961,1962,1963,1964,1965,1966,1967,1968,1969,1970,1971,1972,1973,1974,1975,1976,1977,1978,1979,1980,1981,1982,1983,1984,1985,1986,1987,1988,1989,1990,1991,1992,1993,1994,1995,1996,1997,1998,1999,2000,2001,2002,2003,2004,2005,2006,2007,2008,2009,2010,2011,2012,2013,2014,2015,2016,2017,2018,2019,2020],\"xaxis\":\"x\",\"y\":[21.72,81.12,88.64,336.23,41.86,277.14,139.47,197.49,243.34,100.92,140.59,232.41,90.07,175.02,225.97,56.73,92.03,99.58,148.29,35.76,312.88,166.44,106.75,64.59,175.57,216.45,74.45,81.8,230.11,18.85,51.98,130.36,111.77,181.46,342.68,249.37,39.77,50.64,163.89,278.52,90.84,47.64,46.66,413.48,134.03,198.18,178.12,10.49,98.3,271.65,146.07,30.95,217.23,164.14,24.7,46.5,73.22,92.07,113.37,194.8,62.64,158.31,278.42,52.29,143.88,100.16,73.05,179.03,118.53,74.01,49.03,179.24,22.98,258.09,129.57,71.63,161.21,27.62,61.47,98.74,85.02,194.14,82.49,56.96,73.42,124.94,13.16,166.57,135.31,330.22,354.85,95.02,259.26,228.34,17.02,294.32,117.47,298.21,399.08,269.43,323.83,137.68,240.58,51.43,180.13,157.42,112.41,124.99,322.48,120.94,31.19,146.52,256.51,68.72,147.35,172.5,209.38,127.86,66.43,114.09,361.69],\"yaxis\":\"y\",\"type\":\"scatter\"},{\"hovertemplate\":\"<b>OLS trendline</b><br>value = 0.283083 * \\u00c5r + -407.452<br>R<sup>2</sup>=0.010943<br><br>variable=Februar<br>\\u00c5r=%{x}<br>value=%{y} <b>(trend)</b><extra></extra>\",\"legendgroup\":\"Februar\",\"marker\":{\"color\":\"#00cc96\",\"symbol\":\"circle\"},\"mode\":\"lines\",\"name\":\"Februar\",\"showlegend\":false,\"x\":[1900,1901,1902,1903,1904,1905,1906,1907,1908,1909,1910,1911,1912,1913,1914,1915,1916,1917,1918,1919,1920,1921,1922,1923,1924,1925,1926,1927,1928,1929,1930,1931,1932,1933,1934,1935,1936,1937,1938,1939,1940,1941,1942,1943,1944,1945,1946,1947,1948,1949,1950,1951,1952,1953,1954,1955,1956,1957,1958,1959,1960,1961,1962,1963,1964,1965,1966,1967,1968,1969,1970,1971,1972,1973,1974,1975,1976,1977,1978,1979,1980,1981,1982,1983,1984,1985,1986,1987,1988,1989,1990,1991,1992,1993,1994,1995,1996,1997,1998,1999,2000,2001,2002,2003,2004,2005,2006,2007,2008,2009,2010,2011,2012,2013,2014,2015,2016,2017,2018,2019,2020],\"xaxis\":\"x\",\"y\":[130.40681073025297,130.6898941877791,130.9729776453051,131.2560611028312,131.53914456035733,131.82222801788333,132.10531147540945,132.38839493293557,132.67147839046157,132.9545618479877,133.2376453055138,133.5207287630398,133.80381222056593,134.08689567809205,134.36997913561805,134.65306259314417,134.9361460506703,135.2192295081963,135.5023129657224,135.78539642324853,136.06847988077453,136.35156333830065,136.63464679582677,136.91773025335277,137.2008137108789,137.483897168405,137.766980625931,138.05006408345713,138.33314754098325,138.61623099850925,138.89931445603537,139.1823979135615,139.4654813710875,139.7485648286136,140.03164828613973,140.31473174366585,140.59781520119185,140.88089865871797,141.16398211624409,141.4470655737701,141.7301490312962,142.01323248882233,142.29631594634833,142.57939940387445,142.86248286140057,143.14556631892657,143.4286497764527,143.7117332339788,143.9948166915048,144.27790014903093,144.56098360655704,144.84406706408305,145.12715052160917,145.41023397913528,145.6933174366613,145.9764008941874,146.25948435171352,146.54256780923953,146.82565126676565,147.10873472429176,147.39181818181777,147.6749016393439,147.95798509687,148.241068554396,148.52415201192213,148.80723546944824,149.09031892697436,149.37340238450037,149.65648584202648,149.9395692995526,150.2226527570786,150.50573621460472,150.78881967213084,151.07190312965685,151.35498658718296,151.63807004470908,151.9211535022351,152.2042369597612,152.48732041728732,152.77040387481333,153.05348733233944,153.33657078986556,153.61965424739157,153.90273770491768,154.1858211624438,154.4689046199698,154.75198807749592,155.03507153502204,155.31815499254805,155.60123845007416,155.88432190760028,156.16740536512629,156.4504888226524,156.73357228017852,157.01665573770453,157.29973919523064,157.58282265275676,157.86590611028276,158.14898956780888,158.432073025335,158.71515648286112,158.99823994038712,159.28132339791324,159.56440685543936,159.84749031296536,160.13057377049148,160.4136572280176,160.6967406855436,160.97982414306972,161.26290760059584,161.54599105812184,161.82907451564796,162.11215797317408,162.39524143070008,162.6783248882262,162.96140834575232,163.24449180327832,163.52757526080444,163.81065871833056,164.09374217585656,164.37682563338268],\"yaxis\":\"y\",\"type\":\"scatter\"}],                        {\"template\":{\"data\":{\"histogram2dcontour\":[{\"type\":\"histogram2dcontour\",\"colorbar\":{\"outlinewidth\":0,\"ticks\":\"\"},\"colorscale\":[[0.0,\"#0d0887\"],[0.1111111111111111,\"#46039f\"],[0.2222222222222222,\"#7201a8\"],[0.3333333333333333,\"#9c179e\"],[0.4444444444444444,\"#bd3786\"],[0.5555555555555556,\"#d8576b\"],[0.6666666666666666,\"#ed7953\"],[0.7777777777777778,\"#fb9f3a\"],[0.8888888888888888,\"#fdca26\"],[1.0,\"#f0f921\"]]}],\"choropleth\":[{\"type\":\"choropleth\",\"colorbar\":{\"outlinewidth\":0,\"ticks\":\"\"}}],\"histogram2d\":[{\"type\":\"histogram2d\",\"colorbar\":{\"outlinewidth\":0,\"ticks\":\"\"},\"colorscale\":[[0.0,\"#0d0887\"],[0.1111111111111111,\"#46039f\"],[0.2222222222222222,\"#7201a8\"],[0.3333333333333333,\"#9c179e\"],[0.4444444444444444,\"#bd3786\"],[0.5555555555555556,\"#d8576b\"],[0.6666666666666666,\"#ed7953\"],[0.7777777777777778,\"#fb9f3a\"],[0.8888888888888888,\"#fdca26\"],[1.0,\"#f0f921\"]]}],\"heatmap\":[{\"type\":\"heatmap\",\"colorbar\":{\"outlinewidth\":0,\"ticks\":\"\"},\"colorscale\":[[0.0,\"#0d0887\"],[0.1111111111111111,\"#46039f\"],[0.2222222222222222,\"#7201a8\"],[0.3333333333333333,\"#9c179e\"],[0.4444444444444444,\"#bd3786\"],[0.5555555555555556,\"#d8576b\"],[0.6666666666666666,\"#ed7953\"],[0.7777777777777778,\"#fb9f3a\"],[0.8888888888888888,\"#fdca26\"],[1.0,\"#f0f921\"]]}],\"heatmapgl\":[{\"type\":\"heatmapgl\",\"colorbar\":{\"outlinewidth\":0,\"ticks\":\"\"},\"colorscale\":[[0.0,\"#0d0887\"],[0.1111111111111111,\"#46039f\"],[0.2222222222222222,\"#7201a8\"],[0.3333333333333333,\"#9c179e\"],[0.4444444444444444,\"#bd3786\"],[0.5555555555555556,\"#d8576b\"],[0.6666666666666666,\"#ed7953\"],[0.7777777777777778,\"#fb9f3a\"],[0.8888888888888888,\"#fdca26\"],[1.0,\"#f0f921\"]]}],\"contourcarpet\":[{\"type\":\"contourcarpet\",\"colorbar\":{\"outlinewidth\":0,\"ticks\":\"\"}}],\"contour\":[{\"type\":\"contour\",\"colorbar\":{\"outlinewidth\":0,\"ticks\":\"\"},\"colorscale\":[[0.0,\"#0d0887\"],[0.1111111111111111,\"#46039f\"],[0.2222222222222222,\"#7201a8\"],[0.3333333333333333,\"#9c179e\"],[0.4444444444444444,\"#bd3786\"],[0.5555555555555556,\"#d8576b\"],[0.6666666666666666,\"#ed7953\"],[0.7777777777777778,\"#fb9f3a\"],[0.8888888888888888,\"#fdca26\"],[1.0,\"#f0f921\"]]}],\"surface\":[{\"type\":\"surface\",\"colorbar\":{\"outlinewidth\":0,\"ticks\":\"\"},\"colorscale\":[[0.0,\"#0d0887\"],[0.1111111111111111,\"#46039f\"],[0.2222222222222222,\"#7201a8\"],[0.3333333333333333,\"#9c179e\"],[0.4444444444444444,\"#bd3786\"],[0.5555555555555556,\"#d8576b\"],[0.6666666666666666,\"#ed7953\"],[0.7777777777777778,\"#fb9f3a\"],[0.8888888888888888,\"#fdca26\"],[1.0,\"#f0f921\"]]}],\"mesh3d\":[{\"type\":\"mesh3d\",\"colorbar\":{\"outlinewidth\":0,\"ticks\":\"\"}}],\"scatter\":[{\"fillpattern\":{\"fillmode\":\"overlay\",\"size\":10,\"solidity\":0.2},\"type\":\"scatter\"}],\"parcoords\":[{\"type\":\"parcoords\",\"line\":{\"colorbar\":{\"outlinewidth\":0,\"ticks\":\"\"}}}],\"scatterpolargl\":[{\"type\":\"scatterpolargl\",\"marker\":{\"colorbar\":{\"outlinewidth\":0,\"ticks\":\"\"}}}],\"bar\":[{\"error_x\":{\"color\":\"#2a3f5f\"},\"error_y\":{\"color\":\"#2a3f5f\"},\"marker\":{\"line\":{\"color\":\"#E5ECF6\",\"width\":0.5},\"pattern\":{\"fillmode\":\"overlay\",\"size\":10,\"solidity\":0.2}},\"type\":\"bar\"}],\"scattergeo\":[{\"type\":\"scattergeo\",\"marker\":{\"colorbar\":{\"outlinewidth\":0,\"ticks\":\"\"}}}],\"scatterpolar\":[{\"type\":\"scatterpolar\",\"marker\":{\"colorbar\":{\"outlinewidth\":0,\"ticks\":\"\"}}}],\"histogram\":[{\"marker\":{\"pattern\":{\"fillmode\":\"overlay\",\"size\":10,\"solidity\":0.2}},\"type\":\"histogram\"}],\"scattergl\":[{\"type\":\"scattergl\",\"marker\":{\"colorbar\":{\"outlinewidth\":0,\"ticks\":\"\"}}}],\"scatter3d\":[{\"type\":\"scatter3d\",\"line\":{\"colorbar\":{\"outlinewidth\":0,\"ticks\":\"\"}},\"marker\":{\"colorbar\":{\"outlinewidth\":0,\"ticks\":\"\"}}}],\"scattermapbox\":[{\"type\":\"scattermapbox\",\"marker\":{\"colorbar\":{\"outlinewidth\":0,\"ticks\":\"\"}}}],\"scatterternary\":[{\"type\":\"scatterternary\",\"marker\":{\"colorbar\":{\"outlinewidth\":0,\"ticks\":\"\"}}}],\"scattercarpet\":[{\"type\":\"scattercarpet\",\"marker\":{\"colorbar\":{\"outlinewidth\":0,\"ticks\":\"\"}}}],\"carpet\":[{\"aaxis\":{\"endlinecolor\":\"#2a3f5f\",\"gridcolor\":\"white\",\"linecolor\":\"white\",\"minorgridcolor\":\"white\",\"startlinecolor\":\"#2a3f5f\"},\"baxis\":{\"endlinecolor\":\"#2a3f5f\",\"gridcolor\":\"white\",\"linecolor\":\"white\",\"minorgridcolor\":\"white\",\"startlinecolor\":\"#2a3f5f\"},\"type\":\"carpet\"}],\"table\":[{\"cells\":{\"fill\":{\"color\":\"#EBF0F8\"},\"line\":{\"color\":\"white\"}},\"header\":{\"fill\":{\"color\":\"#C8D4E3\"},\"line\":{\"color\":\"white\"}},\"type\":\"table\"}],\"barpolar\":[{\"marker\":{\"line\":{\"color\":\"#E5ECF6\",\"width\":0.5},\"pattern\":{\"fillmode\":\"overlay\",\"size\":10,\"solidity\":0.2}},\"type\":\"barpolar\"}],\"pie\":[{\"automargin\":true,\"type\":\"pie\"}]},\"layout\":{\"autotypenumbers\":\"strict\",\"colorway\":[\"#636efa\",\"#EF553B\",\"#00cc96\",\"#ab63fa\",\"#FFA15A\",\"#19d3f3\",\"#FF6692\",\"#B6E880\",\"#FF97FF\",\"#FECB52\"],\"font\":{\"color\":\"#2a3f5f\"},\"hovermode\":\"closest\",\"hoverlabel\":{\"align\":\"left\"},\"paper_bgcolor\":\"white\",\"plot_bgcolor\":\"#E5ECF6\",\"polar\":{\"bgcolor\":\"#E5ECF6\",\"angularaxis\":{\"gridcolor\":\"white\",\"linecolor\":\"white\",\"ticks\":\"\"},\"radialaxis\":{\"gridcolor\":\"white\",\"linecolor\":\"white\",\"ticks\":\"\"}},\"ternary\":{\"bgcolor\":\"#E5ECF6\",\"aaxis\":{\"gridcolor\":\"white\",\"linecolor\":\"white\",\"ticks\":\"\"},\"baxis\":{\"gridcolor\":\"white\",\"linecolor\":\"white\",\"ticks\":\"\"},\"caxis\":{\"gridcolor\":\"white\",\"linecolor\":\"white\",\"ticks\":\"\"}},\"coloraxis\":{\"colorbar\":{\"outlinewidth\":0,\"ticks\":\"\"}},\"colorscale\":{\"sequential\":[[0.0,\"#0d0887\"],[0.1111111111111111,\"#46039f\"],[0.2222222222222222,\"#7201a8\"],[0.3333333333333333,\"#9c179e\"],[0.4444444444444444,\"#bd3786\"],[0.5555555555555556,\"#d8576b\"],[0.6666666666666666,\"#ed7953\"],[0.7777777777777778,\"#fb9f3a\"],[0.8888888888888888,\"#fdca26\"],[1.0,\"#f0f921\"]],\"sequentialminus\":[[0.0,\"#0d0887\"],[0.1111111111111111,\"#46039f\"],[0.2222222222222222,\"#7201a8\"],[0.3333333333333333,\"#9c179e\"],[0.4444444444444444,\"#bd3786\"],[0.5555555555555556,\"#d8576b\"],[0.6666666666666666,\"#ed7953\"],[0.7777777777777778,\"#fb9f3a\"],[0.8888888888888888,\"#fdca26\"],[1.0,\"#f0f921\"]],\"diverging\":[[0,\"#8e0152\"],[0.1,\"#c51b7d\"],[0.2,\"#de77ae\"],[0.3,\"#f1b6da\"],[0.4,\"#fde0ef\"],[0.5,\"#f7f7f7\"],[0.6,\"#e6f5d0\"],[0.7,\"#b8e186\"],[0.8,\"#7fbc41\"],[0.9,\"#4d9221\"],[1,\"#276419\"]]},\"xaxis\":{\"gridcolor\":\"white\",\"linecolor\":\"white\",\"ticks\":\"\",\"title\":{\"standoff\":15},\"zerolinecolor\":\"white\",\"automargin\":true,\"zerolinewidth\":2},\"yaxis\":{\"gridcolor\":\"white\",\"linecolor\":\"white\",\"ticks\":\"\",\"title\":{\"standoff\":15},\"zerolinecolor\":\"white\",\"automargin\":true,\"zerolinewidth\":2},\"scene\":{\"xaxis\":{\"backgroundcolor\":\"#E5ECF6\",\"gridcolor\":\"white\",\"linecolor\":\"white\",\"showbackground\":true,\"ticks\":\"\",\"zerolinecolor\":\"white\",\"gridwidth\":2},\"yaxis\":{\"backgroundcolor\":\"#E5ECF6\",\"gridcolor\":\"white\",\"linecolor\":\"white\",\"showbackground\":true,\"ticks\":\"\",\"zerolinecolor\":\"white\",\"gridwidth\":2},\"zaxis\":{\"backgroundcolor\":\"#E5ECF6\",\"gridcolor\":\"white\",\"linecolor\":\"white\",\"showbackground\":true,\"ticks\":\"\",\"zerolinecolor\":\"white\",\"gridwidth\":2}},\"shapedefaults\":{\"line\":{\"color\":\"#2a3f5f\"}},\"annotationdefaults\":{\"arrowcolor\":\"#2a3f5f\",\"arrowhead\":0,\"arrowwidth\":1},\"geo\":{\"bgcolor\":\"white\",\"landcolor\":\"#E5ECF6\",\"subunitcolor\":\"white\",\"showland\":true,\"showlakes\":true,\"lakecolor\":\"white\"},\"title\":{\"x\":0.05},\"mapbox\":{\"style\":\"light\"}}},\"xaxis\":{\"anchor\":\"y\",\"domain\":[0.0,1.0],\"title\":{\"text\":\"\\u00c5r\"}},\"yaxis\":{\"anchor\":\"x\",\"domain\":[0.0,1.0],\"title\":{\"text\":\"value\"}},\"legend\":{\"title\":{\"text\":\"variable\"},\"tracegroupgap\":0},\"margin\":{\"t\":60}},                        {\"responsive\": true}                    ).then(function(){\n",
       "                            \n",
       "var gd = document.getElementById('36ec94ca-2fa6-4428-ae36-e252c7b996f9');\n",
       "var x = new MutationObserver(function (mutations, observer) {{\n",
       "        var display = window.getComputedStyle(gd).display;\n",
       "        if (!display || display === 'none') {{\n",
       "            console.log([gd, 'removed!']);\n",
       "            Plotly.purge(gd);\n",
       "            observer.disconnect();\n",
       "        }}\n",
       "}});\n",
       "\n",
       "// Listen for the removal of the full notebook cells\n",
       "var notebookContainer = gd.closest('#notebook-container');\n",
       "if (notebookContainer) {{\n",
       "    x.observe(notebookContainer, {childList: true});\n",
       "}}\n",
       "\n",
       "// Listen for the clearing of the current output cell\n",
       "var outputEl = gd.closest('.output');\n",
       "if (outputEl) {{\n",
       "    x.observe(outputEl, {childList: true});\n",
       "}}\n",
       "\n",
       "                        })                };                });            </script>        </div>"
      ]
     },
     "metadata": {},
     "output_type": "display_data"
    }
   ],
   "source": [
    "import plotly.express as px\n",
    "fig = px.scatter(data[['Desember','Januar','Februar']].iloc[1:],trendline=\"ols\")\n",
    "\n",
    "\n",
    "fig.show()"
   ]
  },
  {
   "cell_type": "code",
   "execution_count": 133,
   "id": "21fca55f-e4ad-4aed-8646-c3720e8ce819",
   "metadata": {},
   "outputs": [
    {
     "data": {
      "application/vnd.plotly.v1+json": {
       "config": {
        "plotlyServerURL": "https://plot.ly"
       },
       "data": [
        {
         "hovertemplate": "variable=Desember<br>År=%{x}<br>value=%{y}<extra></extra>",
         "legendgroup": "Desember",
         "marker": {
          "color": "#636efa",
          "symbol": "circle"
         },
         "mode": "markers",
         "name": "Desember",
         "orientation": "v",
         "showlegend": true,
         "type": "scatter",
         "x": [
          1900,
          1901,
          1902,
          1903,
          1904,
          1905,
          1906,
          1907,
          1908,
          1909,
          1910,
          1911,
          1912,
          1913,
          1914,
          1915,
          1916,
          1917,
          1918,
          1919,
          1920,
          1921,
          1922,
          1923,
          1924,
          1925,
          1926,
          1927,
          1928,
          1929,
          1930,
          1931,
          1932,
          1933,
          1934,
          1935,
          1936,
          1937,
          1938,
          1939,
          1940,
          1941,
          1942,
          1943,
          1944,
          1945,
          1946,
          1947,
          1948,
          1949,
          1950,
          1951,
          1952,
          1953,
          1954,
          1955,
          1956,
          1957,
          1958,
          1959,
          1960,
          1961,
          1962,
          1963,
          1964,
          1965,
          1966,
          1967,
          1968,
          1969,
          1970,
          1971,
          1972,
          1973,
          1974,
          1975,
          1976,
          1977,
          1978,
          1979,
          1980,
          1981,
          1982,
          1983,
          1984,
          1985,
          1986,
          1987,
          1988,
          1989,
          1990,
          1991,
          1992,
          1993,
          1994,
          1995,
          1996,
          1997,
          1998,
          1999,
          2000,
          2001,
          2002,
          2003,
          2004,
          2005,
          2006,
          2007,
          2008,
          2009,
          2010,
          2011,
          2012,
          2013,
          2014,
          2015,
          2016,
          2017,
          2018,
          2019,
          2020
         ],
         "xaxis": "x",
         "y": [
          367.28,
          131.04,
          177.85,
          39.5,
          248.66,
          320.28,
          163.23,
          69.37,
          169.17,
          127.83,
          146.61,
          68.69,
          312.74,
          292.98,
          170.85,
          72.27,
          75.48,
          280.83,
          146.1,
          81.27,
          85,
          283.04,
          190.29,
          131.94,
          294.27,
          150.6,
          281.53,
          24.33,
          170.26,
          171.34,
          114.18,
          254.41,
          178.26,
          130.24,
          44.34,
          62.36,
          421.45,
          54.75,
          106.87,
          144.13,
          167.16,
          326.97,
          181.63,
          158.73,
          158.26,
          115.16,
          89.6,
          123.12,
          178.73,
          287.99,
          107.09,
          339.76,
          92.91,
          221.72,
          277.29,
          324.14,
          252.11,
          346.17,
          136.19,
          75.8,
          148.47,
          140.45,
          106.32,
          130.37,
          228.29,
          89.39,
          207.43,
          313.42,
          52.31,
          94.73,
          197.73,
          383.18,
          183.33,
          313.3,
          361.02,
          527.72,
          79.6,
          165.2,
          29.41,
          180.76,
          403.64,
          76.47,
          233.08,
          257.92,
          182.09,
          229.11,
          289.96,
          238.99,
          333.75,
          174.1,
          266.36,
          317.93,
          330.21,
          228.08,
          300.71,
          106.95,
          123.63,
          104.98,
          246.78,
          284.1,
          130.55,
          140.71,
          40.54,
          328.68,
          386.95,
          187.99,
          374.4,
          208.02,
          151.94,
          62.88,
          89.39,
          378.29,
          111.18,
          373.89,
          349.19,
          431.05,
          368.66,
          354.27,
          161.33,
          304.67,
          null
         ],
         "yaxis": "y"
        },
        {
         "hovertemplate": "<b>OLS trendline</b><br>value = 0.837816 * År + -1439.1<br>R<sup>2</sup>=0.071897<br><br>variable=Desember<br>År=%{x}<br>value=%{y} <b>(trend)</b><extra></extra>",
         "legendgroup": "Desember",
         "marker": {
          "color": "#636efa",
          "symbol": "circle"
         },
         "mode": "lines",
         "name": "Desember",
         "showlegend": false,
         "type": "scatter",
         "x": [
          1900,
          1901,
          1902,
          1903,
          1904,
          1905,
          1906,
          1907,
          1908,
          1909,
          1910,
          1911,
          1912,
          1913,
          1914,
          1915,
          1916,
          1917,
          1918,
          1919,
          1920,
          1921,
          1922,
          1923,
          1924,
          1925,
          1926,
          1927,
          1928,
          1929,
          1930,
          1931,
          1932,
          1933,
          1934,
          1935,
          1936,
          1937,
          1938,
          1939,
          1940,
          1941,
          1942,
          1943,
          1944,
          1945,
          1946,
          1947,
          1948,
          1949,
          1950,
          1951,
          1952,
          1953,
          1954,
          1955,
          1956,
          1957,
          1958,
          1959,
          1960,
          1961,
          1962,
          1963,
          1964,
          1965,
          1966,
          1967,
          1968,
          1969,
          1970,
          1971,
          1972,
          1973,
          1974,
          1975,
          1976,
          1977,
          1978,
          1979,
          1980,
          1981,
          1982,
          1983,
          1984,
          1985,
          1986,
          1987,
          1988,
          1989,
          1990,
          1991,
          1992,
          1993,
          1994,
          1995,
          1996,
          1997,
          1998,
          1999,
          2000,
          2001,
          2002,
          2003,
          2004,
          2005,
          2006,
          2007,
          2008,
          2009,
          2010,
          2011,
          2012,
          2013,
          2014,
          2015,
          2016,
          2017,
          2018,
          2019
         ],
         "xaxis": "x",
         "y": [
          152.74995867768598,
          153.587774498229,
          154.42559031877227,
          155.2634061393153,
          156.10122195985832,
          156.93903778040158,
          157.7768536009446,
          158.61466942148763,
          159.4524852420309,
          160.29030106257392,
          161.12811688311695,
          161.9659327036602,
          162.80374852420323,
          163.64156434474626,
          164.4793801652895,
          165.31719598583254,
          166.15501180637557,
          166.99282762691882,
          167.83064344746185,
          168.66845926800488,
          169.50627508854814,
          170.34409090909116,
          171.1819067296342,
          172.01972255017722,
          172.85753837072048,
          173.6953541912635,
          174.53317001180653,
          175.3709858323498,
          176.20880165289282,
          177.04661747343584,
          177.8844332939791,
          178.72224911452213,
          179.56006493506516,
          180.3978807556084,
          181.23569657615144,
          182.07351239669447,
          182.91132821723772,
          183.74914403778075,
          184.58695985832378,
          185.42477567886704,
          186.26259149941006,
          187.1004073199531,
          187.93822314049612,
          188.77603896103938,
          189.6138547815824,
          190.45167060212543,
          191.2894864226687,
          192.12730224321172,
          192.96511806375474,
          193.802933884298,
          194.64074970484103,
          195.47856552538406,
          196.3163813459273,
          197.15419716647034,
          197.99201298701337,
          198.82982880755662,
          199.66764462809965,
          200.50546044864268,
          201.34327626918594,
          202.18109208972896,
          203.018907910272,
          203.85672373081502,
          204.69453955135828,
          205.5323553719013,
          206.37017119244433,
          207.2079870129876,
          208.04580283353062,
          208.88361865407364,
          209.7214344746169,
          210.55925029515993,
          211.39706611570296,
          212.2348819362462,
          213.07269775678924,
          213.91051357733227,
          214.74832939787552,
          215.58614521841855,
          216.42396103896158,
          217.26177685950483,
          218.09959268004786,
          218.9374085005909,
          219.77522432113392,
          220.61304014167717,
          221.4508559622202,
          222.28867178276323,
          223.1264876033065,
          223.96430342384951,
          224.80211924439254,
          225.6399350649358,
          226.47775088547883,
          227.31556670602185,
          228.1533825265651,
          228.99119834710814,
          229.82901416765117,
          230.66682998819442,
          231.50464580873745,
          232.34246162928048,
          233.18027744982373,
          234.01809327036676,
          234.8559090909098,
          235.69372491145282,
          236.53154073199607,
          237.3693565525391,
          238.20717237308213,
          239.0449881936254,
          239.8828040141684,
          240.72061983471144,
          241.5584356552547,
          242.39625147579773,
          243.23406729634075,
          244.071883116884,
          244.90969893742704,
          245.74751475797007,
          246.58533057851332,
          247.42314639905635,
          248.26096221959938,
          249.09877804014263,
          249.93659386068566,
          250.7744096812287,
          251.61222550177195,
          252.45004132231497
         ],
         "yaxis": "y"
        },
        {
         "hovertemplate": "variable=Januar<br>År=%{x}<br>value=%{y}<extra></extra>",
         "legendgroup": "Januar",
         "marker": {
          "color": "#EF553B",
          "symbol": "circle"
         },
         "mode": "markers",
         "name": "Januar",
         "orientation": "v",
         "showlegend": true,
         "type": "scatter",
         "x": [
          1900,
          1901,
          1902,
          1903,
          1904,
          1905,
          1906,
          1907,
          1908,
          1909,
          1910,
          1911,
          1912,
          1913,
          1914,
          1915,
          1916,
          1917,
          1918,
          1919,
          1920,
          1921,
          1922,
          1923,
          1924,
          1925,
          1926,
          1927,
          1928,
          1929,
          1930,
          1931,
          1932,
          1933,
          1934,
          1935,
          1936,
          1937,
          1938,
          1939,
          1940,
          1941,
          1942,
          1943,
          1944,
          1945,
          1946,
          1947,
          1948,
          1949,
          1950,
          1951,
          1952,
          1953,
          1954,
          1955,
          1956,
          1957,
          1958,
          1959,
          1960,
          1961,
          1962,
          1963,
          1964,
          1965,
          1966,
          1967,
          1968,
          1969,
          1970,
          1971,
          1972,
          1973,
          1974,
          1975,
          1976,
          1977,
          1978,
          1979,
          1980,
          1981,
          1982,
          1983,
          1984,
          1985,
          1986,
          1987,
          1988,
          1989,
          1990,
          1991,
          1992,
          1993,
          1994,
          1995,
          1996,
          1997,
          1998,
          1999,
          2000,
          2001,
          2002,
          2003,
          2004,
          2005,
          2006,
          2007,
          2008,
          2009,
          2010,
          2011,
          2012,
          2013,
          2014,
          2015,
          2016,
          2017,
          2018,
          2019,
          2020
         ],
         "xaxis": "x",
         "y": [
          117.68,
          108.88,
          424.73,
          190.97,
          134.69,
          399.32,
          243.5,
          261.81,
          350.12,
          272.69,
          228.33,
          282.18,
          120.28,
          91.71,
          301.03,
          119.61,
          369.31,
          31.98,
          215.04,
          52.5,
          245.29,
          388.46,
          98.88,
          345.89,
          124.4,
          372.44,
          66.66,
          245.05,
          196.8,
          79.67,
          299.22,
          113.86,
          363.54,
          104.01,
          276.14,
          220.16,
          126.05,
          154.43,
          249.58,
          88.28,
          80.93,
          42.98,
          55.16,
          115.53,
          335.02,
          133.99,
          147.94,
          75.83,
          70.52,
          410.28,
          145.84,
          77.7,
          200.36,
          217.52,
          169.81,
          188.04,
          139.9,
          366.45,
          120.62,
          109.83,
          106.68,
          83.53,
          259.17,
          80.5,
          160.3,
          189.05,
          62.76,
          121.98,
          235.83,
          128.77,
          68.05,
          188.13,
          45.17,
          168.63,
          171.86,
          356.59,
          269.45,
          78.18,
          174.34,
          83.56,
          66.03,
          276.5,
          120.63,
          515.51,
          199.74,
          93.23,
          129.69,
          106.64,
          133.3,
          532.79,
          344.07,
          170.85,
          384.57,
          401.01,
          269.02,
          209.47,
          15.59,
          156.95,
          206.7,
          217.13,
          349.66,
          62.37,
          239.48,
          332.76,
          112.85,
          464.54,
          115.93,
          408.08,
          282.82,
          218.47,
          51.78,
          221.41,
          209.56,
          131.58,
          74.54,
          369.63,
          166.69,
          240.44,
          179.15,
          205.75,
          399.1
         ],
         "yaxis": "y"
        },
        {
         "hovertemplate": "<b>OLS trendline</b><br>value = 0.166393 * År + -126.973<br>R<sup>2</sup>=0.002538<br><br>variable=Januar<br>År=%{x}<br>value=%{y} <b>(trend)</b><extra></extra>",
         "legendgroup": "Januar",
         "marker": {
          "color": "#EF553B",
          "symbol": "circle"
         },
         "mode": "lines",
         "name": "Januar",
         "showlegend": false,
         "type": "scatter",
         "x": [
          1900,
          1901,
          1902,
          1903,
          1904,
          1905,
          1906,
          1907,
          1908,
          1909,
          1910,
          1911,
          1912,
          1913,
          1914,
          1915,
          1916,
          1917,
          1918,
          1919,
          1920,
          1921,
          1922,
          1923,
          1924,
          1925,
          1926,
          1927,
          1928,
          1929,
          1930,
          1931,
          1932,
          1933,
          1934,
          1935,
          1936,
          1937,
          1938,
          1939,
          1940,
          1941,
          1942,
          1943,
          1944,
          1945,
          1946,
          1947,
          1948,
          1949,
          1950,
          1951,
          1952,
          1953,
          1954,
          1955,
          1956,
          1957,
          1958,
          1959,
          1960,
          1961,
          1962,
          1963,
          1964,
          1965,
          1966,
          1967,
          1968,
          1969,
          1970,
          1971,
          1972,
          1973,
          1974,
          1975,
          1976,
          1977,
          1978,
          1979,
          1980,
          1981,
          1982,
          1983,
          1984,
          1985,
          1986,
          1987,
          1988,
          1989,
          1990,
          1991,
          1992,
          1993,
          1994,
          1995,
          1996,
          1997,
          1998,
          1999,
          2000,
          2001,
          2002,
          2003,
          2004,
          2005,
          2006,
          2007,
          2008,
          2009,
          2010,
          2011,
          2012,
          2013,
          2014,
          2015,
          2016,
          2017,
          2018,
          2019,
          2020
         ],
         "xaxis": "x",
         "y": [
          189.1731201734182,
          189.33951307410914,
          189.50590597480013,
          189.67229887549107,
          189.838691776182,
          190.005084676873,
          190.17147757756393,
          190.33787047825493,
          190.50426337894586,
          190.67065627963686,
          190.8370491803278,
          191.0034420810188,
          191.16983498170973,
          191.33622788240072,
          191.50262078309166,
          191.66901368378265,
          191.8354065844736,
          192.00179948516458,
          192.16819238585552,
          192.3345852865465,
          192.50097818723745,
          192.6673710879284,
          192.83376398861938,
          193.00015688931032,
          193.1665497900013,
          193.33294269069225,
          193.49933559138324,
          193.66572849207418,
          193.83212139276517,
          193.9985142934561,
          194.1649071941471,
          194.33130009483804,
          194.49769299552904,
          194.66408589621997,
          194.83047879691097,
          194.9968716976019,
          195.1632645982929,
          195.32965749898383,
          195.49605039967477,
          195.66244330036577,
          195.8288362010567,
          195.9952291017477,
          196.16162200243863,
          196.32801490312963,
          196.49440780382056,
          196.66080070451156,
          196.8271936052025,
          196.9935865058935,
          197.15997940658443,
          197.32637230727542,
          197.49276520796636,
          197.65915810865735,
          197.8255510093483,
          197.99194391003923,
          198.15833681073022,
          198.32472971142116,
          198.49112261211215,
          198.6575155128031,
          198.82390841349408,
          198.99030131418502,
          199.156694214876,
          199.32308711556695,
          199.48948001625794,
          199.65587291694888,
          199.82226581763987,
          199.9886587183308,
          200.1550516190218,
          200.32144451971274,
          200.48783742040368,
          200.65423032109467,
          200.8206232217856,
          200.9870161224766,
          201.15340902316754,
          201.31980192385853,
          201.48619482454947,
          201.65258772524047,
          201.8189806259314,
          201.9853735266224,
          202.15176642731333,
          202.31815932800433,
          202.48455222869526,
          202.65094512938626,
          202.8173380300772,
          202.9837309307682,
          203.15012383145913,
          203.31651673215006,
          203.48290963284106,
          203.649302533532,
          203.815695434223,
          203.98208833491393,
          204.14848123560492,
          204.31487413629586,
          204.48126703698685,
          204.6476599376778,
          204.81405283836878,
          204.98044573905972,
          205.1468386397507,
          205.31323154044165,
          205.47962444113264,
          205.64601734182358,
          205.81241024251457,
          205.9788031432055,
          206.14519604389645,
          206.31158894458744,
          206.47798184527838,
          206.64437474596937,
          206.8107676466603,
          206.9771605473513,
          207.14355344804224,
          207.30994634873323,
          207.47633924942417,
          207.64273215011517,
          207.8091250508061,
          207.9755179514971,
          208.14191085218803,
          208.30830375287903,
          208.47469665356996,
          208.6410895542609,
          208.8074824549519,
          208.97387535564283,
          209.14026825633383
         ],
         "yaxis": "y"
        },
        {
         "hovertemplate": "variable=Februar<br>År=%{x}<br>value=%{y}<extra></extra>",
         "legendgroup": "Februar",
         "marker": {
          "color": "#00cc96",
          "symbol": "circle"
         },
         "mode": "markers",
         "name": "Februar",
         "orientation": "v",
         "showlegend": true,
         "type": "scatter",
         "x": [
          1900,
          1901,
          1902,
          1903,
          1904,
          1905,
          1906,
          1907,
          1908,
          1909,
          1910,
          1911,
          1912,
          1913,
          1914,
          1915,
          1916,
          1917,
          1918,
          1919,
          1920,
          1921,
          1922,
          1923,
          1924,
          1925,
          1926,
          1927,
          1928,
          1929,
          1930,
          1931,
          1932,
          1933,
          1934,
          1935,
          1936,
          1937,
          1938,
          1939,
          1940,
          1941,
          1942,
          1943,
          1944,
          1945,
          1946,
          1947,
          1948,
          1949,
          1950,
          1951,
          1952,
          1953,
          1954,
          1955,
          1956,
          1957,
          1958,
          1959,
          1960,
          1961,
          1962,
          1963,
          1964,
          1965,
          1966,
          1967,
          1968,
          1969,
          1970,
          1971,
          1972,
          1973,
          1974,
          1975,
          1976,
          1977,
          1978,
          1979,
          1980,
          1981,
          1982,
          1983,
          1984,
          1985,
          1986,
          1987,
          1988,
          1989,
          1990,
          1991,
          1992,
          1993,
          1994,
          1995,
          1996,
          1997,
          1998,
          1999,
          2000,
          2001,
          2002,
          2003,
          2004,
          2005,
          2006,
          2007,
          2008,
          2009,
          2010,
          2011,
          2012,
          2013,
          2014,
          2015,
          2016,
          2017,
          2018,
          2019,
          2020
         ],
         "xaxis": "x",
         "y": [
          21.72,
          81.12,
          88.64,
          336.23,
          41.86,
          277.14,
          139.47,
          197.49,
          243.34,
          100.92,
          140.59,
          232.41,
          90.07,
          175.02,
          225.97,
          56.73,
          92.03,
          99.58,
          148.29,
          35.76,
          312.88,
          166.44,
          106.75,
          64.59,
          175.57,
          216.45,
          74.45,
          81.8,
          230.11,
          18.85,
          51.98,
          130.36,
          111.77,
          181.46,
          342.68,
          249.37,
          39.77,
          50.64,
          163.89,
          278.52,
          90.84,
          47.64,
          46.66,
          413.48,
          134.03,
          198.18,
          178.12,
          10.49,
          98.3,
          271.65,
          146.07,
          30.95,
          217.23,
          164.14,
          24.7,
          46.5,
          73.22,
          92.07,
          113.37,
          194.8,
          62.64,
          158.31,
          278.42,
          52.29,
          143.88,
          100.16,
          73.05,
          179.03,
          118.53,
          74.01,
          49.03,
          179.24,
          22.98,
          258.09,
          129.57,
          71.63,
          161.21,
          27.62,
          61.47,
          98.74,
          85.02,
          194.14,
          82.49,
          56.96,
          73.42,
          124.94,
          13.16,
          166.57,
          135.31,
          330.22,
          354.85,
          95.02,
          259.26,
          228.34,
          17.02,
          294.32,
          117.47,
          298.21,
          399.08,
          269.43,
          323.83,
          137.68,
          240.58,
          51.43,
          180.13,
          157.42,
          112.41,
          124.99,
          322.48,
          120.94,
          31.19,
          146.52,
          256.51,
          68.72,
          147.35,
          172.5,
          209.38,
          127.86,
          66.43,
          114.09,
          361.69
         ],
         "yaxis": "y"
        },
        {
         "hovertemplate": "<b>OLS trendline</b><br>value = 0.283083 * År + -407.452<br>R<sup>2</sup>=0.010943<br><br>variable=Februar<br>År=%{x}<br>value=%{y} <b>(trend)</b><extra></extra>",
         "legendgroup": "Februar",
         "marker": {
          "color": "#00cc96",
          "symbol": "circle"
         },
         "mode": "lines",
         "name": "Februar",
         "showlegend": false,
         "type": "scatter",
         "x": [
          1900,
          1901,
          1902,
          1903,
          1904,
          1905,
          1906,
          1907,
          1908,
          1909,
          1910,
          1911,
          1912,
          1913,
          1914,
          1915,
          1916,
          1917,
          1918,
          1919,
          1920,
          1921,
          1922,
          1923,
          1924,
          1925,
          1926,
          1927,
          1928,
          1929,
          1930,
          1931,
          1932,
          1933,
          1934,
          1935,
          1936,
          1937,
          1938,
          1939,
          1940,
          1941,
          1942,
          1943,
          1944,
          1945,
          1946,
          1947,
          1948,
          1949,
          1950,
          1951,
          1952,
          1953,
          1954,
          1955,
          1956,
          1957,
          1958,
          1959,
          1960,
          1961,
          1962,
          1963,
          1964,
          1965,
          1966,
          1967,
          1968,
          1969,
          1970,
          1971,
          1972,
          1973,
          1974,
          1975,
          1976,
          1977,
          1978,
          1979,
          1980,
          1981,
          1982,
          1983,
          1984,
          1985,
          1986,
          1987,
          1988,
          1989,
          1990,
          1991,
          1992,
          1993,
          1994,
          1995,
          1996,
          1997,
          1998,
          1999,
          2000,
          2001,
          2002,
          2003,
          2004,
          2005,
          2006,
          2007,
          2008,
          2009,
          2010,
          2011,
          2012,
          2013,
          2014,
          2015,
          2016,
          2017,
          2018,
          2019,
          2020
         ],
         "xaxis": "x",
         "y": [
          130.40681073025297,
          130.6898941877791,
          130.9729776453051,
          131.2560611028312,
          131.53914456035733,
          131.82222801788333,
          132.10531147540945,
          132.38839493293557,
          132.67147839046157,
          132.9545618479877,
          133.2376453055138,
          133.5207287630398,
          133.80381222056593,
          134.08689567809205,
          134.36997913561805,
          134.65306259314417,
          134.9361460506703,
          135.2192295081963,
          135.5023129657224,
          135.78539642324853,
          136.06847988077453,
          136.35156333830065,
          136.63464679582677,
          136.91773025335277,
          137.2008137108789,
          137.483897168405,
          137.766980625931,
          138.05006408345713,
          138.33314754098325,
          138.61623099850925,
          138.89931445603537,
          139.1823979135615,
          139.4654813710875,
          139.7485648286136,
          140.03164828613973,
          140.31473174366585,
          140.59781520119185,
          140.88089865871797,
          141.16398211624409,
          141.4470655737701,
          141.7301490312962,
          142.01323248882233,
          142.29631594634833,
          142.57939940387445,
          142.86248286140057,
          143.14556631892657,
          143.4286497764527,
          143.7117332339788,
          143.9948166915048,
          144.27790014903093,
          144.56098360655704,
          144.84406706408305,
          145.12715052160917,
          145.41023397913528,
          145.6933174366613,
          145.9764008941874,
          146.25948435171352,
          146.54256780923953,
          146.82565126676565,
          147.10873472429176,
          147.39181818181777,
          147.6749016393439,
          147.95798509687,
          148.241068554396,
          148.52415201192213,
          148.80723546944824,
          149.09031892697436,
          149.37340238450037,
          149.65648584202648,
          149.9395692995526,
          150.2226527570786,
          150.50573621460472,
          150.78881967213084,
          151.07190312965685,
          151.35498658718296,
          151.63807004470908,
          151.9211535022351,
          152.2042369597612,
          152.48732041728732,
          152.77040387481333,
          153.05348733233944,
          153.33657078986556,
          153.61965424739157,
          153.90273770491768,
          154.1858211624438,
          154.4689046199698,
          154.75198807749592,
          155.03507153502204,
          155.31815499254805,
          155.60123845007416,
          155.88432190760028,
          156.16740536512629,
          156.4504888226524,
          156.73357228017852,
          157.01665573770453,
          157.29973919523064,
          157.58282265275676,
          157.86590611028276,
          158.14898956780888,
          158.432073025335,
          158.71515648286112,
          158.99823994038712,
          159.28132339791324,
          159.56440685543936,
          159.84749031296536,
          160.13057377049148,
          160.4136572280176,
          160.6967406855436,
          160.97982414306972,
          161.26290760059584,
          161.54599105812184,
          161.82907451564796,
          162.11215797317408,
          162.39524143070008,
          162.6783248882262,
          162.96140834575232,
          163.24449180327832,
          163.52757526080444,
          163.81065871833056,
          164.09374217585656,
          164.37682563338268
         ],
         "yaxis": "y"
        }
       ],
       "layout": {
        "autosize": true,
        "font": {
         "color": "RebeccaPurple",
         "family": "Courier New, monospace",
         "size": 12
        },
        "legend": {
         "title": {
          "text": "Legend Title"
         },
         "tracegroupgap": 0
        },
        "margin": {
         "t": 60
        },
        "template": {
         "data": {
          "bar": [
           {
            "error_x": {
             "color": "#2a3f5f"
            },
            "error_y": {
             "color": "#2a3f5f"
            },
            "marker": {
             "line": {
              "color": "#E5ECF6",
              "width": 0.5
             },
             "pattern": {
              "fillmode": "overlay",
              "size": 10,
              "solidity": 0.2
             }
            },
            "type": "bar"
           }
          ],
          "barpolar": [
           {
            "marker": {
             "line": {
              "color": "#E5ECF6",
              "width": 0.5
             },
             "pattern": {
              "fillmode": "overlay",
              "size": 10,
              "solidity": 0.2
             }
            },
            "type": "barpolar"
           }
          ],
          "carpet": [
           {
            "aaxis": {
             "endlinecolor": "#2a3f5f",
             "gridcolor": "white",
             "linecolor": "white",
             "minorgridcolor": "white",
             "startlinecolor": "#2a3f5f"
            },
            "baxis": {
             "endlinecolor": "#2a3f5f",
             "gridcolor": "white",
             "linecolor": "white",
             "minorgridcolor": "white",
             "startlinecolor": "#2a3f5f"
            },
            "type": "carpet"
           }
          ],
          "choropleth": [
           {
            "colorbar": {
             "outlinewidth": 0,
             "ticks": ""
            },
            "type": "choropleth"
           }
          ],
          "contour": [
           {
            "colorbar": {
             "outlinewidth": 0,
             "ticks": ""
            },
            "colorscale": [
             [
              0,
              "#0d0887"
             ],
             [
              0.1111111111111111,
              "#46039f"
             ],
             [
              0.2222222222222222,
              "#7201a8"
             ],
             [
              0.3333333333333333,
              "#9c179e"
             ],
             [
              0.4444444444444444,
              "#bd3786"
             ],
             [
              0.5555555555555556,
              "#d8576b"
             ],
             [
              0.6666666666666666,
              "#ed7953"
             ],
             [
              0.7777777777777778,
              "#fb9f3a"
             ],
             [
              0.8888888888888888,
              "#fdca26"
             ],
             [
              1,
              "#f0f921"
             ]
            ],
            "type": "contour"
           }
          ],
          "contourcarpet": [
           {
            "colorbar": {
             "outlinewidth": 0,
             "ticks": ""
            },
            "type": "contourcarpet"
           }
          ],
          "heatmap": [
           {
            "colorbar": {
             "outlinewidth": 0,
             "ticks": ""
            },
            "colorscale": [
             [
              0,
              "#0d0887"
             ],
             [
              0.1111111111111111,
              "#46039f"
             ],
             [
              0.2222222222222222,
              "#7201a8"
             ],
             [
              0.3333333333333333,
              "#9c179e"
             ],
             [
              0.4444444444444444,
              "#bd3786"
             ],
             [
              0.5555555555555556,
              "#d8576b"
             ],
             [
              0.6666666666666666,
              "#ed7953"
             ],
             [
              0.7777777777777778,
              "#fb9f3a"
             ],
             [
              0.8888888888888888,
              "#fdca26"
             ],
             [
              1,
              "#f0f921"
             ]
            ],
            "type": "heatmap"
           }
          ],
          "heatmapgl": [
           {
            "colorbar": {
             "outlinewidth": 0,
             "ticks": ""
            },
            "colorscale": [
             [
              0,
              "#0d0887"
             ],
             [
              0.1111111111111111,
              "#46039f"
             ],
             [
              0.2222222222222222,
              "#7201a8"
             ],
             [
              0.3333333333333333,
              "#9c179e"
             ],
             [
              0.4444444444444444,
              "#bd3786"
             ],
             [
              0.5555555555555556,
              "#d8576b"
             ],
             [
              0.6666666666666666,
              "#ed7953"
             ],
             [
              0.7777777777777778,
              "#fb9f3a"
             ],
             [
              0.8888888888888888,
              "#fdca26"
             ],
             [
              1,
              "#f0f921"
             ]
            ],
            "type": "heatmapgl"
           }
          ],
          "histogram": [
           {
            "marker": {
             "pattern": {
              "fillmode": "overlay",
              "size": 10,
              "solidity": 0.2
             }
            },
            "type": "histogram"
           }
          ],
          "histogram2d": [
           {
            "colorbar": {
             "outlinewidth": 0,
             "ticks": ""
            },
            "colorscale": [
             [
              0,
              "#0d0887"
             ],
             [
              0.1111111111111111,
              "#46039f"
             ],
             [
              0.2222222222222222,
              "#7201a8"
             ],
             [
              0.3333333333333333,
              "#9c179e"
             ],
             [
              0.4444444444444444,
              "#bd3786"
             ],
             [
              0.5555555555555556,
              "#d8576b"
             ],
             [
              0.6666666666666666,
              "#ed7953"
             ],
             [
              0.7777777777777778,
              "#fb9f3a"
             ],
             [
              0.8888888888888888,
              "#fdca26"
             ],
             [
              1,
              "#f0f921"
             ]
            ],
            "type": "histogram2d"
           }
          ],
          "histogram2dcontour": [
           {
            "colorbar": {
             "outlinewidth": 0,
             "ticks": ""
            },
            "colorscale": [
             [
              0,
              "#0d0887"
             ],
             [
              0.1111111111111111,
              "#46039f"
             ],
             [
              0.2222222222222222,
              "#7201a8"
             ],
             [
              0.3333333333333333,
              "#9c179e"
             ],
             [
              0.4444444444444444,
              "#bd3786"
             ],
             [
              0.5555555555555556,
              "#d8576b"
             ],
             [
              0.6666666666666666,
              "#ed7953"
             ],
             [
              0.7777777777777778,
              "#fb9f3a"
             ],
             [
              0.8888888888888888,
              "#fdca26"
             ],
             [
              1,
              "#f0f921"
             ]
            ],
            "type": "histogram2dcontour"
           }
          ],
          "mesh3d": [
           {
            "colorbar": {
             "outlinewidth": 0,
             "ticks": ""
            },
            "type": "mesh3d"
           }
          ],
          "parcoords": [
           {
            "line": {
             "colorbar": {
              "outlinewidth": 0,
              "ticks": ""
             }
            },
            "type": "parcoords"
           }
          ],
          "pie": [
           {
            "automargin": true,
            "type": "pie"
           }
          ],
          "scatter": [
           {
            "fillpattern": {
             "fillmode": "overlay",
             "size": 10,
             "solidity": 0.2
            },
            "type": "scatter"
           }
          ],
          "scatter3d": [
           {
            "line": {
             "colorbar": {
              "outlinewidth": 0,
              "ticks": ""
             }
            },
            "marker": {
             "colorbar": {
              "outlinewidth": 0,
              "ticks": ""
             }
            },
            "type": "scatter3d"
           }
          ],
          "scattercarpet": [
           {
            "marker": {
             "colorbar": {
              "outlinewidth": 0,
              "ticks": ""
             }
            },
            "type": "scattercarpet"
           }
          ],
          "scattergeo": [
           {
            "marker": {
             "colorbar": {
              "outlinewidth": 0,
              "ticks": ""
             }
            },
            "type": "scattergeo"
           }
          ],
          "scattergl": [
           {
            "marker": {
             "colorbar": {
              "outlinewidth": 0,
              "ticks": ""
             }
            },
            "type": "scattergl"
           }
          ],
          "scattermapbox": [
           {
            "marker": {
             "colorbar": {
              "outlinewidth": 0,
              "ticks": ""
             }
            },
            "type": "scattermapbox"
           }
          ],
          "scatterpolar": [
           {
            "marker": {
             "colorbar": {
              "outlinewidth": 0,
              "ticks": ""
             }
            },
            "type": "scatterpolar"
           }
          ],
          "scatterpolargl": [
           {
            "marker": {
             "colorbar": {
              "outlinewidth": 0,
              "ticks": ""
             }
            },
            "type": "scatterpolargl"
           }
          ],
          "scatterternary": [
           {
            "marker": {
             "colorbar": {
              "outlinewidth": 0,
              "ticks": ""
             }
            },
            "type": "scatterternary"
           }
          ],
          "surface": [
           {
            "colorbar": {
             "outlinewidth": 0,
             "ticks": ""
            },
            "colorscale": [
             [
              0,
              "#0d0887"
             ],
             [
              0.1111111111111111,
              "#46039f"
             ],
             [
              0.2222222222222222,
              "#7201a8"
             ],
             [
              0.3333333333333333,
              "#9c179e"
             ],
             [
              0.4444444444444444,
              "#bd3786"
             ],
             [
              0.5555555555555556,
              "#d8576b"
             ],
             [
              0.6666666666666666,
              "#ed7953"
             ],
             [
              0.7777777777777778,
              "#fb9f3a"
             ],
             [
              0.8888888888888888,
              "#fdca26"
             ],
             [
              1,
              "#f0f921"
             ]
            ],
            "type": "surface"
           }
          ],
          "table": [
           {
            "cells": {
             "fill": {
              "color": "#EBF0F8"
             },
             "line": {
              "color": "white"
             }
            },
            "header": {
             "fill": {
              "color": "#C8D4E3"
             },
             "line": {
              "color": "white"
             }
            },
            "type": "table"
           }
          ]
         },
         "layout": {
          "annotationdefaults": {
           "arrowcolor": "#2a3f5f",
           "arrowhead": 0,
           "arrowwidth": 1
          },
          "autotypenumbers": "strict",
          "coloraxis": {
           "colorbar": {
            "outlinewidth": 0,
            "ticks": ""
           }
          },
          "colorscale": {
           "diverging": [
            [
             0,
             "#8e0152"
            ],
            [
             0.1,
             "#c51b7d"
            ],
            [
             0.2,
             "#de77ae"
            ],
            [
             0.3,
             "#f1b6da"
            ],
            [
             0.4,
             "#fde0ef"
            ],
            [
             0.5,
             "#f7f7f7"
            ],
            [
             0.6,
             "#e6f5d0"
            ],
            [
             0.7,
             "#b8e186"
            ],
            [
             0.8,
             "#7fbc41"
            ],
            [
             0.9,
             "#4d9221"
            ],
            [
             1,
             "#276419"
            ]
           ],
           "sequential": [
            [
             0,
             "#0d0887"
            ],
            [
             0.1111111111111111,
             "#46039f"
            ],
            [
             0.2222222222222222,
             "#7201a8"
            ],
            [
             0.3333333333333333,
             "#9c179e"
            ],
            [
             0.4444444444444444,
             "#bd3786"
            ],
            [
             0.5555555555555556,
             "#d8576b"
            ],
            [
             0.6666666666666666,
             "#ed7953"
            ],
            [
             0.7777777777777778,
             "#fb9f3a"
            ],
            [
             0.8888888888888888,
             "#fdca26"
            ],
            [
             1,
             "#f0f921"
            ]
           ],
           "sequentialminus": [
            [
             0,
             "#0d0887"
            ],
            [
             0.1111111111111111,
             "#46039f"
            ],
            [
             0.2222222222222222,
             "#7201a8"
            ],
            [
             0.3333333333333333,
             "#9c179e"
            ],
            [
             0.4444444444444444,
             "#bd3786"
            ],
            [
             0.5555555555555556,
             "#d8576b"
            ],
            [
             0.6666666666666666,
             "#ed7953"
            ],
            [
             0.7777777777777778,
             "#fb9f3a"
            ],
            [
             0.8888888888888888,
             "#fdca26"
            ],
            [
             1,
             "#f0f921"
            ]
           ]
          },
          "colorway": [
           "#636efa",
           "#EF553B",
           "#00cc96",
           "#ab63fa",
           "#FFA15A",
           "#19d3f3",
           "#FF6692",
           "#B6E880",
           "#FF97FF",
           "#FECB52"
          ],
          "font": {
           "color": "#2a3f5f"
          },
          "geo": {
           "bgcolor": "white",
           "lakecolor": "white",
           "landcolor": "#E5ECF6",
           "showlakes": true,
           "showland": true,
           "subunitcolor": "white"
          },
          "hoverlabel": {
           "align": "left"
          },
          "hovermode": "closest",
          "mapbox": {
           "style": "light"
          },
          "paper_bgcolor": "white",
          "plot_bgcolor": "#E5ECF6",
          "polar": {
           "angularaxis": {
            "gridcolor": "white",
            "linecolor": "white",
            "ticks": ""
           },
           "bgcolor": "#E5ECF6",
           "radialaxis": {
            "gridcolor": "white",
            "linecolor": "white",
            "ticks": ""
           }
          },
          "scene": {
           "xaxis": {
            "backgroundcolor": "#E5ECF6",
            "gridcolor": "white",
            "gridwidth": 2,
            "linecolor": "white",
            "showbackground": true,
            "ticks": "",
            "zerolinecolor": "white"
           },
           "yaxis": {
            "backgroundcolor": "#E5ECF6",
            "gridcolor": "white",
            "gridwidth": 2,
            "linecolor": "white",
            "showbackground": true,
            "ticks": "",
            "zerolinecolor": "white"
           },
           "zaxis": {
            "backgroundcolor": "#E5ECF6",
            "gridcolor": "white",
            "gridwidth": 2,
            "linecolor": "white",
            "showbackground": true,
            "ticks": "",
            "zerolinecolor": "white"
           }
          },
          "shapedefaults": {
           "line": {
            "color": "#2a3f5f"
           }
          },
          "ternary": {
           "aaxis": {
            "gridcolor": "white",
            "linecolor": "white",
            "ticks": ""
           },
           "baxis": {
            "gridcolor": "white",
            "linecolor": "white",
            "ticks": ""
           },
           "bgcolor": "#E5ECF6",
           "caxis": {
            "gridcolor": "white",
            "linecolor": "white",
            "ticks": ""
           }
          },
          "title": {
           "x": 0.05
          },
          "xaxis": {
           "automargin": true,
           "gridcolor": "white",
           "linecolor": "white",
           "ticks": "",
           "title": {
            "standoff": 15
           },
           "zerolinecolor": "white",
           "zerolinewidth": 2
          },
          "yaxis": {
           "automargin": true,
           "gridcolor": "white",
           "linecolor": "white",
           "ticks": "",
           "title": {
            "standoff": 15
           },
           "zerolinecolor": "white",
           "zerolinewidth": 2
          }
         }
        },
        "title": {
         "text": "Plot Title"
        },
        "xaxis": {
         "anchor": "y",
         "autorange": true,
         "domain": [
          0,
          1
         ],
         "range": [
          1892.2259136212624,
          2027.7740863787376
         ],
         "title": {
          "text": "X Axis Title"
         },
         "type": "linear"
        },
        "yaxis": {
         "anchor": "x",
         "autorange": true,
         "domain": [
          0,
          1
         ],
         "range": [
          -29.950551181102355,
          573.2305511811023
         ],
         "title": {
          "text": "Y Axis Title"
         },
         "type": "linear"
        }
       }
      },
      "image/png": "[encoded data removed]",
      "text/html": [
       "<div>                            <div id=\"afa4c2fb-40ee-44d3-99f6-6d6bc961ce73\" class=\"plotly-graph-div\" style=\"height:525px; width:100%;\"></div>            <script type=\"text/javascript\">                require([\"plotly\"], function(Plotly) {                    window.PLOTLYENV=window.PLOTLYENV || {};                                    if (document.getElementById(\"afa4c2fb-40ee-44d3-99f6-6d6bc961ce73\")) {                    Plotly.newPlot(                        \"afa4c2fb-40ee-44d3-99f6-6d6bc961ce73\",                        [{\"hovertemplate\":\"variable=Desember<br>\\u00c5r=%{x}<br>value=%{y}<extra></extra>\",\"legendgroup\":\"Desember\",\"marker\":{\"color\":\"#636efa\",\"symbol\":\"circle\"},\"mode\":\"markers\",\"name\":\"Desember\",\"orientation\":\"v\",\"showlegend\":true,\"x\":[1900,1901,1902,1903,1904,1905,1906,1907,1908,1909,1910,1911,1912,1913,1914,1915,1916,1917,1918,1919,1920,1921,1922,1923,1924,1925,1926,1927,1928,1929,1930,1931,1932,1933,1934,1935,1936,1937,1938,1939,1940,1941,1942,1943,1944,1945,1946,1947,1948,1949,1950,1951,1952,1953,1954,1955,1956,1957,1958,1959,1960,1961,1962,1963,1964,1965,1966,1967,1968,1969,1970,1971,1972,1973,1974,1975,1976,1977,1978,1979,1980,1981,1982,1983,1984,1985,1986,1987,1988,1989,1990,1991,1992,1993,1994,1995,1996,1997,1998,1999,2000,2001,2002,2003,2004,2005,2006,2007,2008,2009,2010,2011,2012,2013,2014,2015,2016,2017,2018,2019,2020],\"xaxis\":\"x\",\"y\":[367.28,131.04,177.85,39.5,248.66,320.28,163.23,69.37,169.17,127.83,146.61,68.69,312.74,292.98,170.85,72.27,75.48,280.83,146.1,81.27,85.0,283.04,190.29,131.94,294.27,150.6,281.53,24.33,170.26,171.34,114.18,254.41,178.26,130.24,44.34,62.36,421.45,54.75,106.87,144.13,167.16,326.97,181.63,158.73,158.26,115.16,89.6,123.12,178.73,287.99,107.09,339.76,92.91,221.72,277.29,324.14,252.11,346.17,136.19,75.8,148.47,140.45,106.32,130.37,228.29,89.39,207.43,313.42,52.31,94.73,197.73,383.18,183.33,313.3,361.02,527.72,79.6,165.2,29.41,180.76,403.64,76.47,233.08,257.92,182.09,229.11,289.96,238.99,333.75,174.1,266.36,317.93,330.21,228.08,300.71,106.95,123.63,104.98,246.78,284.1,130.55,140.71,40.54,328.68,386.95,187.99,374.4,208.02,151.94,62.88,89.39,378.29,111.18,373.89,349.19,431.05,368.66,354.27,161.33,304.67,null],\"yaxis\":\"y\",\"type\":\"scatter\"},{\"hovertemplate\":\"<b>OLS trendline</b><br>value = 0.837816 * \\u00c5r + -1439.1<br>R<sup>2</sup>=0.071897<br><br>variable=Desember<br>\\u00c5r=%{x}<br>value=%{y} <b>(trend)</b><extra></extra>\",\"legendgroup\":\"Desember\",\"marker\":{\"color\":\"#636efa\",\"symbol\":\"circle\"},\"mode\":\"lines\",\"name\":\"Desember\",\"showlegend\":false,\"x\":[1900,1901,1902,1903,1904,1905,1906,1907,1908,1909,1910,1911,1912,1913,1914,1915,1916,1917,1918,1919,1920,1921,1922,1923,1924,1925,1926,1927,1928,1929,1930,1931,1932,1933,1934,1935,1936,1937,1938,1939,1940,1941,1942,1943,1944,1945,1946,1947,1948,1949,1950,1951,1952,1953,1954,1955,1956,1957,1958,1959,1960,1961,1962,1963,1964,1965,1966,1967,1968,1969,1970,1971,1972,1973,1974,1975,1976,1977,1978,1979,1980,1981,1982,1983,1984,1985,1986,1987,1988,1989,1990,1991,1992,1993,1994,1995,1996,1997,1998,1999,2000,2001,2002,2003,2004,2005,2006,2007,2008,2009,2010,2011,2012,2013,2014,2015,2016,2017,2018,2019],\"xaxis\":\"x\",\"y\":[152.74995867768598,153.587774498229,154.42559031877227,155.2634061393153,156.10122195985832,156.93903778040158,157.7768536009446,158.61466942148763,159.4524852420309,160.29030106257392,161.12811688311695,161.9659327036602,162.80374852420323,163.64156434474626,164.4793801652895,165.31719598583254,166.15501180637557,166.99282762691882,167.83064344746185,168.66845926800488,169.50627508854814,170.34409090909116,171.1819067296342,172.01972255017722,172.85753837072048,173.6953541912635,174.53317001180653,175.3709858323498,176.20880165289282,177.04661747343584,177.8844332939791,178.72224911452213,179.56006493506516,180.3978807556084,181.23569657615144,182.07351239669447,182.91132821723772,183.74914403778075,184.58695985832378,185.42477567886704,186.26259149941006,187.1004073199531,187.93822314049612,188.77603896103938,189.6138547815824,190.45167060212543,191.2894864226687,192.12730224321172,192.96511806375474,193.802933884298,194.64074970484103,195.47856552538406,196.3163813459273,197.15419716647034,197.99201298701337,198.82982880755662,199.66764462809965,200.50546044864268,201.34327626918594,202.18109208972896,203.018907910272,203.85672373081502,204.69453955135828,205.5323553719013,206.37017119244433,207.2079870129876,208.04580283353062,208.88361865407364,209.7214344746169,210.55925029515993,211.39706611570296,212.2348819362462,213.07269775678924,213.91051357733227,214.74832939787552,215.58614521841855,216.42396103896158,217.26177685950483,218.09959268004786,218.9374085005909,219.77522432113392,220.61304014167717,221.4508559622202,222.28867178276323,223.1264876033065,223.96430342384951,224.80211924439254,225.6399350649358,226.47775088547883,227.31556670602185,228.1533825265651,228.99119834710814,229.82901416765117,230.66682998819442,231.50464580873745,232.34246162928048,233.18027744982373,234.01809327036676,234.8559090909098,235.69372491145282,236.53154073199607,237.3693565525391,238.20717237308213,239.0449881936254,239.8828040141684,240.72061983471144,241.5584356552547,242.39625147579773,243.23406729634075,244.071883116884,244.90969893742704,245.74751475797007,246.58533057851332,247.42314639905635,248.26096221959938,249.09877804014263,249.93659386068566,250.7744096812287,251.61222550177195,252.45004132231497],\"yaxis\":\"y\",\"type\":\"scatter\"},{\"hovertemplate\":\"variable=Januar<br>\\u00c5r=%{x}<br>value=%{y}<extra></extra>\",\"legendgroup\":\"Januar\",\"marker\":{\"color\":\"#EF553B\",\"symbol\":\"circle\"},\"mode\":\"markers\",\"name\":\"Januar\",\"orientation\":\"v\",\"showlegend\":true,\"x\":[1900,1901,1902,1903,1904,1905,1906,1907,1908,1909,1910,1911,1912,1913,1914,1915,1916,1917,1918,1919,1920,1921,1922,1923,1924,1925,1926,1927,1928,1929,1930,1931,1932,1933,1934,1935,1936,1937,1938,1939,1940,1941,1942,1943,1944,1945,1946,1947,1948,1949,1950,1951,1952,1953,1954,1955,1956,1957,1958,1959,1960,1961,1962,1963,1964,1965,1966,1967,1968,1969,1970,1971,1972,1973,1974,1975,1976,1977,1978,1979,1980,1981,1982,1983,1984,1985,1986,1987,1988,1989,1990,1991,1992,1993,1994,1995,1996,1997,1998,1999,2000,2001,2002,2003,2004,2005,2006,2007,2008,2009,2010,2011,2012,2013,2014,2015,2016,2017,2018,2019,2020],\"xaxis\":\"x\",\"y\":[117.68,108.88,424.73,190.97,134.69,399.32,243.5,261.81,350.12,272.69,228.33,282.18,120.28,91.71,301.03,119.61,369.31,31.98,215.04,52.5,245.29,388.46,98.88,345.89,124.4,372.44,66.66,245.05,196.8,79.67,299.22,113.86,363.54,104.01,276.14,220.16,126.05,154.43,249.58,88.28,80.93,42.98,55.16,115.53,335.02,133.99,147.94,75.83,70.52,410.28,145.84,77.7,200.36,217.52,169.81,188.04,139.9,366.45,120.62,109.83,106.68,83.53,259.17,80.5,160.3,189.05,62.76,121.98,235.83,128.77,68.05,188.13,45.17,168.63,171.86,356.59,269.45,78.18,174.34,83.56,66.03,276.5,120.63,515.51,199.74,93.23,129.69,106.64,133.3,532.79,344.07,170.85,384.57,401.01,269.02,209.47,15.59,156.95,206.7,217.13,349.66,62.37,239.48,332.76,112.85,464.54,115.93,408.08,282.82,218.47,51.78,221.41,209.56,131.58,74.54,369.63,166.69,240.44,179.15,205.75,399.1],\"yaxis\":\"y\",\"type\":\"scatter\"},{\"hovertemplate\":\"<b>OLS trendline</b><br>value = 0.166393 * \\u00c5r + -126.973<br>R<sup>2</sup>=0.002538<br><br>variable=Januar<br>\\u00c5r=%{x}<br>value=%{y} <b>(trend)</b><extra></extra>\",\"legendgroup\":\"Januar\",\"marker\":{\"color\":\"#EF553B\",\"symbol\":\"circle\"},\"mode\":\"lines\",\"name\":\"Januar\",\"showlegend\":false,\"x\":[1900,1901,1902,1903,1904,1905,1906,1907,1908,1909,1910,1911,1912,1913,1914,1915,1916,1917,1918,1919,1920,1921,1922,1923,1924,1925,1926,1927,1928,1929,1930,1931,1932,1933,1934,1935,1936,1937,1938,1939,1940,1941,1942,1943,1944,1945,1946,1947,1948,1949,1950,1951,1952,1953,1954,1955,1956,1957,1958,1959,1960,1961,1962,1963,1964,1965,1966,1967,1968,1969,1970,1971,1972,1973,1974,1975,1976,1977,1978,1979,1980,1981,1982,1983,1984,1985,1986,1987,1988,1989,1990,1991,1992,1993,1994,1995,1996,1997,1998,1999,2000,2001,2002,2003,2004,2005,2006,2007,2008,2009,2010,2011,2012,2013,2014,2015,2016,2017,2018,2019,2020],\"xaxis\":\"x\",\"y\":[189.1731201734182,189.33951307410914,189.50590597480013,189.67229887549107,189.838691776182,190.005084676873,190.17147757756393,190.33787047825493,190.50426337894586,190.67065627963686,190.8370491803278,191.0034420810188,191.16983498170973,191.33622788240072,191.50262078309166,191.66901368378265,191.8354065844736,192.00179948516458,192.16819238585552,192.3345852865465,192.50097818723745,192.6673710879284,192.83376398861938,193.00015688931032,193.1665497900013,193.33294269069225,193.49933559138324,193.66572849207418,193.83212139276517,193.9985142934561,194.1649071941471,194.33130009483804,194.49769299552904,194.66408589621997,194.83047879691097,194.9968716976019,195.1632645982929,195.32965749898383,195.49605039967477,195.66244330036577,195.8288362010567,195.9952291017477,196.16162200243863,196.32801490312963,196.49440780382056,196.66080070451156,196.8271936052025,196.9935865058935,197.15997940658443,197.32637230727542,197.49276520796636,197.65915810865735,197.8255510093483,197.99194391003923,198.15833681073022,198.32472971142116,198.49112261211215,198.6575155128031,198.82390841349408,198.99030131418502,199.156694214876,199.32308711556695,199.48948001625794,199.65587291694888,199.82226581763987,199.9886587183308,200.1550516190218,200.32144451971274,200.48783742040368,200.65423032109467,200.8206232217856,200.9870161224766,201.15340902316754,201.31980192385853,201.48619482454947,201.65258772524047,201.8189806259314,201.9853735266224,202.15176642731333,202.31815932800433,202.48455222869526,202.65094512938626,202.8173380300772,202.9837309307682,203.15012383145913,203.31651673215006,203.48290963284106,203.649302533532,203.815695434223,203.98208833491393,204.14848123560492,204.31487413629586,204.48126703698685,204.6476599376778,204.81405283836878,204.98044573905972,205.1468386397507,205.31323154044165,205.47962444113264,205.64601734182358,205.81241024251457,205.9788031432055,206.14519604389645,206.31158894458744,206.47798184527838,206.64437474596937,206.8107676466603,206.9771605473513,207.14355344804224,207.30994634873323,207.47633924942417,207.64273215011517,207.8091250508061,207.9755179514971,208.14191085218803,208.30830375287903,208.47469665356996,208.6410895542609,208.8074824549519,208.97387535564283,209.14026825633383],\"yaxis\":\"y\",\"type\":\"scatter\"},{\"hovertemplate\":\"variable=Februar<br>\\u00c5r=%{x}<br>value=%{y}<extra></extra>\",\"legendgroup\":\"Februar\",\"marker\":{\"color\":\"#00cc96\",\"symbol\":\"circle\"},\"mode\":\"markers\",\"name\":\"Februar\",\"orientation\":\"v\",\"showlegend\":true,\"x\":[1900,1901,1902,1903,1904,1905,1906,1907,1908,1909,1910,1911,1912,1913,1914,1915,1916,1917,1918,1919,1920,1921,1922,1923,1924,1925,1926,1927,1928,1929,1930,1931,1932,1933,1934,1935,1936,1937,1938,1939,1940,1941,1942,1943,1944,1945,1946,1947,1948,1949,1950,1951,1952,1953,1954,1955,1956,1957,1958,1959,1960,1961,1962,1963,1964,1965,1966,1967,1968,1969,1970,1971,1972,1973,1974,1975,1976,1977,1978,1979,1980,1981,1982,1983,1984,1985,1986,1987,1988,1989,1990,1991,1992,1993,1994,1995,1996,1997,1998,1999,2000,2001,2002,2003,2004,2005,2006,2007,2008,2009,2010,2011,2012,2013,2014,2015,2016,2017,2018,2019,2020],\"xaxis\":\"x\",\"y\":[21.72,81.12,88.64,336.23,41.86,277.14,139.47,197.49,243.34,100.92,140.59,232.41,90.07,175.02,225.97,56.73,92.03,99.58,148.29,35.76,312.88,166.44,106.75,64.59,175.57,216.45,74.45,81.8,230.11,18.85,51.98,130.36,111.77,181.46,342.68,249.37,39.77,50.64,163.89,278.52,90.84,47.64,46.66,413.48,134.03,198.18,178.12,10.49,98.3,271.65,146.07,30.95,217.23,164.14,24.7,46.5,73.22,92.07,113.37,194.8,62.64,158.31,278.42,52.29,143.88,100.16,73.05,179.03,118.53,74.01,49.03,179.24,22.98,258.09,129.57,71.63,161.21,27.62,61.47,98.74,85.02,194.14,82.49,56.96,73.42,124.94,13.16,166.57,135.31,330.22,354.85,95.02,259.26,228.34,17.02,294.32,117.47,298.21,399.08,269.43,323.83,137.68,240.58,51.43,180.13,157.42,112.41,124.99,322.48,120.94,31.19,146.52,256.51,68.72,147.35,172.5,209.38,127.86,66.43,114.09,361.69],\"yaxis\":\"y\",\"type\":\"scatter\"},{\"hovertemplate\":\"<b>OLS trendline</b><br>value = 0.283083 * \\u00c5r + -407.452<br>R<sup>2</sup>=0.010943<br><br>variable=Februar<br>\\u00c5r=%{x}<br>value=%{y} <b>(trend)</b><extra></extra>\",\"legendgroup\":\"Februar\",\"marker\":{\"color\":\"#00cc96\",\"symbol\":\"circle\"},\"mode\":\"lines\",\"name\":\"Februar\",\"showlegend\":false,\"x\":[1900,1901,1902,1903,1904,1905,1906,1907,1908,1909,1910,1911,1912,1913,1914,1915,1916,1917,1918,1919,1920,1921,1922,1923,1924,1925,1926,1927,1928,1929,1930,1931,1932,1933,1934,1935,1936,1937,1938,1939,1940,1941,1942,1943,1944,1945,1946,1947,1948,1949,1950,1951,1952,1953,1954,1955,1956,1957,1958,1959,1960,1961,1962,1963,1964,1965,1966,1967,1968,1969,1970,1971,1972,1973,1974,1975,1976,1977,1978,1979,1980,1981,1982,1983,1984,1985,1986,1987,1988,1989,1990,1991,1992,1993,1994,1995,1996,1997,1998,1999,2000,2001,2002,2003,2004,2005,2006,2007,2008,2009,2010,2011,2012,2013,2014,2015,2016,2017,2018,2019,2020],\"xaxis\":\"x\",\"y\":[130.40681073025297,130.6898941877791,130.9729776453051,131.2560611028312,131.53914456035733,131.82222801788333,132.10531147540945,132.38839493293557,132.67147839046157,132.9545618479877,133.2376453055138,133.5207287630398,133.80381222056593,134.08689567809205,134.36997913561805,134.65306259314417,134.9361460506703,135.2192295081963,135.5023129657224,135.78539642324853,136.06847988077453,136.35156333830065,136.63464679582677,136.91773025335277,137.2008137108789,137.483897168405,137.766980625931,138.05006408345713,138.33314754098325,138.61623099850925,138.89931445603537,139.1823979135615,139.4654813710875,139.7485648286136,140.03164828613973,140.31473174366585,140.59781520119185,140.88089865871797,141.16398211624409,141.4470655737701,141.7301490312962,142.01323248882233,142.29631594634833,142.57939940387445,142.86248286140057,143.14556631892657,143.4286497764527,143.7117332339788,143.9948166915048,144.27790014903093,144.56098360655704,144.84406706408305,145.12715052160917,145.41023397913528,145.6933174366613,145.9764008941874,146.25948435171352,146.54256780923953,146.82565126676565,147.10873472429176,147.39181818181777,147.6749016393439,147.95798509687,148.241068554396,148.52415201192213,148.80723546944824,149.09031892697436,149.37340238450037,149.65648584202648,149.9395692995526,150.2226527570786,150.50573621460472,150.78881967213084,151.07190312965685,151.35498658718296,151.63807004470908,151.9211535022351,152.2042369597612,152.48732041728732,152.77040387481333,153.05348733233944,153.33657078986556,153.61965424739157,153.90273770491768,154.1858211624438,154.4689046199698,154.75198807749592,155.03507153502204,155.31815499254805,155.60123845007416,155.88432190760028,156.16740536512629,156.4504888226524,156.73357228017852,157.01665573770453,157.29973919523064,157.58282265275676,157.86590611028276,158.14898956780888,158.432073025335,158.71515648286112,158.99823994038712,159.28132339791324,159.56440685543936,159.84749031296536,160.13057377049148,160.4136572280176,160.6967406855436,160.97982414306972,161.26290760059584,161.54599105812184,161.82907451564796,162.11215797317408,162.39524143070008,162.6783248882262,162.96140834575232,163.24449180327832,163.52757526080444,163.81065871833056,164.09374217585656,164.37682563338268],\"yaxis\":\"y\",\"type\":\"scatter\"}],                        {\"template\":{\"data\":{\"histogram2dcontour\":[{\"type\":\"histogram2dcontour\",\"colorbar\":{\"outlinewidth\":0,\"ticks\":\"\"},\"colorscale\":[[0.0,\"#0d0887\"],[0.1111111111111111,\"#46039f\"],[0.2222222222222222,\"#7201a8\"],[0.3333333333333333,\"#9c179e\"],[0.4444444444444444,\"#bd3786\"],[0.5555555555555556,\"#d8576b\"],[0.6666666666666666,\"#ed7953\"],[0.7777777777777778,\"#fb9f3a\"],[0.8888888888888888,\"#fdca26\"],[1.0,\"#f0f921\"]]}],\"choropleth\":[{\"type\":\"choropleth\",\"colorbar\":{\"outlinewidth\":0,\"ticks\":\"\"}}],\"histogram2d\":[{\"type\":\"histogram2d\",\"colorbar\":{\"outlinewidth\":0,\"ticks\":\"\"},\"colorscale\":[[0.0,\"#0d0887\"],[0.1111111111111111,\"#46039f\"],[0.2222222222222222,\"#7201a8\"],[0.3333333333333333,\"#9c179e\"],[0.4444444444444444,\"#bd3786\"],[0.5555555555555556,\"#d8576b\"],[0.6666666666666666,\"#ed7953\"],[0.7777777777777778,\"#fb9f3a\"],[0.8888888888888888,\"#fdca26\"],[1.0,\"#f0f921\"]]}],\"heatmap\":[{\"type\":\"heatmap\",\"colorbar\":{\"outlinewidth\":0,\"ticks\":\"\"},\"colorscale\":[[0.0,\"#0d0887\"],[0.1111111111111111,\"#46039f\"],[0.2222222222222222,\"#7201a8\"],[0.3333333333333333,\"#9c179e\"],[0.4444444444444444,\"#bd3786\"],[0.5555555555555556,\"#d8576b\"],[0.6666666666666666,\"#ed7953\"],[0.7777777777777778,\"#fb9f3a\"],[0.8888888888888888,\"#fdca26\"],[1.0,\"#f0f921\"]]}],\"heatmapgl\":[{\"type\":\"heatmapgl\",\"colorbar\":{\"outlinewidth\":0,\"ticks\":\"\"},\"colorscale\":[[0.0,\"#0d0887\"],[0.1111111111111111,\"#46039f\"],[0.2222222222222222,\"#7201a8\"],[0.3333333333333333,\"#9c179e\"],[0.4444444444444444,\"#bd3786\"],[0.5555555555555556,\"#d8576b\"],[0.6666666666666666,\"#ed7953\"],[0.7777777777777778,\"#fb9f3a\"],[0.8888888888888888,\"#fdca26\"],[1.0,\"#f0f921\"]]}],\"contourcarpet\":[{\"type\":\"contourcarpet\",\"colorbar\":{\"outlinewidth\":0,\"ticks\":\"\"}}],\"contour\":[{\"type\":\"contour\",\"colorbar\":{\"outlinewidth\":0,\"ticks\":\"\"},\"colorscale\":[[0.0,\"#0d0887\"],[0.1111111111111111,\"#46039f\"],[0.2222222222222222,\"#7201a8\"],[0.3333333333333333,\"#9c179e\"],[0.4444444444444444,\"#bd3786\"],[0.5555555555555556,\"#d8576b\"],[0.6666666666666666,\"#ed7953\"],[0.7777777777777778,\"#fb9f3a\"],[0.8888888888888888,\"#fdca26\"],[1.0,\"#f0f921\"]]}],\"surface\":[{\"type\":\"surface\",\"colorbar\":{\"outlinewidth\":0,\"ticks\":\"\"},\"colorscale\":[[0.0,\"#0d0887\"],[0.1111111111111111,\"#46039f\"],[0.2222222222222222,\"#7201a8\"],[0.3333333333333333,\"#9c179e\"],[0.4444444444444444,\"#bd3786\"],[0.5555555555555556,\"#d8576b\"],[0.6666666666666666,\"#ed7953\"],[0.7777777777777778,\"#fb9f3a\"],[0.8888888888888888,\"#fdca26\"],[1.0,\"#f0f921\"]]}],\"mesh3d\":[{\"type\":\"mesh3d\",\"colorbar\":{\"outlinewidth\":0,\"ticks\":\"\"}}],\"scatter\":[{\"fillpattern\":{\"fillmode\":\"overlay\",\"size\":10,\"solidity\":0.2},\"type\":\"scatter\"}],\"parcoords\":[{\"type\":\"parcoords\",\"line\":{\"colorbar\":{\"outlinewidth\":0,\"ticks\":\"\"}}}],\"scatterpolargl\":[{\"type\":\"scatterpolargl\",\"marker\":{\"colorbar\":{\"outlinewidth\":0,\"ticks\":\"\"}}}],\"bar\":[{\"error_x\":{\"color\":\"#2a3f5f\"},\"error_y\":{\"color\":\"#2a3f5f\"},\"marker\":{\"line\":{\"color\":\"#E5ECF6\",\"width\":0.5},\"pattern\":{\"fillmode\":\"overlay\",\"size\":10,\"solidity\":0.2}},\"type\":\"bar\"}],\"scattergeo\":[{\"type\":\"scattergeo\",\"marker\":{\"colorbar\":{\"outlinewidth\":0,\"ticks\":\"\"}}}],\"scatterpolar\":[{\"type\":\"scatterpolar\",\"marker\":{\"colorbar\":{\"outlinewidth\":0,\"ticks\":\"\"}}}],\"histogram\":[{\"marker\":{\"pattern\":{\"fillmode\":\"overlay\",\"size\":10,\"solidity\":0.2}},\"type\":\"histogram\"}],\"scattergl\":[{\"type\":\"scattergl\",\"marker\":{\"colorbar\":{\"outlinewidth\":0,\"ticks\":\"\"}}}],\"scatter3d\":[{\"type\":\"scatter3d\",\"line\":{\"colorbar\":{\"outlinewidth\":0,\"ticks\":\"\"}},\"marker\":{\"colorbar\":{\"outlinewidth\":0,\"ticks\":\"\"}}}],\"scattermapbox\":[{\"type\":\"scattermapbox\",\"marker\":{\"colorbar\":{\"outlinewidth\":0,\"ticks\":\"\"}}}],\"scatterternary\":[{\"type\":\"scatterternary\",\"marker\":{\"colorbar\":{\"outlinewidth\":0,\"ticks\":\"\"}}}],\"scattercarpet\":[{\"type\":\"scattercarpet\",\"marker\":{\"colorbar\":{\"outlinewidth\":0,\"ticks\":\"\"}}}],\"carpet\":[{\"aaxis\":{\"endlinecolor\":\"#2a3f5f\",\"gridcolor\":\"white\",\"linecolor\":\"white\",\"minorgridcolor\":\"white\",\"startlinecolor\":\"#2a3f5f\"},\"baxis\":{\"endlinecolor\":\"#2a3f5f\",\"gridcolor\":\"white\",\"linecolor\":\"white\",\"minorgridcolor\":\"white\",\"startlinecolor\":\"#2a3f5f\"},\"type\":\"carpet\"}],\"table\":[{\"cells\":{\"fill\":{\"color\":\"#EBF0F8\"},\"line\":{\"color\":\"white\"}},\"header\":{\"fill\":{\"color\":\"#C8D4E3\"},\"line\":{\"color\":\"white\"}},\"type\":\"table\"}],\"barpolar\":[{\"marker\":{\"line\":{\"color\":\"#E5ECF6\",\"width\":0.5},\"pattern\":{\"fillmode\":\"overlay\",\"size\":10,\"solidity\":0.2}},\"type\":\"barpolar\"}],\"pie\":[{\"automargin\":true,\"type\":\"pie\"}]},\"layout\":{\"autotypenumbers\":\"strict\",\"colorway\":[\"#636efa\",\"#EF553B\",\"#00cc96\",\"#ab63fa\",\"#FFA15A\",\"#19d3f3\",\"#FF6692\",\"#B6E880\",\"#FF97FF\",\"#FECB52\"],\"font\":{\"color\":\"#2a3f5f\"},\"hovermode\":\"closest\",\"hoverlabel\":{\"align\":\"left\"},\"paper_bgcolor\":\"white\",\"plot_bgcolor\":\"#E5ECF6\",\"polar\":{\"bgcolor\":\"#E5ECF6\",\"angularaxis\":{\"gridcolor\":\"white\",\"linecolor\":\"white\",\"ticks\":\"\"},\"radialaxis\":{\"gridcolor\":\"white\",\"linecolor\":\"white\",\"ticks\":\"\"}},\"ternary\":{\"bgcolor\":\"#E5ECF6\",\"aaxis\":{\"gridcolor\":\"white\",\"linecolor\":\"white\",\"ticks\":\"\"},\"baxis\":{\"gridcolor\":\"white\",\"linecolor\":\"white\",\"ticks\":\"\"},\"caxis\":{\"gridcolor\":\"white\",\"linecolor\":\"white\",\"ticks\":\"\"}},\"coloraxis\":{\"colorbar\":{\"outlinewidth\":0,\"ticks\":\"\"}},\"colorscale\":{\"sequential\":[[0.0,\"#0d0887\"],[0.1111111111111111,\"#46039f\"],[0.2222222222222222,\"#7201a8\"],[0.3333333333333333,\"#9c179e\"],[0.4444444444444444,\"#bd3786\"],[0.5555555555555556,\"#d8576b\"],[0.6666666666666666,\"#ed7953\"],[0.7777777777777778,\"#fb9f3a\"],[0.8888888888888888,\"#fdca26\"],[1.0,\"#f0f921\"]],\"sequentialminus\":[[0.0,\"#0d0887\"],[0.1111111111111111,\"#46039f\"],[0.2222222222222222,\"#7201a8\"],[0.3333333333333333,\"#9c179e\"],[0.4444444444444444,\"#bd3786\"],[0.5555555555555556,\"#d8576b\"],[0.6666666666666666,\"#ed7953\"],[0.7777777777777778,\"#fb9f3a\"],[0.8888888888888888,\"#fdca26\"],[1.0,\"#f0f921\"]],\"diverging\":[[0,\"#8e0152\"],[0.1,\"#c51b7d\"],[0.2,\"#de77ae\"],[0.3,\"#f1b6da\"],[0.4,\"#fde0ef\"],[0.5,\"#f7f7f7\"],[0.6,\"#e6f5d0\"],[0.7,\"#b8e186\"],[0.8,\"#7fbc41\"],[0.9,\"#4d9221\"],[1,\"#276419\"]]},\"xaxis\":{\"gridcolor\":\"white\",\"linecolor\":\"white\",\"ticks\":\"\",\"title\":{\"standoff\":15},\"zerolinecolor\":\"white\",\"automargin\":true,\"zerolinewidth\":2},\"yaxis\":{\"gridcolor\":\"white\",\"linecolor\":\"white\",\"ticks\":\"\",\"title\":{\"standoff\":15},\"zerolinecolor\":\"white\",\"automargin\":true,\"zerolinewidth\":2},\"scene\":{\"xaxis\":{\"backgroundcolor\":\"#E5ECF6\",\"gridcolor\":\"white\",\"linecolor\":\"white\",\"showbackground\":true,\"ticks\":\"\",\"zerolinecolor\":\"white\",\"gridwidth\":2},\"yaxis\":{\"backgroundcolor\":\"#E5ECF6\",\"gridcolor\":\"white\",\"linecolor\":\"white\",\"showbackground\":true,\"ticks\":\"\",\"zerolinecolor\":\"white\",\"gridwidth\":2},\"zaxis\":{\"backgroundcolor\":\"#E5ECF6\",\"gridcolor\":\"white\",\"linecolor\":\"white\",\"showbackground\":true,\"ticks\":\"\",\"zerolinecolor\":\"white\",\"gridwidth\":2}},\"shapedefaults\":{\"line\":{\"color\":\"#2a3f5f\"}},\"annotationdefaults\":{\"arrowcolor\":\"#2a3f5f\",\"arrowhead\":0,\"arrowwidth\":1},\"geo\":{\"bgcolor\":\"white\",\"landcolor\":\"#E5ECF6\",\"subunitcolor\":\"white\",\"showland\":true,\"showlakes\":true,\"lakecolor\":\"white\"},\"title\":{\"x\":0.05},\"mapbox\":{\"style\":\"light\"}}},\"xaxis\":{\"anchor\":\"y\",\"domain\":[0.0,1.0],\"title\":{\"text\":\"X Axis Title\"}},\"yaxis\":{\"anchor\":\"x\",\"domain\":[0.0,1.0],\"title\":{\"text\":\"Y Axis Title\"}},\"legend\":{\"title\":{\"text\":\"Legend Title\"},\"tracegroupgap\":0},\"margin\":{\"t\":60},\"font\":{\"family\":\"Courier New, monospace\",\"size\":12,\"color\":\"RebeccaPurple\"},\"title\":{\"text\":\"Plot Title\"}},                        {\"responsive\": true}                    ).then(function(){\n",
       "                            \n",
       "var gd = document.getElementById('afa4c2fb-40ee-44d3-99f6-6d6bc961ce73');\n",
       "var x = new MutationObserver(function (mutations, observer) {{\n",
       "        var display = window.getComputedStyle(gd).display;\n",
       "        if (!display || display === 'none') {{\n",
       "            console.log([gd, 'removed!']);\n",
       "            Plotly.purge(gd);\n",
       "            observer.disconnect();\n",
       "        }}\n",
       "}});\n",
       "\n",
       "// Listen for the removal of the full notebook cells\n",
       "var notebookContainer = gd.closest('#notebook-container');\n",
       "if (notebookContainer) {{\n",
       "    x.observe(notebookContainer, {childList: true});\n",
       "}}\n",
       "\n",
       "// Listen for the clearing of the current output cell\n",
       "var outputEl = gd.closest('.output');\n",
       "if (outputEl) {{\n",
       "    x.observe(outputEl, {childList: true});\n",
       "}}\n",
       "\n",
       "                        })                };                });            </script>        </div>"
      ]
     },
     "metadata": {},
     "output_type": "display_data"
    }
   ],
   "source": [
    "fig.update_layout(\n",
    "        title=\"Plot Title\",\n",
    "        xaxis_title=\"X Axis Title\",\n",
    "        yaxis_title=\"Y Axis Title\",\n",
    "        legend_title=\"Legend Title\",\n",
    "        font=dict(\n",
    "            family=\"Courier New, monospace\",\n",
    "            size=12,\n",
    "            color=\"RebeccaPurple\"\n",
    "            )\n",
    ")\n",
    "fig.show()"
   ]
  },
  {
   "cell_type": "code",
   "execution_count": 142,
   "id": "d189a2b8-8b54-4d13-aa90-e08e124de08b",
   "metadata": {},
   "outputs": [
    {
     "data": {
      "application/vnd.plotly.v1+json": {
       "config": {
        "plotlyServerURL": "https://plot.ly"
       },
       "data": [
        {
         "hovertemplate": "variable=0<br>År=%{x}<br>value=%{y}<extra></extra>",
         "legendgroup": "0",
         "marker": {
          "color": "#636efa",
          "symbol": "circle"
         },
         "mode": "markers",
         "name": "0",
         "orientation": "v",
         "showlegend": true,
         "type": "scatter",
         "x": [
          1900,
          1901,
          1902,
          1903,
          1904,
          1905,
          1906,
          1907,
          1908,
          1909,
          1910,
          1911,
          1912,
          1913,
          1914,
          1915,
          1916,
          1917,
          1918,
          1919,
          1920,
          1921,
          1922,
          1923,
          1924,
          1925,
          1926,
          1927,
          1928,
          1929,
          1930,
          1931,
          1932,
          1933,
          1934,
          1935,
          1936,
          1937,
          1938,
          1939,
          1940,
          1941,
          1942,
          1943,
          1944,
          1945,
          1946,
          1947,
          1948,
          1949,
          1950,
          1951,
          1952,
          1953,
          1954,
          1955,
          1956,
          1957,
          1958,
          1959,
          1960,
          1961,
          1962,
          1963,
          1964,
          1965,
          1966,
          1967,
          1968,
          1969,
          1970,
          1971,
          1972,
          1973,
          1974,
          1975,
          1976,
          1977,
          1978,
          1979,
          1980,
          1981,
          1982,
          1983,
          1984,
          1985,
          1986,
          1987,
          1988,
          1989,
          1990,
          1991,
          1992,
          1993,
          1994,
          1995,
          1996,
          1997,
          1998,
          1999,
          2000,
          2001,
          2002,
          2003,
          2004,
          2005,
          2006,
          2007,
          2008,
          2009,
          2010,
          2011,
          2012,
          2013,
          2014,
          2015,
          2016,
          2017,
          2018,
          2019,
          2020
         ],
         "xaxis": "x",
         "y": [
          1582.21,
          1377.9499999999998,
          1567.1799999999998,
          1906.46,
          1480.1100000000001,
          2036.83,
          1946.82,
          1601.0300000000002,
          1679.3500000000001,
          1739.3099999999997,
          1431.4699999999998,
          1712.58,
          1501.77,
          1703.94,
          1885.7899999999997,
          1138.6000000000001,
          1680.06,
          1874.8899999999999,
          1695.3899999999999,
          1388.74,
          1872.6800000000003,
          2506.97,
          1686.4099999999999,
          1915.9499999999998,
          1724.9,
          1981.08,
          1661.2,
          1499.1100000000001,
          1715.2,
          1787.5999999999997,
          1532.8300000000002,
          1555.2400000000002,
          1778.7800000000002,
          1302.79,
          2044.97,
          1714.8399999999997,
          1601.5,
          1242.74,
          2409.64,
          1636.0299999999997,
          1531.7200000000003,
          1297.5300000000002,
          1775.06,
          2205.69,
          1811.5800000000002,
          1668.2400000000002,
          1717.5699999999997,
          1478.73,
          1928.13,
          2272.1099999999997,
          1857.25,
          1459.02,
          1651.91,
          2172.31,
          1760.4299999999998,
          1718.4299999999998,
          1801.88,
          2160.6299999999997,
          1481.99,
          1378.04,
          1218.8,
          1863.09,
          1746.19,
          1438.4100000000003,
          2021.98,
          1369.0900000000001,
          1600.07,
          2493.06,
          1480.8999999999999,
          1653.3200000000002,
          1578.4599999999998,
          2319.7999999999997,
          1524.23,
          2353.1200000000003,
          1735.1299999999999,
          2246.23,
          1554.7299999999998,
          1457.72,
          1845.3300000000002,
          1877.76,
          1731.1599999999999,
          1831.4700000000003,
          1884.0500000000002,
          2639.6400000000003,
          1559.61,
          1749.6599999999999,
          2034.68,
          1538.22,
          1887.68,
          2479.0499999999997,
          2657.02,
          1916.1499999999999,
          2348.17,
          1744.9599999999998,
          2042.1600000000003,
          2013.1200000000001,
          1286.27,
          2063.43,
          2056.74,
          2138.92,
          2050.54,
          1740.2500000000002,
          1537.9299999999998,
          1968.76,
          2107.6099999999997,
          2295.1400000000003,
          1824.6100000000001,
          2410.17,
          2148.52,
          1792.11,
          1349.78,
          2545.22,
          2002.5500000000002,
          1931.7099999999996,
          1900.64,
          2414.61,
          1952.44,
          2406.23,
          1899.2299999999998,
          1906.9499999999998,
          2028.77
         ],
         "yaxis": "y"
        },
        {
         "hovertemplate": "<b>OLS trendline</b><br>value = 3.51735 * År + -5072.33<br>R<sup>2</sup>=0.141084<br><br>variable=0<br>År=%{x}<br>value=%{y} <b>(trend)</b><extra></extra>",
         "legendgroup": "0",
         "marker": {
          "color": "#636efa",
          "symbol": "circle"
         },
         "mode": "lines",
         "name": "0",
         "showlegend": false,
         "type": "scatter",
         "x": [
          1900,
          1901,
          1902,
          1903,
          1904,
          1905,
          1906,
          1907,
          1908,
          1909,
          1910,
          1911,
          1912,
          1913,
          1914,
          1915,
          1916,
          1917,
          1918,
          1919,
          1920,
          1921,
          1922,
          1923,
          1924,
          1925,
          1926,
          1927,
          1928,
          1929,
          1930,
          1931,
          1932,
          1933,
          1934,
          1935,
          1936,
          1937,
          1938,
          1939,
          1940,
          1941,
          1942,
          1943,
          1944,
          1945,
          1946,
          1947,
          1948,
          1949,
          1950,
          1951,
          1952,
          1953,
          1954,
          1955,
          1956,
          1957,
          1958,
          1959,
          1960,
          1961,
          1962,
          1963,
          1964,
          1965,
          1966,
          1967,
          1968,
          1969,
          1970,
          1971,
          1972,
          1973,
          1974,
          1975,
          1976,
          1977,
          1978,
          1979,
          1980,
          1981,
          1982,
          1983,
          1984,
          1985,
          1986,
          1987,
          1988,
          1989,
          1990,
          1991,
          1992,
          1993,
          1994,
          1995,
          1996,
          1997,
          1998,
          1999,
          2000,
          2001,
          2002,
          2003,
          2004,
          2005,
          2006,
          2007,
          2008,
          2009,
          2010,
          2011,
          2012,
          2013,
          2014,
          2015,
          2016,
          2017,
          2018,
          2019,
          2020
         ],
         "xaxis": "x",
         "y": [
          1610.63296843246,
          1614.1503170302112,
          1617.6676656279615,
          1621.1850142257126,
          1624.7023628234638,
          1628.219711421215,
          1631.737060018966,
          1635.2544086167172,
          1638.7717572144675,
          1642.2891058122186,
          1645.8064544099698,
          1649.323803007721,
          1652.841151605472,
          1656.3585002032223,
          1659.8758488009735,
          1663.3931973987246,
          1666.9105459964758,
          1670.427894594227,
          1673.9452431919772,
          1677.4625917897283,
          1680.9799403874795,
          1684.4972889852306,
          1688.0146375829818,
          1691.531986180732,
          1695.0493347784832,
          1698.5666833762343,
          1702.0840319739855,
          1705.6013805717366,
          1709.1187291694878,
          1712.636077767238,
          1716.1534263649892,
          1719.6707749627403,
          1723.1881235604915,
          1726.7054721582426,
          1730.2228207559929,
          1733.740169353744,
          1737.2575179514952,
          1740.7748665492463,
          1744.2922151469975,
          1747.8095637447477,
          1751.3269123424989,
          1754.84426094025,
          1758.3616095380012,
          1761.8789581357523,
          1765.3963067335035,
          1768.9136553312537,
          1772.4310039290049,
          1775.948352526756,
          1779.4657011245072,
          1782.9830497222583,
          1786.5003983200086,
          1790.0177469177597,
          1793.5350955155109,
          1797.052444113262,
          1800.5697927110132,
          1804.0871413087634,
          1807.6044899065146,
          1811.1218385042657,
          1814.6391871020169,
          1818.156535699768,
          1821.6738842975192,
          1825.1912328952694,
          1828.7085814930206,
          1832.2259300907717,
          1835.7432786885229,
          1839.260627286274,
          1842.7779758840243,
          1846.2953244817754,
          1849.8126730795266,
          1853.3300216772777,
          1856.8473702750289,
          1860.3647188727791,
          1863.8820674705303,
          1867.3994160682814,
          1870.9167646660326,
          1874.4341132637837,
          1877.9514618615349,
          1881.4688104592851,
          1884.9861590570363,
          1888.5035076547874,
          1892.0208562525386,
          1895.5382048502897,
          1899.05555344804,
          1902.5729020457911,
          1906.0902506435423,
          1909.6075992412934,
          1913.1249478390446,
          1916.6422964367948,
          1920.159645034546,
          1923.6769936322971,
          1927.1943422300483,
          1930.7116908277994,
          1934.2290394255506,
          1937.7463880233008,
          1941.263736621052,
          1944.7810852188031,
          1948.2984338165543,
          1951.8157824143054,
          1955.3331310120557,
          1958.8504796098068,
          1962.367828207558,
          1965.8851768053091,
          1969.4025254030603,
          1972.9198740008105,
          1976.4372225985617,
          1979.9545711963128,
          1983.471919794064,
          1986.9892683918151,
          1990.5066169895663,
          1994.0239655873165,
          1997.5413141850677,
          2001.0586627828188,
          2004.57601138057,
          2008.0933599783211,
          2011.6107085760714,
          2015.1280571738225,
          2018.6454057715737,
          2022.1627543693248,
          2025.680102967076,
          2029.1974515648262,
          2032.7148001625774
         ],
         "yaxis": "y"
        }
       ],
       "layout": {
        "autosize": true,
        "legend": {
         "title": {
          "text": "variable"
         },
         "tracegroupgap": 0
        },
        "margin": {
         "t": 60
        },
        "template": {
         "data": {
          "bar": [
           {
            "error_x": {
             "color": "#2a3f5f"
            },
            "error_y": {
             "color": "#2a3f5f"
            },
            "marker": {
             "line": {
              "color": "#E5ECF6",
              "width": 0.5
             },
             "pattern": {
              "fillmode": "overlay",
              "size": 10,
              "solidity": 0.2
             }
            },
            "type": "bar"
           }
          ],
          "barpolar": [
           {
            "marker": {
             "line": {
              "color": "#E5ECF6",
              "width": 0.5
             },
             "pattern": {
              "fillmode": "overlay",
              "size": 10,
              "solidity": 0.2
             }
            },
            "type": "barpolar"
           }
          ],
          "carpet": [
           {
            "aaxis": {
             "endlinecolor": "#2a3f5f",
             "gridcolor": "white",
             "linecolor": "white",
             "minorgridcolor": "white",
             "startlinecolor": "#2a3f5f"
            },
            "baxis": {
             "endlinecolor": "#2a3f5f",
             "gridcolor": "white",
             "linecolor": "white",
             "minorgridcolor": "white",
             "startlinecolor": "#2a3f5f"
            },
            "type": "carpet"
           }
          ],
          "choropleth": [
           {
            "colorbar": {
             "outlinewidth": 0,
             "ticks": ""
            },
            "type": "choropleth"
           }
          ],
          "contour": [
           {
            "colorbar": {
             "outlinewidth": 0,
             "ticks": ""
            },
            "colorscale": [
             [
              0,
              "#0d0887"
             ],
             [
              0.1111111111111111,
              "#46039f"
             ],
             [
              0.2222222222222222,
              "#7201a8"
             ],
             [
              0.3333333333333333,
              "#9c179e"
             ],
             [
              0.4444444444444444,
              "#bd3786"
             ],
             [
              0.5555555555555556,
              "#d8576b"
             ],
             [
              0.6666666666666666,
              "#ed7953"
             ],
             [
              0.7777777777777778,
              "#fb9f3a"
             ],
             [
              0.8888888888888888,
              "#fdca26"
             ],
             [
              1,
              "#f0f921"
             ]
            ],
            "type": "contour"
           }
          ],
          "contourcarpet": [
           {
            "colorbar": {
             "outlinewidth": 0,
             "ticks": ""
            },
            "type": "contourcarpet"
           }
          ],
          "heatmap": [
           {
            "colorbar": {
             "outlinewidth": 0,
             "ticks": ""
            },
            "colorscale": [
             [
              0,
              "#0d0887"
             ],
             [
              0.1111111111111111,
              "#46039f"
             ],
             [
              0.2222222222222222,
              "#7201a8"
             ],
             [
              0.3333333333333333,
              "#9c179e"
             ],
             [
              0.4444444444444444,
              "#bd3786"
             ],
             [
              0.5555555555555556,
              "#d8576b"
             ],
             [
              0.6666666666666666,
              "#ed7953"
             ],
             [
              0.7777777777777778,
              "#fb9f3a"
             ],
             [
              0.8888888888888888,
              "#fdca26"
             ],
             [
              1,
              "#f0f921"
             ]
            ],
            "type": "heatmap"
           }
          ],
          "heatmapgl": [
           {
            "colorbar": {
             "outlinewidth": 0,
             "ticks": ""
            },
            "colorscale": [
             [
              0,
              "#0d0887"
             ],
             [
              0.1111111111111111,
              "#46039f"
             ],
             [
              0.2222222222222222,
              "#7201a8"
             ],
             [
              0.3333333333333333,
              "#9c179e"
             ],
             [
              0.4444444444444444,
              "#bd3786"
             ],
             [
              0.5555555555555556,
              "#d8576b"
             ],
             [
              0.6666666666666666,
              "#ed7953"
             ],
             [
              0.7777777777777778,
              "#fb9f3a"
             ],
             [
              0.8888888888888888,
              "#fdca26"
             ],
             [
              1,
              "#f0f921"
             ]
            ],
            "type": "heatmapgl"
           }
          ],
          "histogram": [
           {
            "marker": {
             "pattern": {
              "fillmode": "overlay",
              "size": 10,
              "solidity": 0.2
             }
            },
            "type": "histogram"
           }
          ],
          "histogram2d": [
           {
            "colorbar": {
             "outlinewidth": 0,
             "ticks": ""
            },
            "colorscale": [
             [
              0,
              "#0d0887"
             ],
             [
              0.1111111111111111,
              "#46039f"
             ],
             [
              0.2222222222222222,
              "#7201a8"
             ],
             [
              0.3333333333333333,
              "#9c179e"
             ],
             [
              0.4444444444444444,
              "#bd3786"
             ],
             [
              0.5555555555555556,
              "#d8576b"
             ],
             [
              0.6666666666666666,
              "#ed7953"
             ],
             [
              0.7777777777777778,
              "#fb9f3a"
             ],
             [
              0.8888888888888888,
              "#fdca26"
             ],
             [
              1,
              "#f0f921"
             ]
            ],
            "type": "histogram2d"
           }
          ],
          "histogram2dcontour": [
           {
            "colorbar": {
             "outlinewidth": 0,
             "ticks": ""
            },
            "colorscale": [
             [
              0,
              "#0d0887"
             ],
             [
              0.1111111111111111,
              "#46039f"
             ],
             [
              0.2222222222222222,
              "#7201a8"
             ],
             [
              0.3333333333333333,
              "#9c179e"
             ],
             [
              0.4444444444444444,
              "#bd3786"
             ],
             [
              0.5555555555555556,
              "#d8576b"
             ],
             [
              0.6666666666666666,
              "#ed7953"
             ],
             [
              0.7777777777777778,
              "#fb9f3a"
             ],
             [
              0.8888888888888888,
              "#fdca26"
             ],
             [
              1,
              "#f0f921"
             ]
            ],
            "type": "histogram2dcontour"
           }
          ],
          "mesh3d": [
           {
            "colorbar": {
             "outlinewidth": 0,
             "ticks": ""
            },
            "type": "mesh3d"
           }
          ],
          "parcoords": [
           {
            "line": {
             "colorbar": {
              "outlinewidth": 0,
              "ticks": ""
             }
            },
            "type": "parcoords"
           }
          ],
          "pie": [
           {
            "automargin": true,
            "type": "pie"
           }
          ],
          "scatter": [
           {
            "fillpattern": {
             "fillmode": "overlay",
             "size": 10,
             "solidity": 0.2
            },
            "type": "scatter"
           }
          ],
          "scatter3d": [
           {
            "line": {
             "colorbar": {
              "outlinewidth": 0,
              "ticks": ""
             }
            },
            "marker": {
             "colorbar": {
              "outlinewidth": 0,
              "ticks": ""
             }
            },
            "type": "scatter3d"
           }
          ],
          "scattercarpet": [
           {
            "marker": {
             "colorbar": {
              "outlinewidth": 0,
              "ticks": ""
             }
            },
            "type": "scattercarpet"
           }
          ],
          "scattergeo": [
           {
            "marker": {
             "colorbar": {
              "outlinewidth": 0,
              "ticks": ""
             }
            },
            "type": "scattergeo"
           }
          ],
          "scattergl": [
           {
            "marker": {
             "colorbar": {
              "outlinewidth": 0,
              "ticks": ""
             }
            },
            "type": "scattergl"
           }
          ],
          "scattermapbox": [
           {
            "marker": {
             "colorbar": {
              "outlinewidth": 0,
              "ticks": ""
             }
            },
            "type": "scattermapbox"
           }
          ],
          "scatterpolar": [
           {
            "marker": {
             "colorbar": {
              "outlinewidth": 0,
              "ticks": ""
             }
            },
            "type": "scatterpolar"
           }
          ],
          "scatterpolargl": [
           {
            "marker": {
             "colorbar": {
              "outlinewidth": 0,
              "ticks": ""
             }
            },
            "type": "scatterpolargl"
           }
          ],
          "scatterternary": [
           {
            "marker": {
             "colorbar": {
              "outlinewidth": 0,
              "ticks": ""
             }
            },
            "type": "scatterternary"
           }
          ],
          "surface": [
           {
            "colorbar": {
             "outlinewidth": 0,
             "ticks": ""
            },
            "colorscale": [
             [
              0,
              "#0d0887"
             ],
             [
              0.1111111111111111,
              "#46039f"
             ],
             [
              0.2222222222222222,
              "#7201a8"
             ],
             [
              0.3333333333333333,
              "#9c179e"
             ],
             [
              0.4444444444444444,
              "#bd3786"
             ],
             [
              0.5555555555555556,
              "#d8576b"
             ],
             [
              0.6666666666666666,
              "#ed7953"
             ],
             [
              0.7777777777777778,
              "#fb9f3a"
             ],
             [
              0.8888888888888888,
              "#fdca26"
             ],
             [
              1,
              "#f0f921"
             ]
            ],
            "type": "surface"
           }
          ],
          "table": [
           {
            "cells": {
             "fill": {
              "color": "#EBF0F8"
             },
             "line": {
              "color": "white"
             }
            },
            "header": {
             "fill": {
              "color": "#C8D4E3"
             },
             "line": {
              "color": "white"
             }
            },
            "type": "table"
           }
          ]
         },
         "layout": {
          "annotationdefaults": {
           "arrowcolor": "#2a3f5f",
           "arrowhead": 0,
           "arrowwidth": 1
          },
          "autotypenumbers": "strict",
          "coloraxis": {
           "colorbar": {
            "outlinewidth": 0,
            "ticks": ""
           }
          },
          "colorscale": {
           "diverging": [
            [
             0,
             "#8e0152"
            ],
            [
             0.1,
             "#c51b7d"
            ],
            [
             0.2,
             "#de77ae"
            ],
            [
             0.3,
             "#f1b6da"
            ],
            [
             0.4,
             "#fde0ef"
            ],
            [
             0.5,
             "#f7f7f7"
            ],
            [
             0.6,
             "#e6f5d0"
            ],
            [
             0.7,
             "#b8e186"
            ],
            [
             0.8,
             "#7fbc41"
            ],
            [
             0.9,
             "#4d9221"
            ],
            [
             1,
             "#276419"
            ]
           ],
           "sequential": [
            [
             0,
             "#0d0887"
            ],
            [
             0.1111111111111111,
             "#46039f"
            ],
            [
             0.2222222222222222,
             "#7201a8"
            ],
            [
             0.3333333333333333,
             "#9c179e"
            ],
            [
             0.4444444444444444,
             "#bd3786"
            ],
            [
             0.5555555555555556,
             "#d8576b"
            ],
            [
             0.6666666666666666,
             "#ed7953"
            ],
            [
             0.7777777777777778,
             "#fb9f3a"
            ],
            [
             0.8888888888888888,
             "#fdca26"
            ],
            [
             1,
             "#f0f921"
            ]
           ],
           "sequentialminus": [
            [
             0,
             "#0d0887"
            ],
            [
             0.1111111111111111,
             "#46039f"
            ],
            [
             0.2222222222222222,
             "#7201a8"
            ],
            [
             0.3333333333333333,
             "#9c179e"
            ],
            [
             0.4444444444444444,
             "#bd3786"
            ],
            [
             0.5555555555555556,
             "#d8576b"
            ],
            [
             0.6666666666666666,
             "#ed7953"
            ],
            [
             0.7777777777777778,
             "#fb9f3a"
            ],
            [
             0.8888888888888888,
             "#fdca26"
            ],
            [
             1,
             "#f0f921"
            ]
           ]
          },
          "colorway": [
           "#636efa",
           "#EF553B",
           "#00cc96",
           "#ab63fa",
           "#FFA15A",
           "#19d3f3",
           "#FF6692",
           "#B6E880",
           "#FF97FF",
           "#FECB52"
          ],
          "font": {
           "color": "#2a3f5f"
          },
          "geo": {
           "bgcolor": "white",
           "lakecolor": "white",
           "landcolor": "#E5ECF6",
           "showlakes": true,
           "showland": true,
           "subunitcolor": "white"
          },
          "hoverlabel": {
           "align": "left"
          },
          "hovermode": "closest",
          "mapbox": {
           "style": "light"
          },
          "paper_bgcolor": "white",
          "plot_bgcolor": "#E5ECF6",
          "polar": {
           "angularaxis": {
            "gridcolor": "white",
            "linecolor": "white",
            "ticks": ""
           },
           "bgcolor": "#E5ECF6",
           "radialaxis": {
            "gridcolor": "white",
            "linecolor": "white",
            "ticks": ""
           }
          },
          "scene": {
           "xaxis": {
            "backgroundcolor": "#E5ECF6",
            "gridcolor": "white",
            "gridwidth": 2,
            "linecolor": "white",
            "showbackground": true,
            "ticks": "",
            "zerolinecolor": "white"
           },
           "yaxis": {
            "backgroundcolor": "#E5ECF6",
            "gridcolor": "white",
            "gridwidth": 2,
            "linecolor": "white",
            "showbackground": true,
            "ticks": "",
            "zerolinecolor": "white"
           },
           "zaxis": {
            "backgroundcolor": "#E5ECF6",
            "gridcolor": "white",
            "gridwidth": 2,
            "linecolor": "white",
            "showbackground": true,
            "ticks": "",
            "zerolinecolor": "white"
           }
          },
          "shapedefaults": {
           "line": {
            "color": "#2a3f5f"
           }
          },
          "ternary": {
           "aaxis": {
            "gridcolor": "white",
            "linecolor": "white",
            "ticks": ""
           },
           "baxis": {
            "gridcolor": "white",
            "linecolor": "white",
            "ticks": ""
           },
           "bgcolor": "#E5ECF6",
           "caxis": {
            "gridcolor": "white",
            "linecolor": "white",
            "ticks": ""
           }
          },
          "title": {
           "x": 0.05
          },
          "xaxis": {
           "automargin": true,
           "gridcolor": "white",
           "linecolor": "white",
           "ticks": "",
           "title": {
            "standoff": 15
           },
           "zerolinecolor": "white",
           "zerolinewidth": 2
          },
          "yaxis": {
           "automargin": true,
           "gridcolor": "white",
           "linecolor": "white",
           "ticks": "",
           "title": {
            "standoff": 15
           },
           "zerolinecolor": "white",
           "zerolinewidth": 2
          }
         }
        },
        "xaxis": {
         "anchor": "y",
         "autorange": true,
         "domain": [
          0,
          1
         ],
         "range": [
          1892.3152107513745,
          2027.6847892486255
         ],
         "title": {
          "text": "År"
         },
         "type": "linear"
        },
        "yaxis": {
         "anchor": "x",
         "autorange": true,
         "domain": [
          0,
          1
         ],
         "range": [
          1021.0320472440947,
          2774.5879527559055
         ],
         "title": {
          "text": "value"
         },
         "type": "linear"
        }
       }
      },
      "image/png": "[encoded data removed]",
      "text/html": [
       "<div>                            <div id=\"b6784e19-eb52-4f7f-86f5-268d172f6379\" class=\"plotly-graph-div\" style=\"height:525px; width:100%;\"></div>            <script type=\"text/javascript\">                require([\"plotly\"], function(Plotly) {                    window.PLOTLYENV=window.PLOTLYENV || {};                                    if (document.getElementById(\"b6784e19-eb52-4f7f-86f5-268d172f6379\")) {                    Plotly.newPlot(                        \"b6784e19-eb52-4f7f-86f5-268d172f6379\",                        [{\"hovertemplate\":\"variable=0<br>\\u00c5r=%{x}<br>value=%{y}<extra></extra>\",\"legendgroup\":\"0\",\"marker\":{\"color\":\"#636efa\",\"symbol\":\"circle\"},\"mode\":\"markers\",\"name\":\"0\",\"orientation\":\"v\",\"showlegend\":true,\"x\":[1900,1901,1902,1903,1904,1905,1906,1907,1908,1909,1910,1911,1912,1913,1914,1915,1916,1917,1918,1919,1920,1921,1922,1923,1924,1925,1926,1927,1928,1929,1930,1931,1932,1933,1934,1935,1936,1937,1938,1939,1940,1941,1942,1943,1944,1945,1946,1947,1948,1949,1950,1951,1952,1953,1954,1955,1956,1957,1958,1959,1960,1961,1962,1963,1964,1965,1966,1967,1968,1969,1970,1971,1972,1973,1974,1975,1976,1977,1978,1979,1980,1981,1982,1983,1984,1985,1986,1987,1988,1989,1990,1991,1992,1993,1994,1995,1996,1997,1998,1999,2000,2001,2002,2003,2004,2005,2006,2007,2008,2009,2010,2011,2012,2013,2014,2015,2016,2017,2018,2019,2020],\"xaxis\":\"x\",\"y\":[1582.21,1377.9499999999998,1567.1799999999998,1906.46,1480.1100000000001,2036.83,1946.82,1601.0300000000002,1679.3500000000001,1739.3099999999997,1431.4699999999998,1712.58,1501.77,1703.94,1885.7899999999997,1138.6000000000001,1680.06,1874.8899999999999,1695.3899999999999,1388.74,1872.6800000000003,2506.97,1686.4099999999999,1915.9499999999998,1724.9,1981.08,1661.2,1499.1100000000001,1715.2,1787.5999999999997,1532.8300000000002,1555.2400000000002,1778.7800000000002,1302.79,2044.97,1714.8399999999997,1601.5,1242.74,2409.64,1636.0299999999997,1531.7200000000003,1297.5300000000002,1775.06,2205.69,1811.5800000000002,1668.2400000000002,1717.5699999999997,1478.73,1928.13,2272.1099999999997,1857.25,1459.02,1651.91,2172.31,1760.4299999999998,1718.4299999999998,1801.88,2160.6299999999997,1481.99,1378.04,1218.8,1863.09,1746.19,1438.4100000000003,2021.98,1369.0900000000001,1600.07,2493.06,1480.8999999999999,1653.3200000000002,1578.4599999999998,2319.7999999999997,1524.23,2353.1200000000003,1735.1299999999999,2246.23,1554.7299999999998,1457.72,1845.3300000000002,1877.76,1731.1599999999999,1831.4700000000003,1884.0500000000002,2639.6400000000003,1559.61,1749.6599999999999,2034.68,1538.22,1887.68,2479.0499999999997,2657.02,1916.1499999999999,2348.17,1744.9599999999998,2042.1600000000003,2013.1200000000001,1286.27,2063.43,2056.74,2138.92,2050.54,1740.2500000000002,1537.9299999999998,1968.76,2107.6099999999997,2295.1400000000003,1824.6100000000001,2410.17,2148.52,1792.11,1349.78,2545.22,2002.5500000000002,1931.7099999999996,1900.64,2414.61,1952.44,2406.23,1899.2299999999998,1906.9499999999998,2028.77],\"yaxis\":\"y\",\"type\":\"scatter\"},{\"hovertemplate\":\"<b>OLS trendline</b><br>value = 3.51735 * \\u00c5r + -5072.33<br>R<sup>2</sup>=0.141084<br><br>variable=0<br>\\u00c5r=%{x}<br>value=%{y} <b>(trend)</b><extra></extra>\",\"legendgroup\":\"0\",\"marker\":{\"color\":\"#636efa\",\"symbol\":\"circle\"},\"mode\":\"lines\",\"name\":\"0\",\"showlegend\":false,\"x\":[1900,1901,1902,1903,1904,1905,1906,1907,1908,1909,1910,1911,1912,1913,1914,1915,1916,1917,1918,1919,1920,1921,1922,1923,1924,1925,1926,1927,1928,1929,1930,1931,1932,1933,1934,1935,1936,1937,1938,1939,1940,1941,1942,1943,1944,1945,1946,1947,1948,1949,1950,1951,1952,1953,1954,1955,1956,1957,1958,1959,1960,1961,1962,1963,1964,1965,1966,1967,1968,1969,1970,1971,1972,1973,1974,1975,1976,1977,1978,1979,1980,1981,1982,1983,1984,1985,1986,1987,1988,1989,1990,1991,1992,1993,1994,1995,1996,1997,1998,1999,2000,2001,2002,2003,2004,2005,2006,2007,2008,2009,2010,2011,2012,2013,2014,2015,2016,2017,2018,2019,2020],\"xaxis\":\"x\",\"y\":[1610.63296843246,1614.1503170302112,1617.6676656279615,1621.1850142257126,1624.7023628234638,1628.219711421215,1631.737060018966,1635.2544086167172,1638.7717572144675,1642.2891058122186,1645.8064544099698,1649.323803007721,1652.841151605472,1656.3585002032223,1659.8758488009735,1663.3931973987246,1666.9105459964758,1670.427894594227,1673.9452431919772,1677.4625917897283,1680.9799403874795,1684.4972889852306,1688.0146375829818,1691.531986180732,1695.0493347784832,1698.5666833762343,1702.0840319739855,1705.6013805717366,1709.1187291694878,1712.636077767238,1716.1534263649892,1719.6707749627403,1723.1881235604915,1726.7054721582426,1730.2228207559929,1733.740169353744,1737.2575179514952,1740.7748665492463,1744.2922151469975,1747.8095637447477,1751.3269123424989,1754.84426094025,1758.3616095380012,1761.8789581357523,1765.3963067335035,1768.9136553312537,1772.4310039290049,1775.948352526756,1779.4657011245072,1782.9830497222583,1786.5003983200086,1790.0177469177597,1793.5350955155109,1797.052444113262,1800.5697927110132,1804.0871413087634,1807.6044899065146,1811.1218385042657,1814.6391871020169,1818.156535699768,1821.6738842975192,1825.1912328952694,1828.7085814930206,1832.2259300907717,1835.7432786885229,1839.260627286274,1842.7779758840243,1846.2953244817754,1849.8126730795266,1853.3300216772777,1856.8473702750289,1860.3647188727791,1863.8820674705303,1867.3994160682814,1870.9167646660326,1874.4341132637837,1877.9514618615349,1881.4688104592851,1884.9861590570363,1888.5035076547874,1892.0208562525386,1895.5382048502897,1899.05555344804,1902.5729020457911,1906.0902506435423,1909.6075992412934,1913.1249478390446,1916.6422964367948,1920.159645034546,1923.6769936322971,1927.1943422300483,1930.7116908277994,1934.2290394255506,1937.7463880233008,1941.263736621052,1944.7810852188031,1948.2984338165543,1951.8157824143054,1955.3331310120557,1958.8504796098068,1962.367828207558,1965.8851768053091,1969.4025254030603,1972.9198740008105,1976.4372225985617,1979.9545711963128,1983.471919794064,1986.9892683918151,1990.5066169895663,1994.0239655873165,1997.5413141850677,2001.0586627828188,2004.57601138057,2008.0933599783211,2011.6107085760714,2015.1280571738225,2018.6454057715737,2022.1627543693248,2025.680102967076,2029.1974515648262,2032.7148001625774],\"yaxis\":\"y\",\"type\":\"scatter\"}],                        {\"template\":{\"data\":{\"histogram2dcontour\":[{\"type\":\"histogram2dcontour\",\"colorbar\":{\"outlinewidth\":0,\"ticks\":\"\"},\"colorscale\":[[0.0,\"#0d0887\"],[0.1111111111111111,\"#46039f\"],[0.2222222222222222,\"#7201a8\"],[0.3333333333333333,\"#9c179e\"],[0.4444444444444444,\"#bd3786\"],[0.5555555555555556,\"#d8576b\"],[0.6666666666666666,\"#ed7953\"],[0.7777777777777778,\"#fb9f3a\"],[0.8888888888888888,\"#fdca26\"],[1.0,\"#f0f921\"]]}],\"choropleth\":[{\"type\":\"choropleth\",\"colorbar\":{\"outlinewidth\":0,\"ticks\":\"\"}}],\"histogram2d\":[{\"type\":\"histogram2d\",\"colorbar\":{\"outlinewidth\":0,\"ticks\":\"\"},\"colorscale\":[[0.0,\"#0d0887\"],[0.1111111111111111,\"#46039f\"],[0.2222222222222222,\"#7201a8\"],[0.3333333333333333,\"#9c179e\"],[0.4444444444444444,\"#bd3786\"],[0.5555555555555556,\"#d8576b\"],[0.6666666666666666,\"#ed7953\"],[0.7777777777777778,\"#fb9f3a\"],[0.8888888888888888,\"#fdca26\"],[1.0,\"#f0f921\"]]}],\"heatmap\":[{\"type\":\"heatmap\",\"colorbar\":{\"outlinewidth\":0,\"ticks\":\"\"},\"colorscale\":[[0.0,\"#0d0887\"],[0.1111111111111111,\"#46039f\"],[0.2222222222222222,\"#7201a8\"],[0.3333333333333333,\"#9c179e\"],[0.4444444444444444,\"#bd3786\"],[0.5555555555555556,\"#d8576b\"],[0.6666666666666666,\"#ed7953\"],[0.7777777777777778,\"#fb9f3a\"],[0.8888888888888888,\"#fdca26\"],[1.0,\"#f0f921\"]]}],\"heatmapgl\":[{\"type\":\"heatmapgl\",\"colorbar\":{\"outlinewidth\":0,\"ticks\":\"\"},\"colorscale\":[[0.0,\"#0d0887\"],[0.1111111111111111,\"#46039f\"],[0.2222222222222222,\"#7201a8\"],[0.3333333333333333,\"#9c179e\"],[0.4444444444444444,\"#bd3786\"],[0.5555555555555556,\"#d8576b\"],[0.6666666666666666,\"#ed7953\"],[0.7777777777777778,\"#fb9f3a\"],[0.8888888888888888,\"#fdca26\"],[1.0,\"#f0f921\"]]}],\"contourcarpet\":[{\"type\":\"contourcarpet\",\"colorbar\":{\"outlinewidth\":0,\"ticks\":\"\"}}],\"contour\":[{\"type\":\"contour\",\"colorbar\":{\"outlinewidth\":0,\"ticks\":\"\"},\"colorscale\":[[0.0,\"#0d0887\"],[0.1111111111111111,\"#46039f\"],[0.2222222222222222,\"#7201a8\"],[0.3333333333333333,\"#9c179e\"],[0.4444444444444444,\"#bd3786\"],[0.5555555555555556,\"#d8576b\"],[0.6666666666666666,\"#ed7953\"],[0.7777777777777778,\"#fb9f3a\"],[0.8888888888888888,\"#fdca26\"],[1.0,\"#f0f921\"]]}],\"surface\":[{\"type\":\"surface\",\"colorbar\":{\"outlinewidth\":0,\"ticks\":\"\"},\"colorscale\":[[0.0,\"#0d0887\"],[0.1111111111111111,\"#46039f\"],[0.2222222222222222,\"#7201a8\"],[0.3333333333333333,\"#9c179e\"],[0.4444444444444444,\"#bd3786\"],[0.5555555555555556,\"#d8576b\"],[0.6666666666666666,\"#ed7953\"],[0.7777777777777778,\"#fb9f3a\"],[0.8888888888888888,\"#fdca26\"],[1.0,\"#f0f921\"]]}],\"mesh3d\":[{\"type\":\"mesh3d\",\"colorbar\":{\"outlinewidth\":0,\"ticks\":\"\"}}],\"scatter\":[{\"fillpattern\":{\"fillmode\":\"overlay\",\"size\":10,\"solidity\":0.2},\"type\":\"scatter\"}],\"parcoords\":[{\"type\":\"parcoords\",\"line\":{\"colorbar\":{\"outlinewidth\":0,\"ticks\":\"\"}}}],\"scatterpolargl\":[{\"type\":\"scatterpolargl\",\"marker\":{\"colorbar\":{\"outlinewidth\":0,\"ticks\":\"\"}}}],\"bar\":[{\"error_x\":{\"color\":\"#2a3f5f\"},\"error_y\":{\"color\":\"#2a3f5f\"},\"marker\":{\"line\":{\"color\":\"#E5ECF6\",\"width\":0.5},\"pattern\":{\"fillmode\":\"overlay\",\"size\":10,\"solidity\":0.2}},\"type\":\"bar\"}],\"scattergeo\":[{\"type\":\"scattergeo\",\"marker\":{\"colorbar\":{\"outlinewidth\":0,\"ticks\":\"\"}}}],\"scatterpolar\":[{\"type\":\"scatterpolar\",\"marker\":{\"colorbar\":{\"outlinewidth\":0,\"ticks\":\"\"}}}],\"histogram\":[{\"marker\":{\"pattern\":{\"fillmode\":\"overlay\",\"size\":10,\"solidity\":0.2}},\"type\":\"histogram\"}],\"scattergl\":[{\"type\":\"scattergl\",\"marker\":{\"colorbar\":{\"outlinewidth\":0,\"ticks\":\"\"}}}],\"scatter3d\":[{\"type\":\"scatter3d\",\"line\":{\"colorbar\":{\"outlinewidth\":0,\"ticks\":\"\"}},\"marker\":{\"colorbar\":{\"outlinewidth\":0,\"ticks\":\"\"}}}],\"scattermapbox\":[{\"type\":\"scattermapbox\",\"marker\":{\"colorbar\":{\"outlinewidth\":0,\"ticks\":\"\"}}}],\"scatterternary\":[{\"type\":\"scatterternary\",\"marker\":{\"colorbar\":{\"outlinewidth\":0,\"ticks\":\"\"}}}],\"scattercarpet\":[{\"type\":\"scattercarpet\",\"marker\":{\"colorbar\":{\"outlinewidth\":0,\"ticks\":\"\"}}}],\"carpet\":[{\"aaxis\":{\"endlinecolor\":\"#2a3f5f\",\"gridcolor\":\"white\",\"linecolor\":\"white\",\"minorgridcolor\":\"white\",\"startlinecolor\":\"#2a3f5f\"},\"baxis\":{\"endlinecolor\":\"#2a3f5f\",\"gridcolor\":\"white\",\"linecolor\":\"white\",\"minorgridcolor\":\"white\",\"startlinecolor\":\"#2a3f5f\"},\"type\":\"carpet\"}],\"table\":[{\"cells\":{\"fill\":{\"color\":\"#EBF0F8\"},\"line\":{\"color\":\"white\"}},\"header\":{\"fill\":{\"color\":\"#C8D4E3\"},\"line\":{\"color\":\"white\"}},\"type\":\"table\"}],\"barpolar\":[{\"marker\":{\"line\":{\"color\":\"#E5ECF6\",\"width\":0.5},\"pattern\":{\"fillmode\":\"overlay\",\"size\":10,\"solidity\":0.2}},\"type\":\"barpolar\"}],\"pie\":[{\"automargin\":true,\"type\":\"pie\"}]},\"layout\":{\"autotypenumbers\":\"strict\",\"colorway\":[\"#636efa\",\"#EF553B\",\"#00cc96\",\"#ab63fa\",\"#FFA15A\",\"#19d3f3\",\"#FF6692\",\"#B6E880\",\"#FF97FF\",\"#FECB52\"],\"font\":{\"color\":\"#2a3f5f\"},\"hovermode\":\"closest\",\"hoverlabel\":{\"align\":\"left\"},\"paper_bgcolor\":\"white\",\"plot_bgcolor\":\"#E5ECF6\",\"polar\":{\"bgcolor\":\"#E5ECF6\",\"angularaxis\":{\"gridcolor\":\"white\",\"linecolor\":\"white\",\"ticks\":\"\"},\"radialaxis\":{\"gridcolor\":\"white\",\"linecolor\":\"white\",\"ticks\":\"\"}},\"ternary\":{\"bgcolor\":\"#E5ECF6\",\"aaxis\":{\"gridcolor\":\"white\",\"linecolor\":\"white\",\"ticks\":\"\"},\"baxis\":{\"gridcolor\":\"white\",\"linecolor\":\"white\",\"ticks\":\"\"},\"caxis\":{\"gridcolor\":\"white\",\"linecolor\":\"white\",\"ticks\":\"\"}},\"coloraxis\":{\"colorbar\":{\"outlinewidth\":0,\"ticks\":\"\"}},\"colorscale\":{\"sequential\":[[0.0,\"#0d0887\"],[0.1111111111111111,\"#46039f\"],[0.2222222222222222,\"#7201a8\"],[0.3333333333333333,\"#9c179e\"],[0.4444444444444444,\"#bd3786\"],[0.5555555555555556,\"#d8576b\"],[0.6666666666666666,\"#ed7953\"],[0.7777777777777778,\"#fb9f3a\"],[0.8888888888888888,\"#fdca26\"],[1.0,\"#f0f921\"]],\"sequentialminus\":[[0.0,\"#0d0887\"],[0.1111111111111111,\"#46039f\"],[0.2222222222222222,\"#7201a8\"],[0.3333333333333333,\"#9c179e\"],[0.4444444444444444,\"#bd3786\"],[0.5555555555555556,\"#d8576b\"],[0.6666666666666666,\"#ed7953\"],[0.7777777777777778,\"#fb9f3a\"],[0.8888888888888888,\"#fdca26\"],[1.0,\"#f0f921\"]],\"diverging\":[[0,\"#8e0152\"],[0.1,\"#c51b7d\"],[0.2,\"#de77ae\"],[0.3,\"#f1b6da\"],[0.4,\"#fde0ef\"],[0.5,\"#f7f7f7\"],[0.6,\"#e6f5d0\"],[0.7,\"#b8e186\"],[0.8,\"#7fbc41\"],[0.9,\"#4d9221\"],[1,\"#276419\"]]},\"xaxis\":{\"gridcolor\":\"white\",\"linecolor\":\"white\",\"ticks\":\"\",\"title\":{\"standoff\":15},\"zerolinecolor\":\"white\",\"automargin\":true,\"zerolinewidth\":2},\"yaxis\":{\"gridcolor\":\"white\",\"linecolor\":\"white\",\"ticks\":\"\",\"title\":{\"standoff\":15},\"zerolinecolor\":\"white\",\"automargin\":true,\"zerolinewidth\":2},\"scene\":{\"xaxis\":{\"backgroundcolor\":\"#E5ECF6\",\"gridcolor\":\"white\",\"linecolor\":\"white\",\"showbackground\":true,\"ticks\":\"\",\"zerolinecolor\":\"white\",\"gridwidth\":2},\"yaxis\":{\"backgroundcolor\":\"#E5ECF6\",\"gridcolor\":\"white\",\"linecolor\":\"white\",\"showbackground\":true,\"ticks\":\"\",\"zerolinecolor\":\"white\",\"gridwidth\":2},\"zaxis\":{\"backgroundcolor\":\"#E5ECF6\",\"gridcolor\":\"white\",\"linecolor\":\"white\",\"showbackground\":true,\"ticks\":\"\",\"zerolinecolor\":\"white\",\"gridwidth\":2}},\"shapedefaults\":{\"line\":{\"color\":\"#2a3f5f\"}},\"annotationdefaults\":{\"arrowcolor\":\"#2a3f5f\",\"arrowhead\":0,\"arrowwidth\":1},\"geo\":{\"bgcolor\":\"white\",\"landcolor\":\"#E5ECF6\",\"subunitcolor\":\"white\",\"showland\":true,\"showlakes\":true,\"lakecolor\":\"white\"},\"title\":{\"x\":0.05},\"mapbox\":{\"style\":\"light\"}}},\"xaxis\":{\"anchor\":\"y\",\"domain\":[0.0,1.0],\"title\":{\"text\":\"\\u00c5r\"}},\"yaxis\":{\"anchor\":\"x\",\"domain\":[0.0,1.0],\"title\":{\"text\":\"value\"}},\"legend\":{\"title\":{\"text\":\"variable\"},\"tracegroupgap\":0},\"margin\":{\"t\":60}},                        {\"responsive\": true}                    ).then(function(){\n",
       "                            \n",
       "var gd = document.getElementById('b6784e19-eb52-4f7f-86f5-268d172f6379');\n",
       "var x = new MutationObserver(function (mutations, observer) {{\n",
       "        var display = window.getComputedStyle(gd).display;\n",
       "        if (!display || display === 'none') {{\n",
       "            console.log([gd, 'removed!']);\n",
       "            Plotly.purge(gd);\n",
       "            observer.disconnect();\n",
       "        }}\n",
       "}});\n",
       "\n",
       "// Listen for the removal of the full notebook cells\n",
       "var notebookContainer = gd.closest('#notebook-container');\n",
       "if (notebookContainer) {{\n",
       "    x.observe(notebookContainer, {childList: true});\n",
       "}}\n",
       "\n",
       "// Listen for the clearing of the current output cell\n",
       "var outputEl = gd.closest('.output');\n",
       "if (outputEl) {{\n",
       "    x.observe(outputEl, {childList: true});\n",
       "}}\n",
       "\n",
       "                        })                };                });            </script>        </div>"
      ]
     },
     "metadata": {},
     "output_type": "display_data"
    }
   ],
   "source": [
    "fig2 = px.scatter(data.loc[1900:].sum(axis=1),trendline=\"ols\")\n",
    "fig2.show()"
   ]
  },
  {
   "cell_type": "code",
   "execution_count": null,
   "id": "14d3e1b9-60eb-4623-bc13-51f3b0c446e5",
   "metadata": {},
   "outputs": [],
   "source": []
  },
  {
   "cell_type": "code",
   "execution_count": null,
   "id": "66eb5c0b-e58e-479a-b8e8-64c2ee9920cd",
   "metadata": {},
   "outputs": [],
   "source": []
  },
  {
   "cell_type": "code",
   "execution_count": 48,
   "id": "d7c3bf20-1ac1-4793-94fb-1303a2c9027f",
   "metadata": {},
   "outputs": [
    {
     "data": {
      "text/html": [
       "<div>\n",
       "<style scoped>\n",
       "    .dataframe tbody tr th:only-of-type {\n",
       "        vertical-align: middle;\n",
       "    }\n",
       "\n",
       "    .dataframe tbody tr th {\n",
       "        vertical-align: top;\n",
       "    }\n",
       "\n",
       "    .dataframe thead th {\n",
       "        text-align: right;\n",
       "    }\n",
       "</style>\n",
       "<table border=\"1\" class=\"dataframe\">\n",
       "  <thead>\n",
       "    <tr style=\"text-align: right;\">\n",
       "      <th></th>\n",
       "      <th>Januar</th>\n",
       "      <th>Februar</th>\n",
       "      <th>Mars</th>\n",
       "      <th>April</th>\n",
       "      <th>Mai</th>\n",
       "      <th>Juni</th>\n",
       "      <th>juli</th>\n",
       "      <th>August</th>\n",
       "      <th>September</th>\n",
       "      <th>Oktober</th>\n",
       "      <th>November</th>\n",
       "      <th>Desember</th>\n",
       "    </tr>\n",
       "    <tr>\n",
       "      <th>År</th>\n",
       "      <th></th>\n",
       "      <th></th>\n",
       "      <th></th>\n",
       "      <th></th>\n",
       "      <th></th>\n",
       "      <th></th>\n",
       "      <th></th>\n",
       "      <th></th>\n",
       "      <th></th>\n",
       "      <th></th>\n",
       "      <th></th>\n",
       "      <th></th>\n",
       "    </tr>\n",
       "  </thead>\n",
       "  <tbody>\n",
       "    <tr>\n",
       "      <th>2016</th>\n",
       "      <td>166.69</td>\n",
       "      <td>209.38</td>\n",
       "      <td>81.96</td>\n",
       "      <td>85.74</td>\n",
       "      <td>69.47</td>\n",
       "      <td>63.37</td>\n",
       "      <td>160.20</td>\n",
       "      <td>235.65</td>\n",
       "      <td>197.97</td>\n",
       "      <td>111.35</td>\n",
       "      <td>202.00</td>\n",
       "      <td>368.66</td>\n",
       "    </tr>\n",
       "    <tr>\n",
       "      <th>2017</th>\n",
       "      <td>240.44</td>\n",
       "      <td>127.86</td>\n",
       "      <td>181.20</td>\n",
       "      <td>181.48</td>\n",
       "      <td>74.92</td>\n",
       "      <td>160.20</td>\n",
       "      <td>134.19</td>\n",
       "      <td>165.36</td>\n",
       "      <td>115.23</td>\n",
       "      <td>348.76</td>\n",
       "      <td>322.32</td>\n",
       "      <td>354.27</td>\n",
       "    </tr>\n",
       "    <tr>\n",
       "      <th>2018</th>\n",
       "      <td>179.15</td>\n",
       "      <td>66.43</td>\n",
       "      <td>47.04</td>\n",
       "      <td>90.62</td>\n",
       "      <td>43.69</td>\n",
       "      <td>98.14</td>\n",
       "      <td>46.55</td>\n",
       "      <td>257.68</td>\n",
       "      <td>455.11</td>\n",
       "      <td>388.10</td>\n",
       "      <td>65.39</td>\n",
       "      <td>161.33</td>\n",
       "    </tr>\n",
       "    <tr>\n",
       "      <th>2019</th>\n",
       "      <td>205.75</td>\n",
       "      <td>114.09</td>\n",
       "      <td>192.81</td>\n",
       "      <td>15.98</td>\n",
       "      <td>111.40</td>\n",
       "      <td>130.36</td>\n",
       "      <td>129.47</td>\n",
       "      <td>220.69</td>\n",
       "      <td>269.53</td>\n",
       "      <td>176.35</td>\n",
       "      <td>35.85</td>\n",
       "      <td>304.67</td>\n",
       "    </tr>\n",
       "    <tr>\n",
       "      <th>2020</th>\n",
       "      <td>399.10</td>\n",
       "      <td>361.69</td>\n",
       "      <td>223.30</td>\n",
       "      <td>158.60</td>\n",
       "      <td>111.20</td>\n",
       "      <td>45.47</td>\n",
       "      <td>181.40</td>\n",
       "      <td>130.66</td>\n",
       "      <td>258.24</td>\n",
       "      <td>159.11</td>\n",
       "      <td>NaN</td>\n",
       "      <td>NaN</td>\n",
       "    </tr>\n",
       "  </tbody>\n",
       "</table>\n",
       "</div>"
      ],
      "text/plain": [
       "      Januar  Februar    Mars   April     Mai    Juni    juli  August  \\\n",
       "År                                                                      \n",
       "2016  166.69   209.38   81.96   85.74   69.47   63.37  160.20  235.65   \n",
       "2017  240.44   127.86  181.20  181.48   74.92  160.20  134.19  165.36   \n",
       "2018  179.15    66.43   47.04   90.62   43.69   98.14   46.55  257.68   \n",
       "2019  205.75   114.09  192.81   15.98  111.40  130.36  129.47  220.69   \n",
       "2020  399.10   361.69  223.30  158.60  111.20   45.47  181.40  130.66   \n",
       "\n",
       "      September  Oktober  November  Desember  \n",
       "År                                            \n",
       "2016     197.97   111.35    202.00    368.66  \n",
       "2017     115.23   348.76    322.32    354.27  \n",
       "2018     455.11   388.10     65.39    161.33  \n",
       "2019     269.53   176.35     35.85    304.67  \n",
       "2020     258.24   159.11       NaN       NaN  "
      ]
     },
     "execution_count": 48,
     "metadata": {},
     "output_type": "execute_result"
    }
   ],
   "source": [
    "data.tail()"
   ]
  },
  {
   "cell_type": "code",
   "execution_count": null,
   "id": "e9e742f0-9044-4532-b865-db739c308131",
   "metadata": {},
   "outputs": [],
   "source": [
    " px.scatter(data['Januar'].iloc[1:],trendline=\"ols\")"
   ]
  },
  {
   "cell_type": "code",
   "execution_count": null,
   "id": "b4df24fa-f62b-4f77-b3a9-54af76035199",
   "metadata": {},
   "outputs": [],
   "source": []
  },
  {
   "cell_type": "code",
   "execution_count": 97,
   "id": "09621b52-8617-49e8-9bf6-8ab343a7c3a8",
   "metadata": {},
   "outputs": [
    {
     "data": {
      "text/plain": [
       "<AxesSubplot:xlabel='År'>"
      ]
     },
     "execution_count": 97,
     "metadata": {},
     "output_type": "execute_result"
    },
    {
     "data": {
      "image/png": "[encoded data removed]",
      "text/plain": [
       "<Figure size 640x480 with 1 Axes>"
      ]
     },
     "metadata": {},
     "output_type": "display_data"
    }
   ],
   "source": []
  },
  {
   "cell_type": "code",
   "execution_count": 154,
   "id": "6bb8f6ba-6ad4-46ee-8854-0320476246e2",
   "metadata": {},
   "outputs": [
    {
     "data": {
      "text/plain": [
       "<AxesSubplot:xlabel='År'>"
      ]
     },
     "execution_count": 154,
     "metadata": {},
     "output_type": "execute_result"
    },
    {
     "data": {
      "image/png": "[encoded data removed]",
      "text/plain": [
       "<Figure size 640x480 with 1 Axes>"
      ]
     },
     "metadata": {},
     "output_type": "display_data"
    }
   ],
   "source": [
    "import matplotlib.pyplot as plt\n",
    "from numpy.polynomial import Polynomial\n",
    "\n",
    "P=Polynomial.fit(data.loc[1960:2019].index, data.loc[1960:2019].sum(axis=1), 1)\n",
    "x=np.linspace(1960,2019,100)\n",
    "plt.plot(x,P(x))\n",
    "\n",
    "data.sum(axis=1).plot()"
   ]
  },
  {
   "cell_type": "code",
   "execution_count": 147,
   "id": "6e2f425f-5a7e-4d6c-bdf4-145574c94f12",
   "metadata": {},
   "outputs": [
    {
     "data": {
      "text/plain": [
       "-4783.329366296719"
      ]
     },
     "execution_count": 147,
     "metadata": {},
     "output_type": "execute_result"
    }
   ],
   "source": []
  },
  {
   "cell_type": "code",
   "execution_count": 153,
   "id": "603bd58a-2875-4d92-a784-7f5e64a43c22",
   "metadata": {},
   "outputs": [
    {
     "data": {
      "text/plain": [
       "Int64Index([1960, 1961, 1962, 1963, 1964, 1965, 1966, 1967, 1968, 1969, 1970,\n",
       "            1971, 1972, 1973, 1974, 1975, 1976, 1977, 1978, 1979, 1980, 1981,\n",
       "            1982, 1983, 1984, 1985, 1986, 1987, 1988, 1989, 1990, 1991, 1992,\n",
       "            1993, 1994, 1995, 1996, 1997, 1998, 1999, 2000, 2001, 2002, 2003,\n",
       "            2004, 2005, 2006, 2007, 2008, 2009, 2010, 2011, 2012, 2013, 2014,\n",
       "            2015, 2016, 2017, 2018, 2019],\n",
       "           dtype='int64', name='År')"
      ]
     },
     "execution_count": 153,
     "metadata": {},
     "output_type": "execute_result"
    }
   ],
   "source": [
    "data.loc[1960:2019].index"
   ]
  },
  {
   "cell_type": "code",
   "execution_count": null,
   "id": "d15a3f1e-532b-4e69-a8b1-b9fa6ef4c483",
   "metadata": {},
   "outputs": [],
   "source": []
  }
 ],
 "metadata": {
  "kernelspec": {
   "display_name": "Python 3 (ipykernel)",
   "language": "python",
   "name": "python3"
  },
  "language_info": {
   "codemirror_mode": {
    "name": "ipython",
    "version": 3
   },
   "file_extension": ".py",
   "mimetype": "text/x-python",
   "name": "python",
   "nbconvert_exporter": "python",
   "pygments_lexer": "ipython3",
   "version": "3.9.13"
  }
 },
 "nbformat": 4,
 "nbformat_minor": 5
}
