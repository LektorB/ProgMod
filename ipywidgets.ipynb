{
 "cells": [
  {
   "cell_type": "markdown",
   "id": "e5351075-b0e5-40ad-a6a4-2e2441e195ff",
   "metadata": {},
   "source": [
    "# Interactive Widgets\n",
    "IPython includes an architecture for interactive widgets that tie together Python code running in the kernel and JavaScript/HTML/CSS running in the browser. These widgets enable users to explore their code and data interactively.\n",
    "\n",
    "Jupyter Widgets are interactive browser controls for Jupyter notebooks. Examples include:\n",
    "\n",
    "* Basic form controls like sliders, checkboxes, text inputs\n",
    "\n",
    "* Container controls like tabs, accordions, horizontal and vertical layout boxes, grid layouts\n",
    "\n",
    "* Advanced controls like maps, 2d and 3d visualizations, datagrids, and more\n",
    "\n",
    "Notebooks come alive when interactive widgets are used. Users can visualize and manipulate their data in intuitive and easy ways. Researchers can easily see how changing inputs to a model impact the results. Scientists can share interactive results with graphical user interfaces that others can play with without seeing code. Exploring, learning, and sharing becomes a fun immersive experience.\n",
    "\n",
    "https://github.com/jupyter-widgets/ipywidgets/blob/74774dae5becb9f4781c3438a5fece1f8ca60415/docs/source/examples/Using%20Interact.ipynb\n",
    "\n"
   ]
  },
  {
   "cell_type": "code",
   "execution_count": 1,
   "id": "d83a5c88-165c-4128-8cd4-1b1e64de86de",
   "metadata": {},
   "outputs": [],
   "source": [
    "import numpy as np\n",
    "import matplotlib.pyplot as plt\n",
    "from ipywidgets import interact, IntSlider, FloatSlider, Play\n",
    "\n",
    "\n"
   ]
  },
  {
   "cell_type": "code",
   "execution_count": 2,
   "id": "fea45a54-caf2-47ac-98ec-1da30d288f4a",
   "metadata": {},
   "outputs": [
    {
     "data": {
      "application/vnd.jupyter.widget-view+json": {
       "model_id": "8833bcb411f64e93bf3534a7a70822ed",
       "version_major": 2,
       "version_minor": 0
      },
      "text/plain": [
       "IntSlider(value=1, max=10)"
      ]
     },
     "metadata": {},
     "output_type": "display_data"
    }
   ],
   "source": [
    "a=IntSlider(value = 1, min = 0, max = 10)\n",
    "a"
   ]
  },
  {
   "cell_type": "code",
   "execution_count": 3,
   "id": "4a9afd99-f5e1-418f-a1d8-e4fc3fbc1c3c",
   "metadata": {},
   "outputs": [
    {
     "name": "stdout",
     "output_type": "stream",
     "text": [
      "IntSlider(value=1, max=10)\n"
     ]
    }
   ],
   "source": [
    "print(a)"
   ]
  },
  {
   "cell_type": "code",
   "execution_count": 4,
   "id": "d68fe15f-0150-416b-a60e-ccead6faa992",
   "metadata": {},
   "outputs": [
    {
     "data": {
      "application/vnd.jupyter.widget-view+json": {
       "model_id": "1007e7bfbff9478ab642d837b17b0a6d",
       "version_major": 2,
       "version_minor": 0
      },
      "text/plain": [
       "interactive(children=(IntSlider(value=1, description='a', max=10), Output()), _dom_classes=('widget-interact',…"
      ]
     },
     "metadata": {},
     "output_type": "display_data"
    }
   ],
   "source": [
    "def f(a):\n",
    "    print(f'verdien til a er: {a}')\n",
    "    \n",
    "interact(f,a=IntSlider(value=1,min =0,max=10));"
   ]
  },
  {
   "cell_type": "code",
   "execution_count": 5,
   "id": "2d0b1e48-adba-4b60-9bac-271dd2124ee6",
   "metadata": {},
   "outputs": [
    {
     "data": {
      "application/vnd.jupyter.widget-view+json": {
       "model_id": "968c5ddef9dd4dca9cbf1f60a9b9e4ea",
       "version_major": 2,
       "version_minor": 0
      },
      "text/plain": [
       "interactive(children=(FloatSlider(value=1.0, description='a', max=5.0, min=-5.0), FloatSlider(value=1.0, descr…"
      ]
     },
     "metadata": {},
     "output_type": "display_data"
    }
   ],
   "source": [
    "# Bruke sliders til å manipulere plott:\n",
    "\n",
    "def plot_line(a,b):\n",
    "    x = np.linspace(-5,5,200)\n",
    "    y = a*x + b\n",
    "    plt.plot(x,y)\n",
    "    plt.ylim(-10,10)\n",
    "\n",
    "interact(plot_line,\n",
    "         a = FloatSlider(value = 1,min=-5,max=5),\n",
    "         b = FloatSlider(value = 1, min=-5, max =5),\n",
    "        );"
   ]
  },
  {
   "cell_type": "markdown",
   "id": "4edf72a1-671b-4e36-98bc-57ce6de2e1c2",
   "metadata": {},
   "source": [
    "<div class=\"alert alert-block alert-info\">\n",
    "<b>Oppgave: </b>undersøk sinusfunksjon ved hjelp av widgets. Du trenger fire. </div>"
   ]
  },
  {
   "cell_type": "code",
   "execution_count": 6,
   "id": "d9314740-1be0-450d-a552-baa696a7d752",
   "metadata": {},
   "outputs": [
    {
     "data": {
      "application/vnd.jupyter.widget-view+json": {
       "model_id": "24e6118f584e4f0da1672cdbc50ceda0",
       "version_major": 2,
       "version_minor": 0
      },
      "text/plain": [
       "interactive(children=(Play(value=0, description='i', max=49), FloatSlider(value=1.0, description='b', max=5.0,…"
      ]
     },
     "metadata": {},
     "output_type": "display_data"
    }
   ],
   "source": [
    "# Bruke sliders til å manipulere plott:\n",
    "\n",
    "def plot_line(i,b):\n",
    "    a=np.linspace(-5,5,50)\n",
    "    x = np.linspace(-5,5,200)\n",
    "    y = a[i]*x + b\n",
    "    plt.plot(x,y)\n",
    "    plt.ylim(-10,10)\n",
    "\n",
    "interact(plot_line,\n",
    "         i = Play(min=0,max=49,interval=100),\n",
    "         b = FloatSlider(value = 1, min=-5, max =5),\n",
    "        );"
   ]
  },
  {
   "cell_type": "code",
   "execution_count": 7,
   "id": "4a5b9412-9e02-4cb9-9ee1-cccf77b5c36e",
   "metadata": {},
   "outputs": [
    {
     "data": {
      "application/vnd.jupyter.widget-view+json": {
       "model_id": "638f52b28b704b689f366f4f23b87e27",
       "version_major": 2,
       "version_minor": 0
      },
      "text/plain": [
       "interactive(children=(Play(value=0, description='i', max=199), Output()), _dom_classes=('widget-interact',))"
      ]
     },
     "metadata": {},
     "output_type": "display_data"
    }
   ],
   "source": [
    "# animere et punkt på grafen:\n",
    "\n",
    "@interact(i=Play(min=0,max=199,intarval=100))\n",
    "def plot_punkt(i):\n",
    "    x=np.linspace(0,4*np.pi,200)\n",
    "    y=np.pi/4*np.cos(x)\n",
    "    plt.plot(x,y)\n",
    "    plt.plot(x[i],y[i],'or')\n",
    "    \n"
   ]
  },
  {
   "cell_type": "code",
   "execution_count": null,
   "id": "5acaa9d0-ac1c-49ca-9dd3-7083a4e40ce7",
   "metadata": {},
   "outputs": [],
   "source": []
  }
 ],
 "metadata": {
  "kernelspec": {
   "display_name": "Python 3 (ipykernel)",
   "language": "python",
   "name": "python3"
  },
  "language_info": {
   "codemirror_mode": {
    "name": "ipython",
    "version": 3
   },
   "file_extension": ".py",
   "mimetype": "text/x-python",
   "name": "python",
   "nbconvert_exporter": "python",
   "pygments_lexer": "ipython3",
   "version": "3.9.12"
  }
 },
 "nbformat": 4,
 "nbformat_minor": 5
}
