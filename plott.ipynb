{
 "cells": [
  {
   "cell_type": "markdown",
   "id": "ee372ac8-331c-4535-8eb6-838e86d0d940",
   "metadata": {},
   "source": [
    "## 3D - plot\n",
    "Vi skal ta utgangspunkt i starten av denne siden:\n",
    "https://jakevdp.github.io/PythonDataScienceHandbook/04.12-three-dimensional-plotting.html"
   ]
  },
  {
   "cell_type": "code",
   "execution_count": null,
   "id": "50faaf9a-a8da-4e61-9083-039f7d425a61",
   "metadata": {},
   "outputs": [],
   "source": []
  },
  {
   "cell_type": "code",
   "execution_count": null,
   "id": "d8e146a4-a39e-4fc0-a6f7-473a9a39ce76",
   "metadata": {},
   "outputs": [],
   "source": [
    "### animere kameravvinkelen"
   ]
  },
  {
   "cell_type": "code",
   "execution_count": null,
   "id": "4757fc41-3f23-4749-a56f-2abea58378ad",
   "metadata": {},
   "outputs": [],
   "source": []
  },
  {
   "cell_type": "markdown",
   "id": "04144877-9ed0-4d07-9608-9948c6fe8b33",
   "metadata": {},
   "source": [
    "### Bruke Ipywidgets til å rotere figur"
   ]
  },
  {
   "cell_type": "code",
   "execution_count": null,
   "id": "97c6bf1c-f577-45c4-b16a-d78be9330753",
   "metadata": {},
   "outputs": [],
   "source": [
    "from ipywidgets import interact, IntSlider\n",
    "@interact(elev=IntSlider(value = 30,min = 0,max =90),\n",
    "          azim=IntSlider(value = 45,min = 0,max = 360),\n",
    "         )"
   ]
  }
 ],
 "metadata": {
  "kernelspec": {
   "display_name": "Python 3 (ipykernel)",
   "language": "python",
   "name": "python3"
  },
  "language_info": {
   "codemirror_mode": {
    "name": "ipython",
    "version": 3
   },
   "file_extension": ".py",
   "mimetype": "text/x-python",
   "name": "python",
   "nbconvert_exporter": "python",
   "pygments_lexer": "ipython3",
   "version": "3.9.12"
  }
 },
 "nbformat": 4,
 "nbformat_minor": 5
}
